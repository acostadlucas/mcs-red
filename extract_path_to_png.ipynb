{
 "cells": [
  {
   "cell_type": "code",
   "execution_count": 1,
   "id": "c3807bfa-319d-41e9-8660-adb02651480f",
   "metadata": {},
   "outputs": [],
   "source": [
    "import os\n",
    "import csv"
   ]
  },
  {
   "cell_type": "code",
   "execution_count": 9,
   "id": "590feef1-e336-46fe-9ef4-9042a22002ab",
   "metadata": {},
   "outputs": [],
   "source": [
    "# Ruta base del proyecto\n",
    "base_dir = os.getcwd()\n",
    "\n",
    "# Ruta al directorio de plots\n",
    "plots_dir = os.path.join(base_dir, 'plots')\n",
    "\n",
    "# Ruta al directorio donde se guardará el CSV\n",
    "data_dir = os.path.join(base_dir, 'data')\n",
    "os.makedirs(data_dir, exist_ok=True)  # crea la carpeta si no existe"
   ]
  },
  {
   "cell_type": "code",
   "execution_count": 10,
   "id": "fd1dac5d-628d-409a-a8dd-2ff304212402",
   "metadata": {},
   "outputs": [],
   "source": [
    "# additional config\n",
    "# Archivo CSV de salida\n",
    "csv_path = os.path.join(data_dir, 'image_paths.csv')\n",
    "\n",
    "# Lista para guardar los paths\n",
    "image_paths = []\n"
   ]
  },
  {
   "cell_type": "code",
   "execution_count": 11,
   "id": "5dea0b58-554c-4397-87b4-2095e95f6891",
   "metadata": {},
   "outputs": [],
   "source": [
    "# Recorrer todos los subdirectorios dentro de plots\n",
    "for country_folder in os.listdir(plots_dir):\n",
    "    country_path = os.path.join(plots_dir, country_folder)\n",
    "    if os.path.isdir(country_path):\n",
    "        for file in os.listdir(country_path):\n",
    "            if file.endswith('.png'):\n",
    "                full_path = os.path.join(country_path, file)\n",
    "                image_paths.append(full_path)"
   ]
  },
  {
   "cell_type": "code",
   "execution_count": 13,
   "id": "ab1fa8d8-df43-4b64-9fa4-901793b95853",
   "metadata": {},
   "outputs": [
    {
     "data": {
      "text/plain": [
       "['C:\\\\Users\\\\lucas\\\\Desktop\\\\mcs-red-personal\\\\plots\\\\Australia\\\\labor_force_Australia.png',\n",
       " 'C:\\\\Users\\\\lucas\\\\Desktop\\\\mcs-red-personal\\\\plots\\\\Australia\\\\livestock_production_index_Australia.png',\n",
       " 'C:\\\\Users\\\\lucas\\\\Desktop\\\\mcs-red-personal\\\\plots\\\\Australia\\\\Percent_agricultural_land_Australia.png',\n",
       " 'C:\\\\Users\\\\lucas\\\\Desktop\\\\mcs-red-personal\\\\plots\\\\Australia\\\\Percent_urban_population_Australia.png',\n",
       " 'C:\\\\Users\\\\lucas\\\\Desktop\\\\mcs-red-personal\\\\plots\\\\Austria\\\\labor_force_Austria.png']"
      ]
     },
     "execution_count": 13,
     "metadata": {},
     "output_type": "execute_result"
    }
   ],
   "source": [
    "image_paths[:5]"
   ]
  },
  {
   "cell_type": "code",
   "execution_count": 14,
   "id": "5be88da0-a006-49fc-8679-ea13abb1d0d6",
   "metadata": {},
   "outputs": [
    {
     "data": {
      "text/plain": [
       "230"
      ]
     },
     "execution_count": 14,
     "metadata": {},
     "output_type": "execute_result"
    }
   ],
   "source": [
    "len(image_paths)"
   ]
  },
  {
   "cell_type": "code",
   "execution_count": 15,
   "id": "c69ebc7f-d1a3-4e29-a82c-f70ad7c471a4",
   "metadata": {},
   "outputs": [
    {
     "name": "stdout",
     "output_type": "stream",
     "text": [
      "📊 Conteo de imágenes por país:\n",
      "\n",
      "🌍 Australia: 4 imágenes\n",
      "🌍 Austria: 4 imágenes\n",
      "🌍 Belgium: 4 imágenes\n",
      "🌍 Brazil: 4 imágenes\n",
      "🌍 Bulgaria: 4 imágenes\n",
      "🌍 Canada: 4 imágenes\n",
      "🌍 Chile: 4 imágenes\n",
      "🌍 China: 4 imágenes\n",
      "🌍 Colombia: 4 imágenes\n",
      "🌍 Croatia: 4 imágenes\n",
      "🌍 Cyprus: 4 imágenes\n",
      "🌍 Czech-Republic: 4 imágenes\n",
      "🌍 Denmark: 4 imágenes\n",
      "🌍 Estonia: 4 imágenes\n",
      "🌍 Finland: 4 imágenes\n",
      "🌍 France: 4 imágenes\n",
      "🌍 Germany: 4 imágenes\n",
      "🌍 Greece: 4 imágenes\n",
      "🌍 Hong-Kong: 3 imágenes\n",
      "🌍 Hungary: 4 imágenes\n",
      "🌍 Iceland: 4 imágenes\n",
      "🌍 India: 4 imágenes\n",
      "🌍 Indonesia: 4 imágenes\n",
      "🌍 Ireland: 4 imágenes\n",
      "🌍 Israel: 3 imágenes\n",
      "🌍 Italy: 4 imágenes\n",
      "🌍 Japan: 4 imágenes\n",
      "🌍 Latvia: 4 imágenes\n",
      "🌍 Lithuania: 4 imágenes\n",
      "🌍 Luxembourg: 4 imágenes\n",
      "🌍 Macedonia: 4 imágenes\n",
      "🌍 Malaysia: 4 imágenes\n",
      "🌍 Malta: 4 imágenes\n",
      "🌍 Mexico: 4 imágenes\n",
      "🌍 Morocco: 4 imágenes\n",
      "🌍 Netherlands: 4 imágenes\n",
      "🌍 New-Zealand: 4 imágenes\n",
      "🌍 Norway: 4 imágenes\n",
      "🌍 Paraguay: 4 imágenes\n",
      "🌍 Peru: 4 imágenes\n",
      "🌍 Philippines: 4 imágenes\n",
      "🌍 Poland: 4 imágenes\n",
      "🌍 Portugal: 4 imágenes\n",
      "🌍 Romania: 4 imágenes\n",
      "🌍 Russia: 4 imágenes\n",
      "🌍 Serbia: 4 imágenes\n",
      "🌍 Singapore: 4 imágenes\n",
      "🌍 Slovakia: 4 imágenes\n",
      "🌍 Slovenia: 4 imágenes\n",
      "🌍 South-Africa: 4 imágenes\n",
      "🌍 South-Korea: 4 imágenes\n",
      "🌍 Spain: 4 imágenes\n",
      "🌍 Sweden: 4 imágenes\n",
      "🌍 Switzerland: 4 imágenes\n",
      "🌍 Thailand: 4 imágenes\n",
      "🌍 Turkey: 4 imágenes\n",
      "🌍 United-Kingdom: 4 imágenes\n",
      "🌍 USA: 4 imágenes\n"
     ]
    }
   ],
   "source": [
    "# Diccionario para guardar el conteo por país\n",
    "conteo_por_pais = {}\n",
    "\n",
    "# Recorrer cada subcarpeta en plots\n",
    "for country_folder in os.listdir(plots_dir):\n",
    "    country_path = os.path.join(plots_dir, country_folder)\n",
    "    if os.path.isdir(country_path):\n",
    "        # Contar archivos .png en la carpeta del país\n",
    "        num_images = sum(\n",
    "            1 for file in os.listdir(country_path)\n",
    "            if file.lower().endswith('.png')\n",
    "        )\n",
    "        conteo_por_pais[country_folder] = num_images\n",
    "\n",
    "# Imprimir resultados\n",
    "print(\"📊 Conteo de imágenes por país:\\n\")\n",
    "for pais, cantidad in conteo_por_pais.items():\n",
    "    print(f\"🌍 {pais}: {cantidad} imágenes\")"
   ]
  },
  {
   "cell_type": "code",
   "execution_count": 16,
   "id": "19561ae2-16ad-4baa-9b94-eba9a4f8c481",
   "metadata": {},
   "outputs": [
    {
     "name": "stdout",
     "output_type": "stream",
     "text": [
      "✅ Se guardaron 230 rutas en C:\\Users\\lucas\\Desktop\\mcs-red-personal\\data\\image_paths.csv\n"
     ]
    }
   ],
   "source": [
    "# Guardar los paths en un archivo CSV\n",
    "with open(csv_path, mode='w', newline='', encoding='utf-8') as f:\n",
    "    writer = csv.writer(f)\n",
    "    writer.writerow(['image_path'])  # encabezado\n",
    "    for path in image_paths:\n",
    "        writer.writerow([path])\n",
    "\n",
    "print(f\"✅ Se guardaron {len(image_paths)} rutas en {csv_path}\")"
   ]
  }
 ],
 "metadata": {
  "kernelspec": {
   "display_name": "Python 3 (ipykernel)",
   "language": "python",
   "name": "python3"
  },
  "language_info": {
   "codemirror_mode": {
    "name": "ipython",
    "version": 3
   },
   "file_extension": ".py",
   "mimetype": "text/x-python",
   "name": "python",
   "nbconvert_exporter": "python",
   "pygments_lexer": "ipython3",
   "version": "3.11.8"
  }
 },
 "nbformat": 4,
 "nbformat_minor": 5
}
