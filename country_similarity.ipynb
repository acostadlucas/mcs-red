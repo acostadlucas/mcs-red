{
 "cells": [
  {
   "cell_type": "code",
   "execution_count": 1,
   "id": "2ffed2ab-2278-4c1a-b800-b78ef1684e9b",
   "metadata": {},
   "outputs": [],
   "source": [
    "import pandas as pd\n",
    "import numpy as np"
   ]
  },
  {
   "cell_type": "code",
   "execution_count": 2,
   "id": "348241c9-d645-404e-ad2c-6b5d32cd218b",
   "metadata": {},
   "outputs": [],
   "source": [
    "# Datos simulados para Paraguay (10 años)\n",
    "paraguay_data = pd.DataFrame({\n",
    "    'GDP': [37.8, 39.6, 40.8, 40.7, 40.3, 42.0, 42.0, 44.0],\n",
    "    'Inflation': [3.6, 4.0, 2.8, 1.8, 4.8, 9.8, 4.6, 3.8 ],\n",
    "    'Labor_Force': [3.07, 3.13, 3.26, 3.33, 3.28, 3.41, 3.39, 3.46],\n",
    "    'Bank_Credit': [41.13, 44.57, 47.73, 50.69, 49.45, 51.00, 52.33, 57.48],\n",
    "    'Urban_Pop': [61.03, 61.30, 61.58, 61.88, 62.18, 62.50, 62.82, 63.15]\n",
    "}, index=pd.date_range(start='2016', periods=8, freq='YE'))\n",
    "\n"
   ]
  },
  {
   "cell_type": "code",
   "execution_count": 3,
   "id": "f4ba3e50-8e92-4f00-83b8-757027fc7425",
   "metadata": {
    "scrolled": true
   },
   "outputs": [
    {
     "data": {
      "text/html": [
       "<div>\n",
       "<style scoped>\n",
       "    .dataframe tbody tr th:only-of-type {\n",
       "        vertical-align: middle;\n",
       "    }\n",
       "\n",
       "    .dataframe tbody tr th {\n",
       "        vertical-align: top;\n",
       "    }\n",
       "\n",
       "    .dataframe thead th {\n",
       "        text-align: right;\n",
       "    }\n",
       "</style>\n",
       "<table border=\"1\" class=\"dataframe\">\n",
       "  <thead>\n",
       "    <tr style=\"text-align: right;\">\n",
       "      <th></th>\n",
       "      <th>GDP</th>\n",
       "      <th>Inflation</th>\n",
       "      <th>Labor_Force</th>\n",
       "      <th>Bank_Credit</th>\n",
       "      <th>Urban_Pop</th>\n",
       "    </tr>\n",
       "  </thead>\n",
       "  <tbody>\n",
       "    <tr>\n",
       "      <th>2016-12-31</th>\n",
       "      <td>37.8</td>\n",
       "      <td>3.6</td>\n",
       "      <td>3.07</td>\n",
       "      <td>41.13</td>\n",
       "      <td>61.03</td>\n",
       "    </tr>\n",
       "    <tr>\n",
       "      <th>2017-12-31</th>\n",
       "      <td>39.6</td>\n",
       "      <td>4.0</td>\n",
       "      <td>3.13</td>\n",
       "      <td>44.57</td>\n",
       "      <td>61.30</td>\n",
       "    </tr>\n",
       "    <tr>\n",
       "      <th>2018-12-31</th>\n",
       "      <td>40.8</td>\n",
       "      <td>2.8</td>\n",
       "      <td>3.26</td>\n",
       "      <td>47.73</td>\n",
       "      <td>61.58</td>\n",
       "    </tr>\n",
       "    <tr>\n",
       "      <th>2019-12-31</th>\n",
       "      <td>40.7</td>\n",
       "      <td>1.8</td>\n",
       "      <td>3.33</td>\n",
       "      <td>50.69</td>\n",
       "      <td>61.88</td>\n",
       "    </tr>\n",
       "    <tr>\n",
       "      <th>2020-12-31</th>\n",
       "      <td>40.3</td>\n",
       "      <td>4.8</td>\n",
       "      <td>3.28</td>\n",
       "      <td>49.45</td>\n",
       "      <td>62.18</td>\n",
       "    </tr>\n",
       "    <tr>\n",
       "      <th>2021-12-31</th>\n",
       "      <td>42.0</td>\n",
       "      <td>9.8</td>\n",
       "      <td>3.41</td>\n",
       "      <td>51.00</td>\n",
       "      <td>62.50</td>\n",
       "    </tr>\n",
       "    <tr>\n",
       "      <th>2022-12-31</th>\n",
       "      <td>42.0</td>\n",
       "      <td>4.6</td>\n",
       "      <td>3.39</td>\n",
       "      <td>52.33</td>\n",
       "      <td>62.82</td>\n",
       "    </tr>\n",
       "    <tr>\n",
       "      <th>2023-12-31</th>\n",
       "      <td>44.0</td>\n",
       "      <td>3.8</td>\n",
       "      <td>3.46</td>\n",
       "      <td>57.48</td>\n",
       "      <td>63.15</td>\n",
       "    </tr>\n",
       "  </tbody>\n",
       "</table>\n",
       "</div>"
      ],
      "text/plain": [
       "             GDP  Inflation  Labor_Force  Bank_Credit  Urban_Pop\n",
       "2016-12-31  37.8        3.6         3.07        41.13      61.03\n",
       "2017-12-31  39.6        4.0         3.13        44.57      61.30\n",
       "2018-12-31  40.8        2.8         3.26        47.73      61.58\n",
       "2019-12-31  40.7        1.8         3.33        50.69      61.88\n",
       "2020-12-31  40.3        4.8         3.28        49.45      62.18\n",
       "2021-12-31  42.0        9.8         3.41        51.00      62.50\n",
       "2022-12-31  42.0        4.6         3.39        52.33      62.82\n",
       "2023-12-31  44.0        3.8         3.46        57.48      63.15"
      ]
     },
     "execution_count": 3,
     "metadata": {},
     "output_type": "execute_result"
    }
   ],
   "source": [
    "paraguay_data"
   ]
  },
  {
   "cell_type": "code",
   "execution_count": 5,
   "id": "ef76d2be-6a15-40a2-b608-a51f2cd78e52",
   "metadata": {},
   "outputs": [],
   "source": [
    "    candidatos_data = {\n",
    "        'Brazil': pd.DataFrame({\n",
    "            'GDP': [1743.2, 1766.2, 1797.7, 1819.7, 1760.1, 1843.9, 1899.5, 1954.8],\n",
    "            'Inflation': [3.40, 3.70, 3.70, 3.20, 8.30, 9.30, 4.60, 4.40],\n",
    "            'Labor_Force': [101.2, 102.9, 104.1, 105.9, 99.69, 103.8, 106.3, 106.1],\n",
    "            'Bank_Credit': [59.48, 60.22, 62.79, 68.70, 68.81, 70.61, 71.08, 75.84],\n",
    "            'Urban_Pop': [86.04, 86.31, 86.57, 86.82, 87.07, 87.32, 87.56, 87.79]\n",
    "        }, index=pd.date_range(start='2016', periods=8, freq='YE')),\n",
    "    \n",
    "        'Chile': pd.DataFrame({\n",
    "            'GDP': [2.20, 2.40, 2.60, 3.00, 4.50, 11.60, 7.60, 4.30],\n",
    "            'Inflation': [2.20, 2.40, 2.60, 3.00, 4.50, 11.60, 7.60, 4.30],\n",
    "            'Labor_Force': [8.76, 8.97, 9.16, 9.31, 8.91, 9.17, 9.67, 9.96],\n",
    "            'Bank_Credit': [78.82, 82.05, 87.36, 88.25, 81.03, 82.85, 79.90, 74.94],\n",
    "            'Urban_Pop': [87.42, 87.49, 87.56, 87.64, 87.73, 87.82, 87.91, 88.01]\n",
    "        }, index=pd.date_range(start='2016', periods=8, freq='YE')),\n",
    "        \n",
    "        'Colombia': pd.DataFrame({\n",
    "            'GDP': [4.30, 3.20, 3.50, 2.50, 3.50, 10.20, 11.70, 6.60],\n",
    "            'Inflation': [4.30, 3.20, 3.50, 2.50, 3.50, 10.20, 11.70, 6.60],\n",
    "            'Labor_Force': [23.97, 24.37, 24.73, 25.00, 25.15, 25.92, 25.83, 26.29],\n",
    "            'Bank_Credit': [49.79, 45.86, 46.02, 51.98, 47.89, 44.17, 41.64, 39.54],\n",
    "            'Urban_Pop': [80.11, 80.45, 80.78, 81.10, 81.43, 81.74, 82.05, 82.35]\n",
    "        }, index=pd.date_range(start='2016', periods=8, freq='YE')),\n",
    "    \n",
    "        'Mexico': pd.DataFrame({\n",
    "            'GDP': [6.00, 4.90, 3.60, 3.40, 5.70, 7.90, 5.50, 4.70],\n",
    "            'Inflation': [6.00, 4.90, 3.60, 3.40, 5.70, 7.90, 5.50, 4.70],\n",
    "            'Labor_Force': [53.56, 54.17, 55.19, 56.66, 53.01, 56.88, 58.60, 59.93],\n",
    "            'Bank_Credit': [26.16, 26.08, 27.77, 27.67, 26.12, 26.00, 25.34, 26.62],\n",
    "            'Urban_Pop': [79.58, 79.87, 80.16, 80.44, 80.73, 81.02, 81.30, 81.58]\n",
    "        }, index=pd.date_range(start='2016', periods=8, freq='YE')),\n",
    "    \n",
    "        'Peru': pd.DataFrame({\n",
    "            'GDP': [197.3, 202.3, 210.3, 215.0, 191.5, 217.1, 223.0, 221.8],\n",
    "            'Inflation': [3.00, 1.50, 2.30, 2.00, 4.30, 8.30, 6.50, 2.00],\n",
    "            'Labor_Force': [16.94, 17.65, 18.12, 18.60, 16.86, 17.85, 18.26, 18.58],\n",
    "            'Bank_Credit': [43.87, 42.81, 42.41, 43.90, 44.72, 55.31, 47.13, 45.67],\n",
    "            'Urban_Pop': [77.54, 77.72, 77.91, 78.10,78.30, 78.50, 78.71, 78.92]\n",
    "        }, index=pd.date_range(start='2016', periods=8, freq='YE')),\n",
    "    \n",
    "        'United Arab': pd.DataFrame({\n",
    "            'GDP': [390.9, 393.7, 398.9, 403.3, 383.3, 400.0, 431.4, 446.1],\n",
    "            'Inflation': [2.00, 3.10, -1.90, -2.10, 0.20, 5.30, 1.60, 1.70],\n",
    "            'Labor_Force': [6.02, 6.26, 6.38, 6.49, 6.44, 6.50, 6.93, 7.25],\n",
    "            'Bank_Credit': [77.23, 73.44, 75.51, 87.92, 75.15, 64.65, 67.16, 69.90],\n",
    "            'Urban_Pop': [85.96, 86.25, 86.52, 86.79, 87.05, 87.30, 87.54, 87.78]\n",
    "        }, index=pd.date_range(start='2016', periods=8, freq='YE')),\n",
    "    \n",
    "        'Turkey': pd.DataFrame({\n",
    "            'GDP': [859.0, 779.0, 761.0, 720.3, 819.9, 907.1, 1118.3, 1323.3],\n",
    "            'Inflation': [11.10, 16.30, 15.20, 12.30, 19.60, 72.30, 53.90, 58.50],\n",
    "            'Labor_Force': [31.49, 32.51, 33.27, 33.66, 31.75, 33.49, 35.10, 35.59],\n",
    "            'Bank_Credit': [65.94, 63.13, 61.83, 70.90, 66.07, 48.35, 43.34, 36.96],\n",
    "            'Urban_Pop': [74.13, 74.64, 75.14, 75.63, 76.11, 76.57, 77.02, 77.46]\n",
    "        }, index=pd.date_range(start='2016', periods=8, freq='YE')),\n",
    "    \n",
    "        'Estonia': pd.DataFrame({\n",
    "            'GDP': [23.60, 25.00, 25.90, 27.00, 26.70, 28.60, 28.50, 27.70],\n",
    "            'Inflation': [3.40, 3.40, 2.30, -0.40, 4.70, 19.40, 9.20, 3.50],\n",
    "            'Labor_Force': [0.69, 0.70, 0.70, 0.70, 0.70, 0.70, 0.74, 0.76],\n",
    "            'Bank_Credit': [62.57, 60.75, 58.23, 62.46, 59.28, 57.00, 57.91, 61.05],\n",
    "            'Urban_Pop': [68.56, 68.72, 68.88, 69.05, 69.23, 69.42, 69.61, 69.81]\n",
    "        }, index=pd.date_range(start='2016', periods=8, freq='YE')),\n",
    "    }\n"
   ]
  },
  {
   "cell_type": "code",
   "execution_count": 9,
   "id": "b2060538-4ae8-4b27-928d-e6f4deffa0fa",
   "metadata": {},
   "outputs": [],
   "source": [
    "class SimilitudPaises:\n",
    "    def __init__(self):\n",
    "        self.indicadores = ['GDP', 'Inflation', 'Labor_Force', 'Bank_Credit', 'Urban_Pop']\n",
    "    \n",
    "    def calcular_metricas_pais(self, data):\n",
    "        metricas = {}\n",
    "        for indicador in self.indicadores:\n",
    "            serie = data[indicador]\n",
    "            log_serie = np.sign(serie) * np.log(np.abs(serie))\n",
    "            metricas[f'{indicador}_volatility'] = np.std(np.diff(log_serie))\n",
    "            metricas[f'{indicador}_cv'] = np.std(serie) / np.mean(serie)\n",
    "            metricas[f'{indicador}_trend'] = np.polyfit(range(len(serie)), serie, 1)[0]\n",
    "        return metricas\n",
    "    \n",
    "    def ranking_similitud(self, paraguay_data, candidatos_data):\n",
    "        py_metricas = self.calcular_metricas_pais(paraguay_data)\n",
    "        \n",
    "        rankings = {}\n",
    "        for pais, data in candidatos_data.items():\n",
    "            pais_metricas = self.calcular_metricas_pais(data)\n",
    "            \n",
    "            # Correlación entre vectores de métricas\n",
    "            py_vector = list(py_metricas.values())\n",
    "            pais_vector = list(pais_metricas.values())\n",
    "            \n",
    "            similitud = np.corrcoef(py_vector, pais_vector)[0,1]\n",
    "            rankings[pais] = similitud\n",
    "        \n",
    "        return sorted(rankings.items(), key=lambda x: x[1], reverse=True)"
   ]
  },
  {
   "cell_type": "code",
   "execution_count": 10,
   "id": "26a516d0-a155-45bd-ae79-d314d12567f5",
   "metadata": {},
   "outputs": [],
   "source": [
    "sim_country = SimilitudPaises()"
   ]
  },
  {
   "cell_type": "code",
   "execution_count": 11,
   "id": "b3911d92-e8e4-411e-be79-bb73e9449181",
   "metadata": {},
   "outputs": [
    {
     "data": {
      "text/plain": [
       "[('Peru', np.float64(0.48833627354761877)),\n",
       " ('Brazil', np.float64(0.29095745628921665)),\n",
       " ('Turkey', np.float64(0.15647239155865733)),\n",
       " ('United Arab', np.float64(0.05867767195283445)),\n",
       " ('Estonia', np.float64(0.002084375854762133)),\n",
       " ('Mexico', np.float64(-0.2409981588576301)),\n",
       " ('Chile', np.float64(-0.3230445423426889)),\n",
       " ('Colombia', np.float64(-0.481635718281649))]"
      ]
     },
     "execution_count": 11,
     "metadata": {},
     "output_type": "execute_result"
    }
   ],
   "source": [
    "sim_country.ranking_similitud(paraguay_data, candidatos_data)"
   ]
  },
  {
   "cell_type": "code",
   "execution_count": 12,
   "id": "79dbc564-4786-4ac1-aa21-4062865e011d",
   "metadata": {},
   "outputs": [],
   "source": [
    "import matplotlib.pyplot as plt\n",
    "import seaborn as sns"
   ]
  },
  {
   "cell_type": "code",
   "execution_count": 13,
   "id": "2c0e282a-3313-45a0-93ac-1b8914f32ce7",
   "metadata": {},
   "outputs": [
    {
     "data": {
      "image/png": "[encoded data removed]",
      "text/plain": [
       "<Figure size 1000x600 with 2 Axes>"
      ]
     },
     "metadata": {},
     "output_type": "display_data"
    }
   ],
   "source": [
    "# Obtener el ranking\n",
    "ranking = sim_country.ranking_similitud(paraguay_data, candidatos_data)\n",
    "\n",
    "# Convertir a DataFrame para visualización\n",
    "ranking_df = pd.DataFrame(ranking, columns=['País', 'Similitud'])\n",
    "ranking_df.set_index('País', inplace=True)\n",
    "\n",
    "# Crear el heatmap\n",
    "plt.figure(figsize=(10, 6))\n",
    "sns.heatmap(ranking_df.T, annot=True, cmap='coolwarm', center=0, fmt=\".2f\")\n",
    "\n",
    "plt.title('Similitud Económica con Paraguay')\n",
    "plt.yticks(rotation=0)\n",
    "plt.xticks(rotation=45)\n",
    "plt.tight_layout()\n",
    "plt.show()"
   ]
  },
  {
   "cell_type": "code",
   "execution_count": null,
   "id": "48d03bef-d063-404e-b645-2ace6390369a",
   "metadata": {},
   "outputs": [],
   "source": []
  }
 ],
 "metadata": {
  "kernelspec": {
   "display_name": "Python 3 (ipykernel)",
   "language": "python",
   "name": "python3"
  },
  "language_info": {
   "codemirror_mode": {
    "name": "ipython",
    "version": 3
   },
   "file_extension": ".py",
   "mimetype": "text/x-python",
   "name": "python",
   "nbconvert_exporter": "python",
   "pygments_lexer": "ipython3",
   "version": "3.11.8"
  }
 },
 "nbformat": 4,
 "nbformat_minor": 5
}
