{
 "cells": [
  {
   "cell_type": "code",
   "execution_count": 1,
   "id": "6826b7fa-5df0-4bd7-970a-07f196eb12af",
   "metadata": {},
   "outputs": [
    {
     "ename": "ModuleNotFoundError",
     "evalue": "No module named 'scipy'",
     "output_type": "error",
     "traceback": [
      "\u001b[31m---------------------------------------------------------------------------\u001b[39m",
      "\u001b[31mModuleNotFoundError\u001b[39m                       Traceback (most recent call last)",
      "\u001b[36mCell\u001b[39m\u001b[36m \u001b[39m\u001b[32mIn[1]\u001b[39m\u001b[32m, line 2\u001b[39m\n\u001b[32m      1\u001b[39m \u001b[38;5;28;01mimport\u001b[39;00m\u001b[38;5;250m \u001b[39m\u001b[34;01mnumpy\u001b[39;00m\u001b[38;5;250m \u001b[39m\u001b[38;5;28;01mas\u001b[39;00m\u001b[38;5;250m \u001b[39m\u001b[34;01mnp\u001b[39;00m\n\u001b[32m----> \u001b[39m\u001b[32m2\u001b[39m \u001b[38;5;28;01mfrom\u001b[39;00m\u001b[38;5;250m \u001b[39m\u001b[34;01mscipy\u001b[39;00m\u001b[34;01m.\u001b[39;00m\u001b[34;01moptimize\u001b[39;00m\u001b[38;5;250m \u001b[39m\u001b[38;5;28;01mimport\u001b[39;00m lsq_linear\n",
      "\u001b[31mModuleNotFoundError\u001b[39m: No module named 'scipy'"
     ]
    }
   ],
   "source": [
    "import numpy as np\n",
    "from scipy.optimize import lsq_linear"
   ]
  },
  {
   "cell_type": "code",
   "execution_count": 13,
   "id": "c9ee4ec0-a056-43ba-b5cd-39b61e25b19d",
   "metadata": {},
   "outputs": [],
   "source": [
    "# Matriz A (8 ecuaciones, 4 variables: x, y, z, w)\n",
    "A = np.array([\n",
    "    [0.04, 0.21, 0.33, 0.42],\n",
    "    [0.08, 0.25, 0.54, 0.13],\n",
    "    [0.06, 0.43, 0.51, 0.00],\n",
    "    [0.00, 0.75, 0.08, 0.17],\n",
    "    [0.06, 0.50, 0.44, 0.00],\n",
    "    [0.17, 0.42, 0.33, 0.08],\n",
    "    [0.17, 0.54, 0.25, 0.04],\n",
    "    [0.15, 0.58, 0.27, 0.00]\n",
    "])"
   ]
  },
  {
   "cell_type": "code",
   "execution_count": 14,
   "id": "6aa5ccb2-f3b5-466c-85d4-b9b88b85d1cb",
   "metadata": {},
   "outputs": [],
   "source": [
    "# Vector b (resultados deseados)\n",
    "b = np.array([0.13, 0.09, 0.07, 0.07, 0.07, 0.07, 0.06, 0.06])"
   ]
  },
  {
   "cell_type": "code",
   "execution_count": 15,
   "id": "e45fb533-ffbf-4dc5-b103-2a0e4f606a2d",
   "metadata": {},
   "outputs": [],
   "source": [
    "# Resolver con mínimos cuadrados restringido (x, y, z, w ≥ 0)\n",
    "resultado = lsq_linear(A, b, bounds=(0, np.inf))"
   ]
  },
  {
   "cell_type": "code",
   "execution_count": 17,
   "id": "ddd75c24-a168-424f-b121-b3a7dee91d68",
   "metadata": {},
   "outputs": [
    {
     "name": "stdout",
     "output_type": "stream",
     "text": [
      "x = 0.036660\n",
      "y = 0.040328\n",
      "z = 0.100409\n",
      "w = 0.200841\n"
     ]
    }
   ],
   "source": [
    "# Extraer solución\n",
    "solucion = resultado.x\n",
    "variables = ['x', 'y', 'z', 'w']\n",
    "for nombre, valor in zip(variables, solucion):\n",
    "    print(f\"{nombre} = {valor:.6f}\")"
   ]
  },
  {
   "cell_type": "code",
   "execution_count": 18,
   "id": "f6de9997-175a-48cf-8adf-f3f4ed75df4c",
   "metadata": {},
   "outputs": [
    {
     "name": "stdout",
     "output_type": "stream",
     "text": [
      "\n",
      "Verificación (A @ solución):\n",
      "[0.12742349 0.09334489 0.07074916 0.07242187 0.06654353 0.07237217\n",
      " 0.06114522 0.05599968]\n"
     ]
    }
   ],
   "source": [
    "# Verificación\n",
    "print(\"\\nVerificación (A @ solución):\")\n",
    "aproximacion = A @ solucion\n",
    "print(aproximacion)"
   ]
  },
  {
   "cell_type": "code",
   "execution_count": 19,
   "id": "6d8ef25f-854d-4313-8bd7-8c3644a4a6d6",
   "metadata": {},
   "outputs": [
    {
     "name": "stdout",
     "output_type": "stream",
     "text": [
      "\n",
      "Error absoluto por ecuación:\n",
      "[0.00257651 0.00334489 0.00074916 0.00242187 0.00345647 0.00237217\n",
      " 0.00114522 0.00400032]\n"
     ]
    }
   ],
   "source": [
    "print(\"\\nError absoluto por ecuación:\")\n",
    "print(np.abs(aproximacion - b))"
   ]
  },
  {
   "cell_type": "code",
   "execution_count": 23,
   "id": "5b0846ae-009e-461d-b8d3-d96ec5afdfe9",
   "metadata": {},
   "outputs": [],
   "source": [
    "# Matriz C (8 ecuaciones, 4 variables: x, y, z, w)\n",
    "C = np.array([\n",
    "    [0.04, 0.21, 0.33, 0.42],\n",
    "    [0.08, 0.25, 0.54, 0.13],\n",
    "    [0.06, 0.43, 0.51, 0.00],\n",
    "    [0.00, 0.75, 0.08, 0.17]\n",
    "])"
   ]
  },
  {
   "cell_type": "code",
   "execution_count": 21,
   "id": "ece9a140-b6b6-476a-99b4-c56fb29f102e",
   "metadata": {},
   "outputs": [],
   "source": [
    "# Vector d (resultados deseados)\n",
    "d = np.array([0.13, 0.09, 0.07, 0.07])"
   ]
  },
  {
   "cell_type": "code",
   "execution_count": 24,
   "id": "2159ad1d-dd03-456b-9ee6-996058c9b22d",
   "metadata": {},
   "outputs": [],
   "source": [
    "# Resolver con mínimos cuadrados restringido (x, y, z, w ≥ 0)\n",
    "resultado = lsq_linear(C, d, bounds=(0, np.inf))"
   ]
  },
  {
   "cell_type": "code",
   "execution_count": 25,
   "id": "09a12656-8db9-4af4-b6ad-1537df9078a6",
   "metadata": {},
   "outputs": [
    {
     "name": "stdout",
     "output_type": "stream",
     "text": [
      "x = 0.000000\n",
      "y = 0.035800\n",
      "z = 0.103758\n",
      "w = 0.208094\n"
     ]
    }
   ],
   "source": [
    "# Extraer solución\n",
    "solucion = resultado.x\n",
    "variables = ['x', 'y', 'z', 'w']\n",
    "for nombre, valor in zip(variables, solucion):\n",
    "    print(f\"{nombre} = {valor:.6f}\")"
   ]
  },
  {
   "cell_type": "code",
   "execution_count": null,
   "id": "b282ab22-2088-4216-9f53-bbb861d57c18",
   "metadata": {},
   "outputs": [],
   "source": []
  }
 ],
 "metadata": {
  "kernelspec": {
   "display_name": "Python 3 (ipykernel)",
   "language": "python",
   "name": "python3"
  },
  "language_info": {
   "codemirror_mode": {
    "name": "ipython",
    "version": 3
   },
   "file_extension": ".py",
   "mimetype": "text/x-python",
   "name": "python",
   "nbconvert_exporter": "python",
   "pygments_lexer": "ipython3",
   "version": "3.11.8"
  }
 },
 "nbformat": 4,
 "nbformat_minor": 5
}
