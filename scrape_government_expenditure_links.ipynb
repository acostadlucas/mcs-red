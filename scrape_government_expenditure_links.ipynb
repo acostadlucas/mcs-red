{
 "cells": [
  {
   "cell_type": "code",
   "execution_count": 1,
   "id": "2d347ade-c4ec-4069-b702-5aebaa94b76c",
   "metadata": {},
   "outputs": [],
   "source": [
    "import requests\n",
    "from bs4 import BeautifulSoup"
   ]
  },
  {
   "cell_type": "code",
   "execution_count": 2,
   "id": "0efe9d60-cb50-4daf-b591-c976b32fb803",
   "metadata": {},
   "outputs": [],
   "source": [
    "# 1. Obtener el HTML de la página del ranking\n",
    "url = \n",
    "headers = {\n",
    "    \"User-Agent\": \"Mozilla/5.0 (Windows NT 10.0; Win64; x64) AppleWebKit/537.36 (KHTML, like Gecko) Chrome/138.0.0.0 Safari/537.36\"\n",
    "}\n",
    "\n",
    "response = requests.get(url, headers=headers)\n",
    "response.raise_for_status()  # Lanza error si la petición falla"
   ]
  },
  {
   "cell_type": "code",
   "execution_count": 3,
   "id": "4f2fc45a-b4f6-4bf8-9199-b8fa96d6b224",
   "metadata": {},
   "outputs": [],
   "source": [
    "# 2. Parsear HTML con BeautifulSoup\n",
    "soup = BeautifulSoup(response.text, \"html.parser\")"
   ]
  },
  {
   "cell_type": "code",
   "execution_count": 4,
   "id": "7e36b8df-b23c-4ab8-9cf6-4fd2d1efc24d",
   "metadata": {},
   "outputs": [],
   "source": [
    "# 3. Buscar la tabla principal y extraer los links\n",
    "table = soup.find(\"table\")\n",
    "country_links = []\n",
    "\n",
    "if table:\n",
    "    rows = table.find_all(\"tr\")\n",
    "    for row in rows:\n",
    "        cell = row.find(\"td\")\n",
    "        if cell and cell.a:\n",
    "            relative_link = cell.a[\"href\"]\n",
    "            full_url = f\"{relative_link}\"\n",
    "            country_links.append(full_url)"
   ]
  },
  {
   "cell_type": "code",
   "execution_count": null,
   "id": "f609dd53-9159-4699-a69e-261eb4fdbc8e",
   "metadata": {},
   "outputs": [],
   "source": []
  }
 ],
 "metadata": {
  "kernelspec": {
   "display_name": "Python 3 (ipykernel)",
   "language": "python",
   "name": "python3"
  },
  "language_info": {
   "codemirror_mode": {
    "name": "ipython",
    "version": 3
   },
   "file_extension": ".py",
   "mimetype": "text/x-python",
   "name": "python",
   "nbconvert_exporter": "python",
   "pygments_lexer": "ipython3",
   "version": "3.11.8"
  }
 },
 "nbformat": 4,
 "nbformat_minor": 5
}
