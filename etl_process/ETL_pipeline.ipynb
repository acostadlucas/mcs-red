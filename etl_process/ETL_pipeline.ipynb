{
 "cells": [
  {
   "cell_type": "markdown",
   "id": "977c91ec-504a-4ad4-99ec-01881c0d032f",
   "metadata": {},
   "source": [
    "# Dependencies, functions and configurations"
   ]
  },
  {
   "cell_type": "code",
   "execution_count": 1,
   "id": "7ad3bd1b-9550-4280-a4dc-cf661d2d79c0",
   "metadata": {},
   "outputs": [],
   "source": [
    "from ollama import chat\n",
    "import time\n",
    "import os\n",
    "import re\n",
    "import pandas as pd\n",
    "from dotenv import load_dotenv\n",
    "from collections import defaultdict\n",
    "import csv\n",
    "from datetime import datetime"
   ]
  },
  {
   "cell_type": "code",
   "execution_count": 2,
   "id": "aaf6e4a8-2911-44ce-9c48-c0c92f99d0ae",
   "metadata": {},
   "outputs": [],
   "source": [
    "load_dotenv()\n",
    "the_wizard = os.getenv(\"WIZARD\")\n",
    "the_spell = os.getenv(\"LEVIOSA\")"
   ]
  },
  {
   "cell_type": "code",
   "execution_count": 3,
   "id": "ab628338-8f65-4529-8bc7-45bc0be91d58",
   "metadata": {},
   "outputs": [],
   "source": [
    "def log_performance(start_time, end_time, image_count, log_csv='performance_log.csv'):\n",
    "    duration = end_time - start_time\n",
    "    log_data = {\n",
    "        'date': datetime.now().strftime('%Y-%m-%d %H:%M:%S'),\n",
    "        'image_count': image_count,\n",
    "        'duration_seconds': round(duration, 2)\n",
    "    }\n",
    "\n",
    "    file_exists = os.path.isfile(log_csv)\n",
    "    with open(log_csv, 'a', newline='') as csvfile:\n",
    "        writer = csv.DictWriter(csvfile, fieldnames=log_data.keys())\n",
    "        if not file_exists:\n",
    "            writer.writeheader()\n",
    "        writer.writerow(log_data)"
   ]
  },
  {
   "cell_type": "code",
   "execution_count": 4,
   "id": "81d77eff-ec90-45ee-a156-ab7080761930",
   "metadata": {},
   "outputs": [],
   "source": [
    "def load_image_paths(csv_path):\n",
    "    return pd.read_csv(csv_path)['image_path'].tolist()"
   ]
  },
  {
   "cell_type": "code",
   "execution_count": 5,
   "id": "718f980d-ab98-4255-8190-2fd654b32ff2",
   "metadata": {},
   "outputs": [],
   "source": [
    "def load_processed_paths(processed_csv):\n",
    "    if os.path.exists(processed_csv):\n",
    "        return set(pd.read_csv(processed_csv)['path'].tolist())\n",
    "    return set()"
   ]
  },
  {
   "cell_type": "code",
   "execution_count": 6,
   "id": "8d5724a6-1425-416b-b1b2-8cb73bcc391a",
   "metadata": {},
   "outputs": [],
   "source": [
    "def save_processed_paths(processed_csv, new_paths):\n",
    "    df = pd.DataFrame({'path': list(new_paths)})\n",
    "    if os.path.exists(processed_csv):\n",
    "        existing = pd.read_csv(processed_csv)\n",
    "        df = pd.concat([existing, df], ignore_index=True).drop_duplicates()\n",
    "    df.to_csv(processed_csv, index=False)"
   ]
  },
  {
   "cell_type": "code",
   "execution_count": 7,
   "id": "db113b12-b505-4560-8526-fa0bef03d667",
   "metadata": {},
   "outputs": [],
   "source": [
    "def extract_data_from_images(image_paths, wizard, spell, content_response):\n",
    "    for path in image_paths:\n",
    "        parts = os.path.basename(path).split('_')\n",
    "        statistic = '_'.join(parts[:-1])\n",
    "        country = parts[-1].replace('.png', '')\n",
    "\n",
    "        response = chat(\n",
    "            model=wizard,\n",
    "            messages=[\n",
    "                {\n",
    "                    'role': 'user',\n",
    "                    'content': spell,\n",
    "                    'images': [path],\n",
    "                }\n",
    "            ],\n",
    "        )\n",
    "\n",
    "        if country not in content_response:\n",
    "            content_response[country] = {}\n",
    "        content_response[country][statistic] = response.message.content\n",
    "    print(content_response)"
   ]
  },
  {
   "cell_type": "code",
   "execution_count": 8,
   "id": "83228cf8-8c47-49c8-a8a7-6a7d6feccc0f",
   "metadata": {},
   "outputs": [],
   "source": [
    "def clean_ollama_response(text):\n",
    "    # Step 1: Remove all asterisks\n",
    "    text = text.replace('*', '')\n",
    "    \n",
    "    # Step 2: Remove all newline characters\n",
    "    text = text.replace('\\n', '')\n",
    "    \n",
    "    # Step 3: Remove everything before and including the first colon\n",
    "    colon_index = text.find(':')\n",
    "    if colon_index != -1:\n",
    "        text = text[colon_index + 1:]\n",
    "    \n",
    "    # Optional: Strip leading/trailing whitespace\n",
    "    return text.strip()"
   ]
  },
  {
   "cell_type": "code",
   "execution_count": 9,
   "id": "2f51b53c-0f39-409c-a1cb-61f134c44203",
   "metadata": {},
   "outputs": [],
   "source": [
    "def build_statistic_dataframes(data):\n",
    "    \"\"\"\n",
    "    Builds a dictionary of DataFrames, one per statistic.\n",
    "    Each DataFrame has years as index and countries as columns.\n",
    "    Missing values are filled with NaN.\n",
    "    \"\"\"\n",
    "    stats_data = defaultdict(lambda: defaultdict(dict))  # {stat: {year: {country: value}}}\n",
    "    all_countries = set(data.keys())  # Track all countries from input\n",
    "\n",
    "    for country, stats in data.items():\n",
    "        for stat_name, stat_text in stats.items():\n",
    "            cleaned = clean_ollama_response(stat_text)\n",
    "            matches = re.findall(r\"(\\d{4}):\\s*([\\d.]+)\", cleaned)\n",
    "            for year_str, value_str in matches:\n",
    "                try:\n",
    "                    year = int(year_str)\n",
    "                    value = float(value_str)\n",
    "                    stats_data[stat_name][year][country] = value\n",
    "                except ValueError:\n",
    "                    continue  # Skip malformed entries\n",
    "\n",
    "    stat_dfs = {}\n",
    "    for stat_name, year_country_values in stats_data.items():\n",
    "        df = pd.DataFrame.from_dict(year_country_values, orient='index').sort_index()\n",
    "        df = df.reindex(columns=all_countries)  # Ensure all countries are present\n",
    "        stat_dfs[stat_name] = df\n",
    "\n",
    "    return stat_dfs"
   ]
  },
  {
   "cell_type": "code",
   "execution_count": 10,
   "id": "22008c8f-b051-432f-9823-c1c1dd328f83",
   "metadata": {},
   "outputs": [],
   "source": [
    "def export_statistic_dataframes_to_parquet(stat_dfs, output_dir):\n",
    "    os.makedirs(output_dir, exist_ok=True)\n",
    "\n",
    "    for name, new_df in stat_dfs.items():\n",
    "        output_path = os.path.join(output_dir, f\"{name}.parquet\")\n",
    "\n",
    "        if os.path.exists(output_path):\n",
    "            existing_df = pd.read_parquet(output_path)\n",
    "\n",
    "            # Merge on index (years) and columns (countries)\n",
    "            combined_df = existing_df.combine_first(new_df)\n",
    "        else:\n",
    "            combined_df = new_df\n",
    "\n",
    "        combined_df.to_parquet(output_path, index=True)\n",
    "        print(f\"✅ Merged: {output_path}\")"
   ]
  },
  {
   "cell_type": "code",
   "execution_count": 11,
   "id": "94f2c89e-2898-4827-ba71-c54c30c814af",
   "metadata": {},
   "outputs": [],
   "source": [
    "def run_extraction_pipeline(\n",
    "    input_csv,\n",
    "    processed_csv,\n",
    "    model=the_wizard,\n",
    "    spell=the_spell,\n",
    "    batch_size=4,\n",
    "    output_dir='parquet_exports'\n",
    "):\n",
    "    start_time = time.time()\n",
    "    \n",
    "    # Step 1: Load paths\n",
    "    all_paths = load_image_paths(input_csv)\n",
    "    processed_paths = load_processed_paths(processed_csv)\n",
    "    remaining_paths = [p for p in all_paths if p not in processed_paths]\n",
    "    \n",
    "    if not remaining_paths:\n",
    "        print(\"✅ All images have already been processed. Nothing to do.\")\n",
    "        return\n",
    "\n",
    "    # Step 2: Select batch\n",
    "    batch_paths = remaining_paths[:batch_size]\n",
    "    print(f\"Processing {len(batch_paths)} images...\")\n",
    "\n",
    "    # Step 3: Extract data\n",
    "    content_response = {}\n",
    "    extract_data_from_images(batch_paths, model, spell, content_response)\n",
    "\n",
    "    # Step 4: Save processed paths\n",
    "    save_processed_paths(processed_csv, batch_paths)\n",
    "\n",
    "    # Step 5: Build DataFrames and export\n",
    "    stat_dfs = build_statistic_dataframes(content_response)\n",
    "    export_statistic_dataframes_to_parquet(stat_dfs, output_dir=output_dir)\n",
    "\n",
    "    end_time = time.time()\n",
    "    log_performance(start_time, end_time, len(batch_paths))\n",
    "    print(f\"The process for {len(batch_paths)} images has finished.\")"
   ]
  },
  {
   "cell_type": "code",
   "execution_count": 12,
   "id": "300e11df-4bf3-4df2-a8aa-e1fe60d670e9",
   "metadata": {},
   "outputs": [],
   "source": [
    "def load_parquet_files(directory):\n",
    "    dataframes = {}\n",
    "    for filename in os.listdir(directory):\n",
    "        if filename.endswith(\".parquet\"):\n",
    "            path = os.path.join(directory, filename)\n",
    "            df = pd.read_parquet(path)\n",
    "            dataframes[filename] = df\n",
    "    return dataframes"
   ]
  },
  {
   "cell_type": "code",
   "execution_count": 13,
   "id": "abb84561-42f7-4c7f-9a3d-de8dbb9a3c8b",
   "metadata": {},
   "outputs": [],
   "source": [
    "def view_country_statistic(parquet_data, statistic_name, country_name):\n",
    "    df = parquet_data.get(f\"{statistic_name}.parquet\")\n",
    "    if df is None:\n",
    "        print(f\"❌ Statistic '{statistic_name}' not found.\")\n",
    "        return\n",
    "\n",
    "    if country_name not in df.columns:\n",
    "        print(f\"❌ Country '{country_name}' not found in '{statistic_name}'.\")\n",
    "        return\n",
    "\n",
    "    print(f\"\\n📊 {statistic_name} for {country_name}\")\n",
    "    print(df[[country_name]].dropna())"
   ]
  },
  {
   "cell_type": "markdown",
   "id": "ab403cb6-e0af-4190-8c36-641cb0acb547",
   "metadata": {},
   "source": [
    "# First ETL iteration over 88 images // 2025-08-15\n",
    "\n",
    "### Do not run again\n",
    "- 2 iterations of 4 images\n",
    "- 1 iteration of 16 images\n",
    "- 2 iterations of 32 images\n",
    "\n",
    "Total of 88 images from 230 available"
   ]
  },
  {
   "cell_type": "code",
   "execution_count": 38,
   "id": "eb2d3223-7f5b-4088-b78f-156553469a72",
   "metadata": {},
   "outputs": [
    {
     "name": "stdout",
     "output_type": "stream",
     "text": [
      "Processing 4 images...\n",
      "{'Austria': {'labor_force': 'Claro, aquí tienes los datos extraídos de la imagen:\\n\\n*   **2016:** 4.57\\n*   **2017:** 4.60\\n*   **2018:** 4.64\\n*   **2019:** 4.66\\n*   **2020:** 4.64\\n*   **2021:** 4.69\\n*   **2022:** 4.76\\n*   **2023:** 4.83', 'livestock_production_index': 'Aquí están los años y valores extraídos del gráfico:\\n\\n*   **2015:** 101.2\\n*   **2016:** 101.4\\n*   **2017:** 101.4\\n*   **2018:** 101.5\\n*   **2019:** 101.1\\n*   **2020:** 100.9\\n*   **2021:** 100.3\\n*   **2022:** 100.4', 'Percent_agricultural_land': 'Aquí están los años y valores extraídos de la imagen:\\n\\n*   **2015:** 32.94\\n*   **2016:** 32.36\\n*   **2017:** 32.17\\n*   **2018:** 32.15\\n*   **2019:** 32.13\\n*   **2020:** 31.54\\n*   **2021:** 31.54\\n*   **2022:** 31.48', 'Percent_urban_population': 'Claro, aquí están los años y valores del gráfico que proporcionaste:\\n\\n*   2016: 57.90\\n*   2017: 58.09\\n*   2018: 58.30\\n*   2019: 58.51\\n*   2020: 58.75\\n*   2021: 58.99\\n*   2022: 59.26\\n*   2023: 59.53'}}\n",
      "✅ Merged: parquet_exports\\labor_force.parquet\n",
      "✅ Merged: parquet_exports\\livestock_production_index.parquet\n",
      "✅ Merged: parquet_exports\\Percent_agricultural_land.parquet\n",
      "✅ Merged: parquet_exports\\Percent_urban_population.parquet\n",
      "The process for 4 images has finished.\n"
     ]
    }
   ],
   "source": [
    "run_extraction_pipeline(\n",
    "    input_csv='data/image_paths.csv',\n",
    "    processed_csv='data/processed_paths.csv')"
   ]
  },
  {
   "cell_type": "code",
   "execution_count": 37,
   "id": "3fedb898-61f8-416b-8b0a-82159ea4d66e",
   "metadata": {
    "jupyter": {
     "source_hidden": true
    }
   },
   "outputs": [
    {
     "name": "stdout",
     "output_type": "stream",
     "text": [
      "\n",
      "📄 File: labor_force.parquet\n",
      "      Australia\n",
      "2016      12.73\n",
      "2017      13.01\n",
      "2018      13.31\n",
      "2019      13.59\n",
      "2020      13.58\n",
      "\n",
      "📄 File: livestock_production_index.parquet\n",
      "      Australia\n",
      "2015      102.4\n",
      "2016       96.8\n",
      "2017       91.0\n",
      "2018       97.2\n",
      "2019       97.7\n",
      "\n",
      "📄 File: Percent_agricultural_land.parquet\n",
      "      Australia\n",
      "2015      45.31\n",
      "2016      44.54\n",
      "2017      48.34\n",
      "2018      46.66\n",
      "2019      47.12\n",
      "\n",
      "📄 File: Percent_urban_population.parquet\n",
      "      Australia\n",
      "2016      85.80\n",
      "2017      85.90\n",
      "2018      86.01\n",
      "2019      86.12\n",
      "2020      86.24\n"
     ]
    }
   ],
   "source": [
    "# Load all Parquet files from the output directory\n",
    "parquet_data = load_parquet_files(\"parquet_exports\")\n",
    "\n",
    "# Inspect each DataFrame\n",
    "for name, df in parquet_data.items():\n",
    "    print(f\"\\n📄 File: {name}\")\n",
    "    print(df.head())"
   ]
  },
  {
   "cell_type": "code",
   "execution_count": 39,
   "id": "a6ee9b0b-7741-43e2-8c68-073f061d96fc",
   "metadata": {},
   "outputs": [
    {
     "name": "stdout",
     "output_type": "stream",
     "text": [
      "\n",
      "📄 File: labor_force.parquet\n",
      "      Australia  Austria\n",
      "2016      12.73     4.57\n",
      "2017      13.01     4.60\n",
      "2018      13.31     4.64\n",
      "2019      13.59     4.66\n",
      "2020      13.58     4.64\n",
      "\n",
      "📄 File: livestock_production_index.parquet\n",
      "      Australia  Austria\n",
      "2015      102.4    101.2\n",
      "2016       96.8    101.4\n",
      "2017       91.0    101.4\n",
      "2018       97.2    101.5\n",
      "2019       97.7    101.1\n",
      "\n",
      "📄 File: Percent_agricultural_land.parquet\n",
      "      Australia  Austria\n",
      "2015      45.31    32.94\n",
      "2016      44.54    32.36\n",
      "2017      48.34    32.17\n",
      "2018      46.66    32.15\n",
      "2019      47.12    32.13\n",
      "\n",
      "📄 File: Percent_urban_population.parquet\n",
      "      Australia  Austria\n",
      "2016      85.80    57.90\n",
      "2017      85.90    58.09\n",
      "2018      86.01    58.30\n",
      "2019      86.12    58.51\n",
      "2020      86.24    58.75\n"
     ]
    }
   ],
   "source": [
    "# Load all Parquet files from the output directory\n",
    "parquet_data = load_parquet_files(\"parquet_exports\")\n",
    "\n",
    "# Inspect each DataFrame\n",
    "for name, df in parquet_data.items():\n",
    "    print(f\"\\n📄 File: {name}\")\n",
    "    print(df.head())"
   ]
  },
  {
   "cell_type": "code",
   "execution_count": 40,
   "id": "c2c712fc-97ae-4ad1-aceb-ef045c62db1d",
   "metadata": {},
   "outputs": [
    {
     "name": "stdout",
     "output_type": "stream",
     "text": [
      "Processing 16 images...\n",
      "{'Belgium': {'labor_force': 'Aquí están los años y los valores correspondientes del gráfico:\\n\\n*   2016: 5.00\\n*   2017: 5.08\\n*   2018: 5.14\\n*   2019: 5.19\\n*   2020: 5.17\\n*   2021: 5.26\\n*   2022: 5.37\\n*   2023: 5.42', 'livestock_production_index': 'Aquí están los años y valores extraídos del gráfico:\\n\\n*   **2015:** 102.1\\n*   **2016:** 100.8\\n*   **2017:** 102.5\\n*   **2018:** 105.8\\n*   **2019:** 102.5\\n*   **2020:** 105.6\\n*   **2021:** 105.5\\n*   **2022:** 102.3', 'Percent_agricultural_land': 'Aquí están los años y valores extraídos de la imagen del gráfico:\\n\\n*   **2015:** 44.75\\n*   **2016:** 44.53\\n*   **2017:** 43.75\\n*   **2018:** 44.40\\n*   **2019:** 44.47\\n*   **2020:** 44.75\\n*   **2021:** 44.78\\n*   **2022:** 44.57', 'Percent_urban_population': 'Claro, aquí tienes los años y valores extraídos del gráfico:\\n\\n*   **2016:** 97.92\\n*   **2017:** 97.96\\n*   **2018:** 98.00\\n*   **2019:** 98.04\\n*   **2020:** 98.08\\n*   **2021:** 98.12\\n*   **2022:** 98.15\\n*   **2023:** 98.19\\n\\nEspero que esto ayude.\\n'}, 'Brazil': {'labor_force': 'Aquí están los años y valores de la barra, extraídos de la imagen proporcionada:\\n\\n*   2016: 101.2\\n*   2017: 102.9\\n*   2018: 104.1\\n*   2019: 105.9\\n*   2020: 99.69\\n*   2021: 103.8\\n*   2022: 106.3\\n*   2023: 106.1', 'livestock_production_index': 'Aquí tienes los años y los valores correspondientes a cada barra del gráfico:\\n\\n*   **2015:** 102.9\\n*   **2016:** 99.80\\n*   **2017:** 102.9\\n*   **2018:** 104.6\\n*   **2019:** 107.0\\n*   **2020:** 107.6\\n*   **2021:** 108.6\\n*   **2022:** 112.2', 'Percent_agricultural_land': 'Aquí están los años y valores extraídos del gráfico:\\n\\n*   **2015:** 28.17\\n*   **2016:** 28.25\\n*   **2017:** 28.34\\n*   **2018:** 28.01\\n*   **2019:** 27.67\\n*   **2020:** 27.34\\n*   **2021:** 27.00\\n*   **2022:** 26.67', 'Percent_urban_population': 'Claro, aquí está la extracción de los años y valores del gráfico:\\n\\n*   **2016:** 86.04\\n*   **2017:** 86.31\\n*   **2018:** 86.57\\n*   **2019:** 86.82\\n*   **2020:** 87.07\\n*   **2021:** 87.32\\n*   **2022:** 87.56\\n*   **2023:** 87.79\\n\\nEspero que esto ayude.'}, 'Bulgaria': {'labor_force': 'Aquí están los años y valores extraídos de la imagen:\\n\\n*   **2016:** 3.27\\n*   **2017:** 3.36\\n*   **2018:** 3.33\\n*   **2019:** 3.38\\n*   **2020:** 3.30\\n*   **2021:** 3.25\\n*   **2022:** 3.21\\n*   **2023:** 3.09', 'livestock_production_index': 'Aquí están los años y valores extraídos del gráfico:\\n\\n*   **2015:** 99.40\\n*   **2016:** 100.5\\n*   **2017:** 97.30\\n*   **2018:** 91.20\\n*   **2019:** 89.50\\n*   **2020:** 88.60\\n*   **2021:** 91.30\\n*   **2022:** 89.20', 'Percent_agricultural_land': 'Aquí están los años y valores extraídos de la imagen del gráfico:\\n\\n*   **2015:** 46.17\\n*   **2016:** 46.25\\n*   **2017:** 46.33\\n*   **2018:** 46.33\\n*   **2019:** 46.40\\n*   **2020:** 46.49\\n*   **2021:** 46.49\\n*   **2022:** 46.26', 'Percent_urban_population': 'Aquí están los años y los valores extraídos de la imagen:\\n\\n*   **2016:** 74.33\\n*   **2017:** 74.67\\n*   **2018:** 75.01\\n*   **2019:** 75.35\\n*   **2020:** 75.69\\n*   **2021:** 76.03\\n*   **2022:** 76.36\\n*   **2023:** 76.70'}, 'Canada': {'labor_force': 'Aquí está el resumen de los años y valores del gráfico:\\n\\n*   **2016:** 19.88\\n*   **2017:** 20.15\\n*   **2018:** 20.35\\n*   **2019:** 20.77\\n*   **2020:** 20.48\\n*   **2021:** 20.97\\n*   **2022:** 21.38\\n*   **2023:** 22.14', 'livestock_production_index': 'Aquí están los años y valores extraídos del gráfico:\\n\\n*   **2015:** 99.0\\n*   **2016:** 103.6\\n*   **2017:** 109.0\\n*   **2018:** 112.7\\n*   **2019:** 115.0\\n*   **2020:** 116.1\\n*   **2021:** 118.2\\n*   **2022:** 119.1', 'Percent_agricultural_land': 'Aquí tienes los años y los valores extraídos de la imagen:\\n\\n*   **2015:** 6.47\\n*   **2016:** 6.47\\n*   **2017:** 6.45\\n*   **2018:** 6.46\\n*   **2019:** 6.43\\n*   **2020:** 6.37\\n*   **2021:** 6.48\\n*   **2022:** 6.49', 'Percent_urban_population': 'Aquí están los años y valores extraídos del gráfico:\\n\\n*   **2016:** 81.35\\n*   **2017:** 81.35\\n*   **2018:** 81.41\\n*   **2019:** 81.48\\n*   **2020:** 81.56\\n*   **2021:** 81.65\\n*   **2022:** 81.75\\n*   **2023:** 81.86\\n\\nEspero que esto te sea útil.'}}\n",
      "✅ Merged: parquet_exports\\labor_force.parquet\n",
      "✅ Merged: parquet_exports\\livestock_production_index.parquet\n",
      "✅ Merged: parquet_exports\\Percent_agricultural_land.parquet\n",
      "✅ Merged: parquet_exports\\Percent_urban_population.parquet\n",
      "The process for 16 images has finished.\n"
     ]
    }
   ],
   "source": [
    "run_extraction_pipeline(\n",
    "    input_csv='data/image_paths.csv',\n",
    "    processed_csv='data/processed_paths.csv',\n",
    "    batch_size=16\n",
    ")"
   ]
  },
  {
   "cell_type": "code",
   "execution_count": 41,
   "id": "d92835e3-a88a-4908-80a3-0db40c942601",
   "metadata": {},
   "outputs": [
    {
     "name": "stdout",
     "output_type": "stream",
     "text": [
      "\n",
      "📄 File: labor_force.parquet\n",
      "      Australia  Austria  Belgium  Brazil  Bulgaria  Canada\n",
      "2016      12.73     4.57     5.00  101.20      3.27   19.88\n",
      "2017      13.01     4.60     5.08  102.90      3.36   20.15\n",
      "2018      13.31     4.64     5.14  104.10      3.33   20.35\n",
      "2019      13.59     4.66     5.19  105.90      3.38   20.77\n",
      "2020      13.58     4.64     5.17   99.69      3.30   20.48\n",
      "\n",
      "📄 File: livestock_production_index.parquet\n",
      "      Australia  Austria  Belgium  Brazil  Bulgaria  Canada\n",
      "2015      102.4    101.2    102.1   102.9      99.4    99.0\n",
      "2016       96.8    101.4    100.8    99.8     100.5   103.6\n",
      "2017       91.0    101.4    102.5   102.9      97.3   109.0\n",
      "2018       97.2    101.5    105.8   104.6      91.2   112.7\n",
      "2019       97.7    101.1    102.5   107.0      89.5   115.0\n",
      "\n",
      "📄 File: Percent_agricultural_land.parquet\n",
      "      Australia  Austria  Belgium  Brazil  Bulgaria  Canada\n",
      "2015      45.31    32.94    44.75   28.17     46.17    6.47\n",
      "2016      44.54    32.36    44.53   28.25     46.25    6.47\n",
      "2017      48.34    32.17    43.75   28.34     46.33    6.45\n",
      "2018      46.66    32.15    44.40   28.01     46.33    6.46\n",
      "2019      47.12    32.13    44.47   27.67     46.40    6.43\n",
      "\n",
      "📄 File: Percent_urban_population.parquet\n",
      "      Australia  Austria  Belgium  Brazil  Bulgaria  Canada\n",
      "2016      85.80    57.90    97.92   86.04     74.33   81.35\n",
      "2017      85.90    58.09    97.96   86.31     74.67   81.35\n",
      "2018      86.01    58.30    98.00   86.57     75.01   81.41\n",
      "2019      86.12    58.51    98.04   86.82     75.35   81.48\n",
      "2020      86.24    58.75    98.08   87.07     75.69   81.56\n"
     ]
    }
   ],
   "source": [
    "# Load all Parquet files from the output directory\n",
    "parquet_data = load_parquet_files(\"parquet_exports\")\n",
    "\n",
    "# Inspect each DataFrame\n",
    "for name, df in parquet_data.items():\n",
    "    print(f\"\\n📄 File: {name}\")\n",
    "    print(df.head())"
   ]
  },
  {
   "cell_type": "code",
   "execution_count": 43,
   "id": "7cc0e46a-37fb-4d34-b8d1-c00e7d701ec0",
   "metadata": {},
   "outputs": [
    {
     "name": "stdout",
     "output_type": "stream",
     "text": [
      "Processing 32 images...\n",
      "{'Chile': {'labor_force': 'Aquí están los años y valores extraídos de la imagen:\\n\\n*   **2016:** 8.76\\n*   **2017:** 8.97\\n*   **2018:** 9.16\\n*   **2019:** 9.31\\n*   **2020:** 8.91\\n*   **2021:** 9.17\\n*   **2022:** 9.67\\n*   **2023:** 9.96', 'livestock_production_index': 'Claro, aquí tienes los años y los valores que extraje de la imagen:\\n\\n*   **2015:** 100.5\\n*   **2016:** 100.4\\n*   **2017:** 96.30\\n*   **2018:** 101.8\\n*   **2019:** 102.5\\n*   **2020:** 107.0\\n*   **2021:** 105.7\\n*   **2022:** 103.4', 'Percent_agricultural_land': 'Aquí tienes los datos extraídos de la imagen:\\n\\n*   **2015:** 17.52\\n*   **2016:** 17.00\\n*   **2017:** 16.55\\n*   **2018:** 15.99\\n*   **2019:** 15.42\\n*   **2020:** 14.89\\n*   **2021:** 14.55\\n*   **2022:** 14.31', 'Percent_urban_population': 'Claro, aquí tienes los años y valores extraídos de la imagen:\\n\\n*   **2016:** 87.42\\n*   **2017:** 87.49\\n*   **2018:** 87.56\\n*   **2019:** 87.64\\n*   **2020:** 87.73\\n*   **2021:** 87.82\\n*   **2022:** 87.91\\n*   **2023:** 88.01\\n\\nSi necesitas algo más, házmelo saber.'}, 'China': {'labor_force': 'Aquí están los años y valores extraídos del gráfico:\\n\\n*   **2016:** 780.9\\n*   **2017:** 779.2\\n*   **2018:** 776.9\\n*   **2019:** 775.9\\n*   **2020:** 764.3\\n*   **2021:** 781.2\\n*   **2022:** 783.0\\n*   **2023:** 781.1', 'livestock_production_index': 'Aquí están los años y valores extraídos de la imagen del gráfico:\\n\\n*   **2015:** 100.7\\n*   **2016:** 100.2\\n*   **2017:** 100.0\\n*   **2018:** 100.6\\n*   **2019:** 97.10\\n*   **2020:** 98.40\\n*   **2021:** 108.1\\n*   **2022:** 109.5', 'Percent_agricultural_land': 'Aquí están los años y valores extraídos del gráfico de barras:\\n\\n*   **2015:** 55.78\\n*   **2016:** 55.70\\n*   **2017:** 55.62\\n*   **2018:** 55.54\\n*   **2019:** 55.46\\n*   **2020:** 55.45\\n*   **2021:** 55.44\\n*   **2022:** 55.43', 'Percent_urban_population': 'Aquí están los años y valores extraídos del gráfico:\\n\\n*   **2016:** 56.74\\n*   **2017:** 57.96\\n*   **2018:** 59.15\\n*   **2019:** 60.31\\n*   **2020:** 61.43\\n*   **2021:** 62.51\\n*   **2022:** 63.56\\n*   **2023:** 64.57'}, 'Colombia': {'labor_force': 'Aquí está la información extraída del gráfico:\\n\\n*   **2016:** 23.97\\n*   **2017:** 24.37\\n*   **2018:** 24.73\\n*   **2019:** 25.00\\n*   **2020:** 25.15\\n*   **2021:** 25.92\\n*   **2022:** 25.83\\n*   **2023:** 26.29', 'livestock_production_index': 'Aquí están los años y los valores extraídos de la imagen:\\n\\n*   **2015:** 101.3\\n*   **2016:** 100.2\\n*   **2017:** 104.9\\n*   **2018:** 69.0\\n*   **2019:** 106.8\\n*   **2020:** 107.2\\n*   **2021:** 109.7\\n*   **2022:** 110.3', 'Percent_agricultural_land': 'Aquí tienes los años y valores extraídos de la imagen:\\n\\n*   2015: 40.36\\n*   2016: 40.35\\n*   2017: 39.20\\n*   2018: 39.70\\n*   2019: 39.98\\n*   2020: 39.85\\n*   2021: 38.77\\n*   2022: 37.64', 'Percent_urban_population': 'Aquí tienes los años y valores extraídos de la imagen:\\n\\n*   **2016:** 80.11\\n*   **2017:** 80.45\\n*   **2018:** 80.78\\n*   **2019:** 81.10\\n*   **2020:** 81.43\\n*   **2021:** 81.74\\n*   **2022:** 82.05\\n*   **2023:** 82.35'}, 'Croatia': {'labor_force': 'Aquí están los años y los valores correspondientes extraídos del gráfico:\\n\\n*   **2016:** 1.80\\n*   **2017:** 1.78\\n*   **2018:** 1.74\\n*   **2019:** 1.72\\n*   **2020:** 1.71\\n*   **2021:** 1.72\\n*   **2022:** 1.73\\n*   **2023:** 1.74', 'livestock_production_index': 'Aquí tienes los años y los valores extraídos del gráfico:\\n\\n*   **2015:** 96.30\\n*   **2016:** 105.2\\n*   **2017:** 105.0\\n*   **2018:** 104.3\\n*   **2019:** 101.0\\n*   **2020:** 102.0\\n*   **2021:** 102.4\\n*   **2022:** 97.80', 'Percent_agricultural_land': 'Aquí están los años y valores extraídos del gráfico:\\n\\n*   **2015:** 27.47\\n*   **2016:** 27.62\\n*   **2017:** 26.75\\n*   **2018:** 26.52\\n*   **2019:** 26.87\\n*   **2020:** 26.89\\n*   **2021:** 26.38\\n*   **2022:** 25.88', 'Percent_urban_population': 'Aquí está la información extraída del gráfico:\\n\\n*   **2016:** 56.40\\n*   **2017:** 56.67\\n*   **2018:** 56.95\\n*   **2019:** 57.24\\n*   **2020:** 57.55\\n*   **2021:** 57.88\\n*   **2022:** 58.22\\n*   **2023:** 58.58'}, 'Cyprus': {'labor_force': 'Claro, aquí están los años y valores extraídos de la imagen:\\n\\n*   2016: 0.64\\n*   2017: 0.65\\n*   2018: 0.67\\n*   2019: 0.68\\n*   2020: 0.69\\n*   2021: 0.71\\n*   2022: 0.73\\n*   2023: 0.74', 'livestock_production_index': 'Aquí están los años y valores de la gráfica:\\n\\n*   **2015:** 99.60\\n*   **2016:** 104.7\\n*   **2017:** 109.6\\n*   **2018:** 110.9\\n*   **2019:** 115.6\\n*   **2020:** 116.4\\n*   **2021:** 126.0\\n*   **2022:** 121.6', 'Percent_agricultural_land': 'Aquí están los años y valores extraídos de la imagen que proporcionaste:\\n\\n*   **2015:** 13.71\\n*   **2016:** 11.84\\n*   **2017:** 13.14\\n*   **2018:** 14.33\\n*   **2019:** 13.56\\n*   **2020:** 13.81\\n*   **2021:** 13.16\\n*   **2022:** 13.32', 'Percent_urban_population': 'Aquí están los años y valores extraídos de la imagen:\\n\\n*   **2016:** 66.88\\n*   **2017:** 66.84\\n*   **2018:** 66.81\\n*   **2019:** 66.81\\n*   **2020:** 66.82\\n*   **2021:** 66.86\\n*   **2022:** 66.91\\n*   **2023:** 66.99'}, 'Czech-Republic': {'labor_force': 'Aquí está la extracción de los años y valores del gráfico:\\n\\n*   **2016:** 5.35\\n*   **2017:** 5.38\\n*   **2018:** 5.42\\n*   **2019:** 5.42\\n*   **2020:** 5.37\\n*   **2021:** 5.28\\n*   **2022:** 5.37\\n*   **2023:** 5.50', 'livestock_production_index': 'Aquí están los años y los valores del gráfico que has proporcionado:\\n\\n*   **2015:** 101.3\\n*   **2016:** 101.8\\n*   **2017:** 101.1\\n*   **2018:** 99.90\\n*   **2019:** 100.4\\n*   **2020:** 102.0\\n*   **2021:** 104.1\\n*   **2022:** 102.3', 'Percent_agricultural_land': 'Claro, aquí tienes los años y valores extraídos de la imagen:\\n\\n*   **2015:** 45.25\\n*   **2016:** 45.18\\n*   **2017:** 45.60\\n*   **2018:** 45.63\\n*   **2019:** 45.64\\n*   **2020:** 45.65\\n*   **2021:** 45.73\\n*   **2022:** 45.75\\n\\nEspero que esto sea lo que buscabas.\\n', 'Percent_urban_population': 'Claro, aquí tienes los años y valores extraídos de la imagen:\\n\\n*   **2016:** 73.57\\n*   **2017:** 73.68\\n*   **2018:** 73.79\\n*   **2019:** 73.92\\n*   **2020:** 74.06\\n*   **2021:** 74.21\\n*   **2022:** 74.38\\n*   **2023:** 74.55\\n\\nSi necesitas que haga algo más con estos datos, házmelo saber.'}, 'Denmark': {'labor_force': 'Aquí está la información extraída de la barra gráfica:\\n\\n*   **2016:** 2.94\\n*   **2017:** 2.97\\n*   **2018:** 2.99\\n*   **2019:** 3.03\\n*   **2020:** 3.03\\n*   **2021:** 3.07\\n*   **2022:** 3.14\\n*   **2023:** 3.18', 'livestock_production_index': 'Claro, aquí tienes los años y valores extraídos de la imagen:\\n\\n*   **2015:** 99.90\\n*   **2016:** 100.8\\n*   **2017:** 99.60\\n*   **2018:** 101.5\\n*   **2019:** 99.00\\n*   **2020:** 102.4\\n*   **2021:** 106.3\\n*   **2022:** 102.2', 'Percent_agricultural_land': 'Aquí están los años y valores extraídos de la imagen:\\n\\n*   **2015:** 65.85\\n*   **2016:** 65.63\\n*   **2017:** 65.78\\n*   **2018:** 65.81\\n*   **2019:** 65.65\\n*   **2020:** 65.50\\n*   **2021:** 65.45\\n*   **2022:** 65.60', 'Percent_urban_population': 'Aquí están los años y valores extraídos del gráfico:\\n\\n*   **2016:** 87.54\\n*   **2017:** 87.76\\n*   **2018:** 87.87\\n*   **2019:** 87.99\\n*   **2020:** 88.12\\n*   **2021:** 88.24\\n*   **2022:** 88.37\\n*   **2023:** 88.50'}, 'Estonia': {'labor_force': 'Aquí están los años y valores del gráfico:\\n\\n*   **2016:** 0.69\\n*   **2017:** 0.70\\n*   **2018:** 0.70\\n*   **2019:** 0.70\\n*   **2020:** 0.70\\n*   **2021:** 0.70\\n*   **2022:** 0.74\\n*   **2023:** 0.76', 'livestock_production_index': 'Aquí tienes la información extraída del gráfico:\\n\\n*   **2015:** 101.6\\n*   **2016:** 99.8\\n*   **2017:** 96.1\\n*   **2018:** 95.8\\n*   **2019:** 95.6\\n*   **2020:** 95.6\\n*   **2021:** 95.0\\n*   **2022:** 94.6', 'Percent_agricultural_land': 'Aquí están los años y valores extraídos de la imagen:\\n\\n*   **2015:** 22.84\\n*   **2016:** 23.07\\n*   **2017:** 22.97\\n*   **2018:** 23.04\\n*   **2019:** 23.12\\n*   **2020:** 23.04\\n*   **2021:** 23.09\\n*   **2022:** 23.08', 'Percent_urban_population': 'Claro, aquí tienes los años y valores extraídos de la imagen:\\n\\n*   2016: 68.56\\n*   2017: 68.72\\n*   2018: 68.88\\n*   2019: 69.05\\n*   2020: 69.23\\n*   2021: 69.42\\n*   2022: 69.61\\n*   2023: 69.81\\n\\nEspero que esto ayude. Avísame si tienes alguna otra pregunta.'}}\n",
      "✅ Merged: parquet_exports\\labor_force.parquet\n",
      "✅ Merged: parquet_exports\\livestock_production_index.parquet\n",
      "✅ Merged: parquet_exports\\Percent_agricultural_land.parquet\n",
      "✅ Merged: parquet_exports\\Percent_urban_population.parquet\n",
      "The process for 32 images has finished.\n"
     ]
    }
   ],
   "source": [
    "run_extraction_pipeline(\n",
    "    input_csv='data/image_paths.csv',\n",
    "    processed_csv='data/processed_paths.csv',\n",
    "    batch_size=32\n",
    ")"
   ]
  },
  {
   "cell_type": "code",
   "execution_count": 44,
   "id": "34ad3845-4c5e-49ae-b25d-a3e6b6c959d3",
   "metadata": {},
   "outputs": [
    {
     "name": "stdout",
     "output_type": "stream",
     "text": [
      "Processing 32 images...\n",
      "{'Finland': {'labor_force': 'Aquí están los años y valores extraídos de la imagen del gráfico:\\n\\n*   **2016:** 2.69\\n*   **2017:** 2.72\\n*   **2018:** 2.75\\n*   **2019:** 2.76\\n*   **2020:** 2.75\\n*   **2021:** 2.80\\n*   **2022:** 2.84\\n*   **2023:** 2.88', 'livestock_production_index': 'Aquí tienes los datos extraídos de la imagen:\\n\\n*   **2015:** 100.7\\n*   **2016:** 101.2\\n*   **2017:** 100.3\\n*   **2018:** 99.60\\n*   **2019:** 99.90\\n*   **2020:** 101.4\\n*   **2021:** 99.90\\n*   **2022:** 97.80', 'Percent_agricultural_land': 'Aquí tienes la información extraída de la imagen:\\n\\n*   **2015:** 7.48\\n*   **2016:** 7.49\\n*   **2017:** 7.47\\n*   **2018:** 7.48\\n*   **2019:** 7.48\\n*   **2020:** 7.47\\n*   **2021:** 7.46\\n*   **2022:** 7.46', 'Percent_urban_population': 'Aquí están los años y valores extraídos del gráfico:\\n\\n*   **2016:** 85.28\\n*   **2017:** 85.32\\n*   **2018:** 85.38\\n*   **2019:** 85.45\\n*   **2020:** 85.52\\n*   **2021:** 85.60\\n*   **2022:** 85.68\\n*   **2023:** 85.77'}, 'France': {'labor_force': 'Aquí están los años y valores extraídos de la imagen:\\n\\n*   **2016:** 30.57\\n*   **2017:** 30.56\\n*   **2018:** 30.71\\n*   **2019:** 30.68\\n*   **2020:** 30.43\\n*   **2021:** 31.36\\n*   **2022:** 31.72\\n*   **2023:** 31.98', 'livestock_production_index': 'Aquí está el desglose de los años y los valores que aparecen en la imagen:\\n\\n*   **2015:** 100.2\\n*   **2016:** 100.6\\n*   **2017:** 99.2\\n*   **2018:** 98.6\\n*   **2019:** 97.4\\n*   **2020:** 98.0\\n*   **2021:** 97.0\\n*   **2022:** 93.2', 'Percent_agricultural_land': 'Aquí tienes los años y valores extraídos del gráfico:\\n\\n*   **2015:** 52.46\\n*   **2016:** 52.45\\n*   **2017:** 52.41\\n*   **2018:** 52.34\\n*   **2019:** 52.08\\n*   **2020:** 52.09\\n*   **2021:** 52.10\\n*   **2022:** 51.69', 'Percent_urban_population': 'Aquí están los años y valores extraídos de la imagen:\\n\\n*   **2016:** 79.92\\n*   **2017:** 80.18\\n*   **2018:** 80.44\\n*   **2019:** 80.71\\n*   **2020:** 80.97\\n*   **2021:** 81.24\\n*   **2022:** 81.51\\n*   **2023:** 81.78'}, 'Germany': {'labor_force': 'Aquí están los años y valores extraídos de la imagen:\\n\\n*   **2016:** 43.54\\n*   **2017:** 43.79\\n*   **2018:** 43.91\\n*   **2019:** 44.42\\n*   **2020:** 43.50\\n*   **2021:** 43.39\\n*   **2022:** 44.22\\n*   **2023:** 44.18', 'livestock_production_index': 'Aquí están los años y valores extraídos de la imagen:\\n\\n*   **2015:** 100.4\\n*   **2016:** 99.70\\n*   **2017:** 98.90\\n*   **2018:** 98.50\\n*   **2019:** 98.10\\n*   **2020:** 98.50\\n*   **2021:** 97.10\\n*   **2022:** 93.30', 'Percent_agricultural_land': 'Aquí están los años y valores extraídos de la barra:\\n\\n*   **2015:** 47.96\\n*   **2016:** 47.68\\n*   **2017:** 47.76\\n*   **2018:** 47.64\\n*   **2019:** 47.70\\n*   **2020:** 47.50\\n*   **2021:** 47.49\\n*   **2022:** 47.50', 'Percent_urban_population': 'Aquí están los años y valores extraídos de la barra del gráfico:\\n\\n*   **2016:** 77.22\\n*   **2017:** 77.26\\n*   **2018:** 77.31\\n*   **2019:** 77.38\\n*   **2020:** 77.45\\n*   **2021:** 77.54\\n*   **2022:** 77.65\\n*   **2023:** 77.76'}, 'Greece': {'labor_force': 'Aquí está la información extraída de la imagen del gráfico de barras:\\n\\n*   **2016:** 4.73\\n*   **2017:** 4.71\\n*   **2018:** 4.68\\n*   **2019:** 4.68\\n*   **2020:** 4.60\\n*   **2021:** 4.57\\n*   **2022:** 4.66\\n*   **2023:** 4.67', 'livestock_production_index': 'Claro, aquí están los años y valores de la imagen que proporcionaste:\\n\\n*   **2015:** 99.70\\n*   **2016:** 98.90\\n*   **2017:** 96.80\\n*   **2018:** 93.80\\n*   **2019:** 94.00\\n*   **2020:** 96.70\\n*   **2021:** 97.30\\n*   **2022:** 100.10', 'Percent_agricultural_land': 'Aquí están los años y valores extraídos del gráfico:\\n\\n*   **2015:** 48.09\\n*   **2016:** 47.60\\n*   **2017:** 46.96\\n*   **2018:** 46.11\\n*   **2019:** 45.49\\n*   **2020:** 43.64\\n*   **2021:** 44.31\\n*   **2022:** 44.31', 'Percent_urban_population': 'Aquí están los años y valores extraídos de la imagen:\\n\\n*   **2016:** 78.39\\n*   **2017:** 78.72\\n*   **2018:** 79.06\\n*   **2019:** 79.39\\n*   **2020:** 79.71\\n*   **2021:** 80.04\\n*   **2022:** 80.36\\n*   **2023:** 80.67'}, 'Hong-Kong': {'labor_force': 'Aquí está la extracción de los años y valores del gráfico:\\n\\n*   **2016:** 3.96\\n*   **2017:** 4.00\\n*   **2018:** 4.04\\n*   **2019:** 4.03\\n*   **2020:** 3.96\\n*   **2021:** 3.91\\n*   **2022:** 3.81\\n*   **2023:** 3.88', 'livestock_production_index': 'Aquí está el resumen de los datos del gráfico:\\n\\n*   2015: 96.20\\n*   2016: 107.5\\n*   2017: 99.70\\n*   2018: 96.40\\n*   2019: 210.7\\n*   2020: 244.6\\n*   2021: 175.2\\n*   2022: 150.0', 'Percent_urban_population': 'Claro, aquí están los años y valores extraídos de la imagen:\\n\\n*   **2016:** 100.0\\n*   **2017:** 100.0\\n*   **2018:** 100.0\\n*   **2019:** 100.0\\n*   **2020:** 100.0\\n*   **2021:** 100.0\\n*   **2022:** 100.0\\n*   **2023:** 100.0\\n\\nTodos los años tienen el mismo valor de 100.0.'}, 'Hungary': {'labor_force': 'Claro, aquí están los años y valores extraídos del gráfico:\\n\\n*   **2016:** 4.65\\n*   **2017:** 4.69\\n*   **2018:** 4.72\\n*   **2019:** 4.75\\n*   **2020:** 4.72\\n*   **2021:** 4.92\\n*   **2022:** 4.98\\n*   **2023:** 5.00', 'livestock_production_index': 'Claro, aquí está la información extraída de la imagen:\\n\\n*   2015: 101.4\\n*   2016: 102.5\\n*   2017: 100.4\\n*   2018: 103.9\\n*   2019: 103.5\\n*   2020: 100.1\\n*   2021: 104.9\\n*   2022: 99.60', 'Percent_agricultural_land': 'Aquí están los años y valores extraídos de la imagen:\\n\\n*   **2015:** 57.68\\n*   **2016:** 57.88\\n*   **2017:** 58.11\\n*   **2018:** 58.03\\n*   **2019:** 57.83\\n*   **2020:** 53.88\\n*   **2021:** 55.27\\n*   **2022:** 55.62', 'Percent_urban_population': 'Aquí están los años y valores extraídos de la imagen:\\n\\n*   **2016:** 70.78\\n*   **2017:** 71.06\\n*   **2018:** 71.35\\n*   **2019:** 71.64\\n*   **2020:** 71.94\\n*   **2021:** 72.25\\n*   **2022:** 72.55\\n*   **2023:** 72.86'}, 'Iceland': {'labor_force': 'Claro, aquí está la extracción de los datos de la imagen:\\n\\n| Año  | Valor |\\n|------|-------|\\n| 2016 | 0.21  |\\n| 2017 | 0.21  |\\n| 2018 | 0.22  |\\n| 2019 | 0.22  |\\n| 2020 | 0.22  |\\n| 2021 | 0.22  |\\n| 2022 | 0.23  |\\n| 2023 | 0.24  |', 'livestock_production_index': 'Aquí tienes los años y valores extraídos del gráfico:\\n\\n*   **2015:** 100.3\\n*   **2016:** 104.1\\n*   **2017:** 107.9\\n*   **2018:** 108.5\\n*   **2019:** 106.8\\n*   **2020:** 103.3\\n*   **2021:** 103.5\\n*   **2022:** 101.3', 'Percent_agricultural_land': 'Aquí tienes los años y los valores extraídos de la imagen:\\n\\n*   **2015:** 18.67\\n*   **2016:** 18.67\\n*   **2017:** 18.67\\n*   **2018:** 18.57\\n*   **2019:** 18.57\\n*   **2020:** 18.57\\n*   **2021:** 18.57\\n*   **2022:** 18.57', 'Percent_urban_population': 'Aquí están los años y valores extraídos del gráfico:\\n\\n*   2016: 93.74\\n*   2017: 93.77\\n*   2018: 93.81\\n*   2019: 93.86\\n*   2020: 93.90\\n*   2021: 93.94\\n*   2022: 93.99\\n*   2023: 94.04'}, 'India': {'labor_force': 'Aquí están los años y valores extraídos del gráfico:\\n\\n*   **2016:** 504.2\\n*   **2017:** 510.3\\n*   **2018:** 515.8\\n*   **2019:** 520.8\\n*   **2020:** 521.2\\n*   **2021:** 536.0\\n*   **2022:** 556.0\\n*   **2023:** 596.4', 'livestock_production_index': 'Aquí está la información extraída de la imagen:\\n\\n*   **2015:** 99.80\\n*   **2016:** 105.2\\n*   **2017:** 111.4\\n*   **2018:** 117.8\\n*   **2019:** 124.4\\n*   **2020:** 128.1\\n*   **2021:** 135.3\\n*   **2022:** 132.5', 'Percent_agricultural_land': 'Aquí tienes los años y valores extraídos de la imagen:\\n\\n*   **2015:** 60.43\\n*   **2016:** 60.40\\n*   **2017:** 60.28\\n*   **2018:** 60.24\\n*   **2019:** 60.22\\n*   **2020:** 60.05\\n*   **2021:** 60.05\\n*   **2022:** 60.05', 'Percent_urban_population': 'Aquí están los años y valores extraídos de la imagen del gráfico:\\n\\n*   **2016:** 33.18\\n*   **2017:** 33.60\\n*   **2018:** 34.03\\n*   **2019:** 34.47\\n*   **2020:** 34.93\\n*   **2021:** 35.39\\n*   **2022:** 35.87\\n*   **2023:** 36.36'}, 'Indonesia': {'labor_force': 'Aquí están los años y valores extraídos de la barra:\\n\\n*   **2016:** 128.5\\n*   **2017:** 130.9\\n*   **2018:** 134.5\\n*   **2019:** 137.4\\n*   **2020:** 137.4\\n*   **2021:** 135.7\\n*   **2022:** 139.6\\n*   **2023:** 142.7'}}\n",
      "✅ Merged: parquet_exports\\labor_force.parquet\n",
      "✅ Merged: parquet_exports\\livestock_production_index.parquet\n",
      "✅ Merged: parquet_exports\\Percent_agricultural_land.parquet\n",
      "✅ Merged: parquet_exports\\Percent_urban_population.parquet\n",
      "The process for 32 images has finished.\n"
     ]
    }
   ],
   "source": [
    "run_extraction_pipeline(\n",
    "    input_csv='data/image_paths.csv',\n",
    "    processed_csv='data/processed_paths.csv',\n",
    "    batch_size=32\n",
    ")"
   ]
  },
  {
   "cell_type": "markdown",
   "id": "46595bf2-55d3-4270-adc7-0f1ddcd30af6",
   "metadata": {},
   "source": [
    "## Catch some problems in the output\n",
    "\n",
    "### This proves the thesis that AI models are probabilistic models\n",
    "- Predict based on likelihoods — They choose outputs (like words or labels) based on probability, not certainty.\n",
    "- Learn patterns — They find statistical trends in data, not hard rules.\n",
    "- Use randomness — In generation tasks, they sample from possible options, so results can vary.\n",
    "\n",
    "**For that reason:** The values for the country Iceland were not extracted, since we prepared the code to clean a certain pattern in the text, but the AI model returned a completely different pattern."
   ]
  },
  {
   "cell_type": "code",
   "execution_count": 46,
   "id": "dd5d465c-0437-444b-8cd7-c40ec9b9ad3e",
   "metadata": {},
   "outputs": [],
   "source": [
    "# Load all Parquet files from the output directory\n",
    "parquet_data = load_parquet_files(\"parquet_exports\")"
   ]
  },
  {
   "cell_type": "code",
   "execution_count": 47,
   "id": "f4d1fe9a-6b83-4d25-815c-b8ccd0161f00",
   "metadata": {},
   "outputs": [
    {
     "name": "stdout",
     "output_type": "stream",
     "text": [
      "\n",
      "📊 labor_force for Iceland\n",
      "Empty DataFrame\n",
      "Columns: [Iceland]\n",
      "Index: []\n"
     ]
    }
   ],
   "source": [
    "view_country_statistic(parquet_data, \"labor_force\", \"Iceland\")"
   ]
  },
  {
   "cell_type": "code",
   "execution_count": 49,
   "id": "e551d4a1-a5b0-474d-98a6-22facb73ae7c",
   "metadata": {},
   "outputs": [
    {
     "name": "stdout",
     "output_type": "stream",
     "text": [
      "\n",
      "📊 labor_force for Indonesia\n",
      "      Indonesia\n",
      "2016      128.5\n",
      "2017      130.9\n",
      "2018      134.5\n",
      "2019      137.4\n",
      "2020      137.4\n",
      "2021      135.7\n",
      "2022      139.6\n",
      "2023      142.7\n"
     ]
    }
   ],
   "source": [
    "view_country_statistic(parquet_data, \"labor_force\", \"Indonesia\")"
   ]
  },
  {
   "cell_type": "markdown",
   "id": "9ab30023-6d75-460f-a342-63b4409b0c00",
   "metadata": {},
   "source": [
    "# Second ETL iteration over 142 images // 2025-08-16\n",
    "\n",
    "- 4 iterations over 32 images\n",
    "- 1 iteration over 14 images\n",
    "\n",
    "Total of 142 images of 142 remaining to process completing the 230 images"
   ]
  },
  {
   "cell_type": "code",
   "execution_count": 14,
   "id": "6018c59d-98ed-4860-9833-13fe4680582e",
   "metadata": {},
   "outputs": [
    {
     "name": "stdout",
     "output_type": "stream",
     "text": [
      "Processing 32 images...\n",
      "{'Indonesia': {'livestock_production_index': 'Aquí están los años y valores que se muestran en el gráfico:\\n\\n*   **2015:** 99.10\\n*   **2016:** 106.8\\n*   **2017:** 159.8\\n*   **2018:** 166.9\\n*   **2019:** 167.2\\n*   **2020:** 168.3\\n*   **2021:** 171.4\\n*   **2022:** 190.0', 'Percent_agricultural_land': 'Aquí están los años y valores del gráfico que proporcionaste:\\n\\n*   **2015:** 27.66\\n*   **2016:** 27.93\\n*   **2017:** 29.26\\n*   **2018:** 29.61\\n*   **2019:** 29.67\\n*   **2020:** 29.77\\n*   **2021:** 29.57\\n*   **2022:** 29.80', 'Percent_urban_population': 'Aquí están los años y valores extraídos del gráfico:\\n\\n*   **2016:** 53.99\\n*   **2017:** 54.66\\n*   **2018:** 55.33\\n*   **2019:** 55.99\\n*   **2020:** 56.64\\n*   **2021:** 57.29\\n*   **2022:** 57.93\\n*   **2023:** 58.57'}, 'Ireland': {'labor_force': 'Aquí tienes los años y valores extraídos del gráfico que has proporcionado:\\n\\n*   **2016:** 2.33\\n*   **2017:** 2.36\\n*   **2018:** 2.40\\n*   **2019:** 2.45\\n*   **2020:** 2.43\\n*   **2021:** 2.55\\n*   **2022:** 2.70\\n*   **2023:** 2.80', 'livestock_production_index': 'Claro, aquí están los años y valores extraídos del gráfico:\\n\\n*   2015: 100.2\\n*   2016: 104.2\\n*   2017: 112.3\\n*   2018: 114.4\\n*   2019: 117.9\\n*   2020: 120.3\\n*   2021: 121.3\\n*   2022: 123.2\\n\\nEspero que esto te ayude.', 'Percent_agricultural_land': 'Claro, aquí está la información extraída del gráfico:\\n\\n*   **2015:** 64.31\\n*   **2016:** 64.76\\n*   **2017:** 65.16\\n*   **2018:** 65.55\\n*   **2019:** 65.67\\n*   **2020:** 65.50\\n*   **2021:** 62.96\\n*   **2022:** 63.12', 'Percent_urban_population': 'Aquí están los años y valores extraídos de la imagen:\\n\\n*   2016: 62.74\\n*   2017: 62.95\\n*   2018: 63.17\\n*   2019: 63.40\\n*   2020: 63.65\\n*   2021: 63.91\\n*   2022: 64.18\\n*   2023: 64.47'}, 'Israel': {'labor_force': 'Aquí están los años y valores extraídos de la imagen:\\n\\n*   2016: 4.02\\n*   2017: 4.09\\n*   2018: 4.17\\n*   2019: 4.23\\n*   2020: 4.21\\n*   2021: 4.28\\n*   2022: 4.47\\n*   2023: 4.57', 'livestock_production_index': 'Aquí están los años y valores extraídos de la barra del gráfico:\\n\\n*   **2015:** 100.2\\n*   **2016:** 101.6\\n*   **2017:** 104.5\\n*   **2018:** 103.9\\n*   **2019:** 103.4\\n*   **2020:** 107.6\\n*   **2021:** 105.1\\n*   **2022:** 109.4', 'Percent_urban_population': 'Aquí están los años y valores extraídos de la imagen:\\n\\n*   **2016:** 92.26\\n*   **2017:** 92.34\\n*   **2018:** 92.42\\n*   **2019:** 92.50\\n*   **2020:** 92.59\\n*   **2021:** 92.67\\n*   **2022:** 92.76\\n*   **2023:** 92.85'}, 'Italy': {'labor_force': 'Aquí están los años y los valores extraídos de la imagen que proporcionaste:\\n\\n*   **2016:** 25.94\\n*   **2017:** 26.12\\n*   **2018:** 26.18\\n*   **2019:** 25.92\\n*   **2020:** 25.14\\n*   **2021:** 25.10\\n*   **2022:** 25.39\\n*   **2023:** 25.79', 'livestock_production_index': 'Aquí están los años y valores extraídos de la imagen:\\n\\n*   2015: 101.5\\n*   2016: 102.5\\n*   2017: 100.1\\n*   2018: 106.3\\n*   2019: 107.1\\n*   2020: 104.7\\n*   2021: 107.3\\n*   2022: 102.3', 'Percent_agricultural_land': 'Aquí están los años y valores que extraje de la imagen:\\n\\n*   **2015:** 43.77\\n*   **2016:** 43.33\\n*   **2017:** 43.37\\n*   **2018:** 41.95\\n*   **2019:** 42.37\\n*   **2020:** 41.94\\n*   **2021:** 43.96', 'Percent_urban_population': 'Aquí está la extracción de los años y valores de la imagen proporcionada:\\n\\n*   **2016:** 69.86\\n*   **2017:** 70.14\\n*   **2018:** 70.44\\n*   **2019:** 70.74\\n*   **2020:** 71.04\\n*   **2021:** 71.35\\n*   **2022:** 71.66\\n*   **2023:** 71.97'}, 'Japan': {'labor_force': 'Aquí están los años y valores extraídos de la imagen:\\n\\n*   **2016:** 66.55\\n*   **2017:** 67.07\\n*   **2018:** 68.19\\n*   **2019:** 68.81\\n*   **2020:** 68.66\\n*   **2021:** 68.67\\n*   **2022:** 68.93\\n*   **2023:** 69.21', 'livestock_production_index': 'Aquí están los años y valores extraídos de la imagen:\\n\\n*   **2015:** 99.60\\n*   **2016:** 100.3\\n*   **2017:** 100.9\\n*   **2018:** 101.9\\n*   **2019:** 102.5\\n*   **2020:** 103.8\\n*   **2021:** 104.1\\n*   **2022:** 104.8', 'Percent_agricultural_land': 'Aquí está la extracción de años y valores de la imagen proporcionada:\\n\\n*   **2015:** 13.29\\n*   **2016:** 13.20\\n*   **2017:** 13.11\\n*   **2018:** 13.02\\n*   **2019:** 12.94\\n*   **2020:** 12.84\\n*   **2021:** 12.78\\n*   **2022:** 12.72', 'Percent_urban_population': 'Aquí tienes los años y los valores correspondientes de la imagen:\\n\\n*   2016: 91.46\\n*   2017: 91.54\\n*   2018: 91.62\\n*   2019: 91.70\\n*   2020: 91.78\\n*   2021: 91.87\\n*   2022: 91.96\\n*   2023: 92.04'}, 'Latvia': {'labor_force': 'Aquí están los años y valores extraídos de la imagen:\\n\\n*   **2016:** 1.00\\n*   **2017:** 1.00\\n*   **2018:** 1.00\\n*   **2019:** 0.99\\n*   **2020:** 0.98\\n*   **2021:** 0.95\\n*   **2022:** 0.97\\n*   **2023:** 0.97', 'livestock_production_index': 'Aquí están los años y valores extraídos de la imagen:\\n\\n*   **2015:** 100.1\\n*   **2016:** 101.7\\n*   **2017:** 103.7\\n*   **2018:** 101.6\\n*   **2019:** 102.2\\n*   **2020:** 101.3\\n*   **2021:** 102.5\\n*   **2022:** 102.0', 'Percent_agricultural_land': 'Aquí están los años y valores extraídos de la imagen:\\n\\n*   **2015:** 30.28\\n*   **2016:** 31.03\\n*   **2017:** 31.06\\n*   **2018:** 31.14\\n*   **2019:** 31.50\\n*   **2020:** 31.64\\n*   **2021:** 31.66\\n*   **2022:** 31.66', 'Percent_urban_population': 'Aquí están los años y valores extraídos del gráfico:\\n\\n*   **2016:** 68.02\\n*   **2017:** 68.07\\n*   **2018:** 68.14\\n*   **2019:** 68.22\\n*   **2020:** 68.32\\n*   **2021:** 68.42\\n*   **2022:** 68.54\\n*   **2023:** 68.67'}, 'Lithuania': {'labor_force': 'Aquí está la información extraída de la imagen:\\n\\n*   **2016:** 1.47\\n*   **2017:** 1.46\\n*   **2018:** 1.46\\n*   **2019:** 1.47\\n*   **2020:** 1.48\\n*   **2021:** 1.47\\n*   **2022:** 1.49\\n*   **2023:** 1.52', 'livestock_production_index': 'Aquí están los años y valores extraídos de la imagen:\\n\\n*   **2015:** 102.0\\n*   **2016:** 97.10\\n*   **2017:** 97.50\\n*   **2018:** 95.00\\n*   **2019:** 94.60\\n*   **2020:** 92.60\\n*   **2021:** 91.40\\n*   **2022:** 91.20', 'Percent_agricultural_land': 'Aquí están los años y valores extraídos de la imagen:\\n\\n*   **2015:** 47.98\\n*   **2016:** 47.16\\n*   **2017:** 46.86\\n*   **2018:** 47.05\\n*   **2019:** 47.51\\n*   **2020:** 46.99\\n*   **2021:** 46.92\\n*   **2022:** 46.50', 'Percent_urban_population': 'Claro, aquí tienes los años y valores extraídos de la imagen:\\n\\n*   2016: 67.37\\n*   2017: 67.52\\n*   2018: 67.68\\n*   2019: 67.86\\n*   2020: 68.05\\n*   2021: 68.25\\n*   2022: 68.46\\n*   2023: 68.69'}, 'Luxembourg': {'labor_force': 'Aquí están los años y valores extraídos de la imagen:\\n\\n*   **2016:** 0.29\\n*   **2017:** 0.30\\n*   **2018:** 0.31\\n*   **2019:** 0.32\\n*   **2020:** 0.32\\n*   **2021:** 0.33\\n*   **2022:** 0.34\\n*   **2023:** 0.35', 'livestock_production_index': 'Claro, aquí están los años y valores extraídos de la imagen:\\n\\n*   2015: 101.1\\n*   2016: 105.7\\n*   2017: 108.9\\n*   2018: 113.3\\n*   2019: 115.4\\n*   2020: 120.5\\n*   2021: 120.1\\n*   2022: 120.2', 'Percent_agricultural_land': 'Aquí están los años y valores extraídos de la imagen:\\n\\n*   **2015:** 50.99\\n*   **2016:** 50.75\\n*   **2017:** 50.95\\n*   **2018:** 51.10\\n*   **2019:** 51.11\\n*   **2020:** 51.32\\n*   **2021:** 51.58\\n*   **2022:** 51.47', 'Percent_urban_population': 'Aquí tienes los datos extraídos del gráfico:\\n\\n*   **2016:** 90.46\\n*   **2017:** 90.73\\n*   **2018:** 90.98\\n*   **2019:** 91.22\\n*   **2020:** 91.45\\n*   **2021:** 91.67\\n*   **2022:** 91.88\\n*   **2023:** 92.08'}, 'Macedonia': {'labor_force': 'Aquí están los años y valores extraídos de la imagen:\\n\\n*   **2016:** 0.86\\n*   **2017:** 0.86\\n*   **2018:** 0.86\\n*   **2019:** 0.86\\n*   **2020:** 0.84\\n*   **2021:** 0.82\\n*   **2022:** 0.80\\n*   **2023:** 0.80', 'livestock_production_index': 'Aquí están los años y valores extraídos del gráfico:\\n\\n*   **2015:** 96.20\\n*   **2016:** 102.3\\n*   **2017:** 101.7\\n*   **2018:** 101.9\\n*   **2019:** 101.9\\n*   **2020:** 100.5\\n*   **2021:** 101.8\\n*   **2022:** 93.20'}}\n",
      "✅ Merged: parquet_exports\\livestock_production_index.parquet\n",
      "✅ Merged: parquet_exports\\Percent_agricultural_land.parquet\n",
      "✅ Merged: parquet_exports\\Percent_urban_population.parquet\n",
      "✅ Merged: parquet_exports\\labor_force.parquet\n",
      "The process for 32 images has finished.\n"
     ]
    }
   ],
   "source": [
    "run_extraction_pipeline(\n",
    "    input_csv='data/image_paths.csv',\n",
    "    processed_csv='data/processed_paths.csv',\n",
    "    batch_size=32\n",
    ")"
   ]
  },
  {
   "cell_type": "code",
   "execution_count": 15,
   "id": "b48d776c-dc34-4f85-b93d-2d4494e8b71c",
   "metadata": {},
   "outputs": [
    {
     "name": "stdout",
     "output_type": "stream",
     "text": [
      "Processing 32 images...\n",
      "{'Macedonia': {'Percent_agricultural_land': 'Aquí están los años y valores extraídos del gráfico:\\n\\n*   **2015:** 50.04\\n*   **2016:** 50.16\\n*   **2017:** 50.16\\n*   **2018:** 50.12\\n*   **2019:** 50.16\\n*   **2020:** 50.04\\n*   **2021:** 49.96\\n*   **2022:** 49.84', 'Percent_urban_population': 'Aquí están los años y los valores asociados a cada barra del gráfico:\\n\\n*   **2016:** 57.56\\n*   **2017:** 57.75\\n*   **2018:** 57.96\\n*   **2019:** 58.21\\n*   **2020:** 58.48\\n*   **2021:** 58.79\\n*   **2022:** 59.12\\n*   **2023:** 59.48'}, 'Malaysia': {'labor_force': 'Aquí tienes los años y valores extraídos de la imagen:\\n\\n*   2016: 15.30\\n*   2017: 15.66\\n*   2018: 16.10\\n*   2019: 16.57\\n*   2020: 16.82\\n*   2021: 17.26\\n*   2022: 17.48\\n*   2023: 17.75', 'livestock_production_index': 'Aquí están los años y valores extraídos del gráfico:\\n\\n*   **2015:** 104.8\\n*   **2016:** 102.8\\n*   **2017:** 102.8\\n*   **2018:** 100.4\\n*   **2019:** 97.5\\n*   **2020:** 102.5\\n*   **2021:** 100.4\\n*   **2022:** 99.70', 'Percent_agricultural_land': 'Aquí tienes los años y los valores extraídos de la imagen:\\n\\n*   **2015:** 26.08\\n*   **2016:** 26.09\\n*   **2017:** 26.09\\n*   **2018:** 26.09\\n*   **2019:** 26.09\\n*   **2020:** 26.09\\n*   **2021:** 26.09\\n*   **2022:** 26.09', 'Percent_urban_population': 'Aquí tienes los años y valores extraídos de la imagen:\\n\\n*   2016: 74.84\\n*   2017: 75.45\\n*   2018: 76.04\\n*   2019: 76.61\\n*   2020: 77.16\\n*   2021: 77.70\\n*   2022: 78.21\\n*   2023: 78.72'}, 'Malta': {'labor_force': 'Claro, aquí está la información extraída de la imagen del gráfico:\\n\\n| Año   | Valor |\\n|-------|-------|\\n| 2016  | 0.22  |\\n| 2017  | 0.23  |\\n| 2018  | 0.25  |\\n| 2019  | 0.26  |\\n| 2020  | 0.28  |\\n| 2021  | 0.28  |\\n| 2022  | 0.29  |\\n| 2023  | 0.31  |\\n\\nEspero que esto sea lo que necesitas.', 'livestock_production_index': 'Aquí están los años y los valores extraídos de la imagen:\\n\\n*   **2015:** 98.20\\n*   **2016:** 98.20\\n*   **2017:** 96.00\\n*   **2018:** 94.80\\n*   **2019:** 86.50\\n*   **2020:** 97.80\\n*   **2021:** 95.60\\n*   **2022:** 96.30', 'Percent_agricultural_land': 'Aquí están los años y valores extraídos de la imagen:\\n\\n*   2015: 31.97\\n*   2016: 32.44\\n*   2017: 32.44\\n*   2018: 32.44\\n*   2019: 32.44\\n*   2020: 28.47\\n*   2021: 27.34\\n*   2022: 27.34', 'Percent_urban_population': 'Claro, aquí está la extracción de los años y valores del gráfico:\\n\\n*   2016: 94.48\\n*   2017: 94.55\\n*   2018: 94.61\\n*   2019: 94.68\\n*   2020: 94.74\\n*   2021: 94.81\\n*   2022: 94.88\\n*   2023: 94.94'}, 'Mexico': {'labor_force': 'Aquí están los años y valores extraídos de la imagen:\\n\\n*   **2016:** 53.56\\n*   **2017:** 54.17\\n*   **2018:** 55.19\\n*   **2019:** 56.66\\n*   **2020:** 53.01\\n*   **2021:** 56.88\\n*   **2022:** 58.60\\n*   **2023:** 59.93', 'livestock_production_index': 'Aquí está la extracción de los años y los valores mostrados en la imagen:\\n\\n*   2015: 99.90\\n*   2016: 102.3\\n*   2017: 105.2\\n*   2018: 108.6\\n*   2019: 112.0\\n*   2020: 114.9\\n*   2021: 117.5\\n*   2022: 120.1', 'Percent_agricultural_land': 'Aquí están los años y valores extraídos del gráfico:\\n\\n*   **2015:** 50.76\\n*   **2016:** 50.59\\n*   **2017:** 49.87\\n*   **2018:** 49.65\\n*   **2019:** 49.44\\n*   **2020:** 49.97\\n*   **2021:** 49.96\\n*   **2022:** 49.40', 'Percent_urban_population': 'Aquí están los años y valores extraídos de la imagen:\\n\\n*   **2016:** 79.58\\n*   **2017:** 79.87\\n*   **2018:** 80.16\\n*   **2019:** 80.44\\n*   **2020:** 80.73\\n*   **2021:** 81.02\\n*   **2022:** 81.30\\n*   **2023:** 81.58'}, 'Morocco': {'labor_force': 'Aquí están los años y los valores asociados con las barras en la imagen:\\n\\n*   2016: 11.76\\n*   2017: 11.67\\n*   2018: 11.91\\n*   2019: 12.14\\n*   2020: 11.93\\n*   2021: 12.27\\n*   2022: 12.17\\n*   2023: 12.28', 'livestock_production_index': 'Aquí están los años y los valores correspondientes extraídos de la imagen:\\n\\n*   **2015:** 103.1\\n*   **2016:** 100.9\\n*   **2017:** 110.9\\n*   **2018:** 113.0\\n*   **2019:** 115.9\\n*   **2020:** 112.6\\n*   **2021:** 112.1\\n*   **2022:** 104.6', 'Percent_agricultural_land': 'Aquí tienes los años y valores extraídos de la imagen:\\n\\n*   **2015:** 67.32\\n*   **2016:** 69.18\\n*   **2017:** 69.56\\n*   **2018:** 68.40\\n*   **2019:** 66.35\\n*   **2020:** 68.02\\n*   **2021:** 67.87\\n*   **2022:** 67.87', 'Percent_urban_population': 'Aquí tienes los años y valores extraídos de la imagen:\\n\\n*   **2016:** 61.36\\n*   **2017:** 61.91\\n*   **2018:** 62.45\\n*   **2019:** 62.99\\n*   **2020:** 63.53\\n*   **2021:** 64.07\\n*   **2022:** 64.60\\n*   **2023:** 65.12'}, 'Netherlands': {'labor_force': 'Aquí están los años y valores extraídos de la imagen:\\n\\n*   **2016:** 9.12\\n*   **2017:** 9.19\\n*   **2018:** 9.30\\n*   **2019:** 9.46\\n*   **2020:** 9.50\\n*   **2021:** 9.62\\n*   **2022:** 9.80\\n*   **2023:** 10.02', 'livestock_production_index': 'Claro, aquí están los años y valores extraídos del gráfico:\\n\\n*   2015: 101.6\\n*   2016: 104.1\\n*   2017: 100.6\\n*   2018: 97.30\\n*   2019: 99.10\\n*   2020: 101.9\\n*   2021: 103.8\\n*   2022: 101.2', 'Percent_agricultural_land': 'Claro, aquí están los años y valores extraídos de la imagen:\\n\\n*   2015: 54.83\\n*   2016: 53.91\\n*   2017: 54.02\\n*   2018: 54.14\\n*   2019: 53.96\\n*   2020: 53.89\\n*   2021: 53.82\\n*   2022: 53.58', 'Percent_urban_population': 'Aquí están los años y valores extraídos de la imagen:\\n\\n*   **2016:** 90.57\\n*   **2017:** 91.08\\n*   **2018:** 91.49\\n*   **2019:** 91.88\\n*   **2020:** 92.24\\n*   **2021:** 92.57\\n*   **2022:** 92.89\\n*   **2023:** 93.18'}, 'New-Zealand': {'labor_force': 'Aquí tienes los años y valores extraídos de la imagen:\\n\\n*   **2016:** 2.65\\n*   **2017:** 2.75\\n*   **2018:** 2.80\\n*   **2019:** 2.84\\n*   **2020:** 2.90\\n*   **2021:** 2.94\\n*   **2022:** 2.97\\n*   **2023:** 3.07', 'livestock_production_index': 'Aquí están los años y valores extraídos de la imagen:\\n\\n*   **2015:** 101.7\\n*   **2016:** 99.70\\n*   **2017:** 98.70\\n*   **2018:** 101.7\\n*   **2019:** 101.6\\n*   **2020:** 102.4\\n*   **2021:** 102.5\\n*   **2022:** 99.00', 'Percent_agricultural_land': 'Aquí están los años y valores extraídos de la imagen:\\n\\n*   **2015:** 40.68\\n*   **2016:** 40.31\\n*   **2017:** 40.42\\n*   **2018:** 39.87\\n*   **2019:** 39.29\\n*   **2020:** 38.56\\n*   **2021:** 38.64\\n*   **2022:** 37.02', 'Percent_urban_population': 'Aquí están los años y valores extraídos de la imagen:\\n\\n*   **2016:** 86.40\\n*   **2017:** 86.47\\n*   **2018:** 86.54\\n*   **2019:** 86.61\\n*   **2020:** 86.70\\n*   **2021:** 86.79\\n*   **2022:** 86.80\\n*   **2023:** 86.90'}, 'Norway': {'labor_force': 'Aquí está la información extraída del gráfico:\\n\\n*   **2016:** 2.76\\n*   **2017:** 2.80\\n*   **2018:** 2.83\\n*   **2019:** 2.83\\n*   **2020:** 2.83\\n*   **2021:** 2.97\\n*   **2022:** 2.98\\n*   **2023:** 3.01', 'livestock_production_index': 'Aquí están los años y los valores extraídos de la imagen:\\n\\n*   2015: 99.60\\n*   2016: 101.1\\n*   2017: 102.0\\n*   2018: 103.3\\n*   2019: 101.6\\n*   2020: 101.5\\n*   2021: 104.0\\n*   2022: 102.8', 'Percent_agricultural_land': 'Aquí está la información extraída de la imagen:\\n\\n*   **2015:** 2.70\\n*   **2016:** 2.69\\n*   **2017:** 2.70\\n*   **2018:** 2.70\\n*   **2019:** 2.70\\n*   **2020:** 2.71\\n*   **2021:** 2.70\\n*   **2022:** 2.70', 'Percent_urban_population': 'Aquí está la información extraída del gráfico:\\n\\n*   **2016:** 81.49\\n*   **2017:** 81.87\\n*   **2018:** 82.25\\n*   **2019:** 82.62\\n*   **2020:** 82.97\\n*   **2021:** 83.2\\n*   **2022:** 83.66\\n*   **2023:** 84.00'}, 'Paraguay': {'labor_force': 'Aquí están los años y valores extraídos del gráfico:\\n\\n*   **2016:** 3.07\\n*   **2017:** 3.13\\n*   **2018:** 3.26\\n*   **2019:** 3.33\\n*   **2020:** 3.28\\n*   **2021:** 3.41\\n*   **2022:** 3.39\\n*   **2023:** 3.46', 'livestock_production_index': 'Aquí tienes los años y valores extraídos del gráfico:\\n\\n*   2015: 96.70\\n*   2016: 101.6\\n*   2017: 113.0\\n*   2018: 106.9\\n*   2019: 105.3\\n*   2020: 112.0\\n*   2021: 113.4\\n*   2022: 113.4'}}\n",
      "✅ Merged: parquet_exports\\Percent_agricultural_land.parquet\n",
      "✅ Merged: parquet_exports\\Percent_urban_population.parquet\n",
      "✅ Merged: parquet_exports\\labor_force.parquet\n",
      "✅ Merged: parquet_exports\\livestock_production_index.parquet\n",
      "The process for 32 images has finished.\n"
     ]
    }
   ],
   "source": [
    "run_extraction_pipeline(\n",
    "    input_csv='data/image_paths.csv',\n",
    "    processed_csv='data/processed_paths.csv',\n",
    "    batch_size=32\n",
    ")"
   ]
  },
  {
   "cell_type": "markdown",
   "id": "92699eff-0a1b-4923-8dfc-d7e5371eb1bd",
   "metadata": {},
   "source": [
    "## Catch some problems in the output\n",
    "\n",
    "### This proves the thesis that AI models are probabilistic models\n",
    "- Predict based on likelihoods — They choose outputs (like words or labels) based on probability, not certainty.\n",
    "- Learn patterns — They find statistical trends in data, not hard rules.\n",
    "- Use randomness — In generation tasks, they sample from possible options, so results can vary.\n",
    "\n",
    "**For that reason:** The values for the country 'Malta' were not extracted, since we prepared the code to clean a certain pattern in the text, but the AI model returned a completely different pattern."
   ]
  },
  {
   "cell_type": "code",
   "execution_count": 20,
   "id": "45354953-af57-42a3-bb48-40cda343fabb",
   "metadata": {},
   "outputs": [
    {
     "name": "stdout",
     "output_type": "stream",
     "text": [
      "\n",
      "📊 labor_force for Malta\n",
      "Empty DataFrame\n",
      "Columns: [Malta]\n",
      "Index: []\n"
     ]
    }
   ],
   "source": [
    "# Load all Parquet files from the output directory\n",
    "parquet_data = load_parquet_files(\"parquet_exports\")\n",
    "view_country_statistic(parquet_data, \"labor_force\", \"Malta\")"
   ]
  },
  {
   "cell_type": "code",
   "execution_count": 16,
   "id": "d5e9e547-6099-486b-a276-a9830ed3e8e6",
   "metadata": {},
   "outputs": [
    {
     "name": "stdout",
     "output_type": "stream",
     "text": [
      "Processing 32 images...\n",
      "{'Paraguay': {'Percent_agricultural_land': 'Aquí tienes los años y valores extraídos del gráfico:\\n\\n*   **2015:** 40.68\\n*   **2016:** 40.83\\n*   **2017:** 40.97\\n*   **2018:** 41.12\\n*   **2019:** 41.28\\n*   **2020:** 41.42\\n*   **2021:** 41.57\\n*   **2022:** 41.99', 'Percent_urban_population': 'Aquí están los años y los valores extraídos de la imagen:\\n\\n*   2016: 61.03\\n*   2017: 61.30\\n*   2018: 61.58\\n*   2019: 61.88\\n*   2020: 62.18\\n*   2021: 62.50\\n*   2022: 62.82\\n*   2023: 63.15'}, 'Peru': {'labor_force': 'Claro, aquí está la extracción de años y valores de la imagen:\\n\\n*   **2016:** 17.65\\n*   **2017:** 17.65\\n*   **2018:** 18.12\\n*   **2019:** 18.60\\n*   **2020:** 16.86\\n*   **2021:** 17.85\\n*   **2022:** 18.26\\n*   **2023:** 18.58\\n\\nEspero que esto ayude.\\n', 'livestock_production_index': 'Claro, aquí están los años y valores extraídos de la imagen:\\n\\n*   2015: 99.3\\n*   2016: 102.9\\n*   2017: 105.6\\n*   2018: 111.3\\n*   2019: 119.9\\n*   2020: 117.8\\n*   2021: 120.2\\n*   2022: 123.1', 'Percent_agricultural_land': 'Aquí están los años y valores extraídos de la imagen:\\n\\n*   **2015:** 19.00\\n*   **2016:** 18.75\\n*   **2017:** 18.95\\n*   **2018:** 18.82\\n*   **2019:** 18.64\\n*   **2020:** 19.13\\n*   **2021:** 19.61\\n*   **2022:** 19.05', 'Percent_urban_population': 'Aquí están los años y valores extraídos de la imagen:\\n\\n*   2016: 77.54\\n*   2017: 77.72\\n*   2018: 77.91\\n*   2019: 78.10\\n*   2020: 78.30\\n*   2021: 78.50\\n*   2022: 78.71\\n*   2023: 78.92'}, 'Philippines': {'labor_force': 'Aquí están los años y valores extraídos del gráfico:\\n\\n*   **2016:** 44.09\\n*   **2017:** 43.27\\n*   **2018:** 44.04\\n*   **2019:** 45.26\\n*   **2020:** 42.54\\n*   **2021:** 44.70\\n*   **2022:** 47.89\\n*   **2023:** 49.41', 'livestock_production_index': 'Aquí están los años y valores extraídos del gráfico:\\n\\n*   2015: 101.7\\n*   2016: 101.1\\n*   2017: 97.9\\n*   2018: 98.2\\n*   2019: 100.1\\n*   2020: 94.3\\n*   2021: 86.5\\n*   2022: 90.4', 'Percent_agricultural_land': 'Aquí están los años y valores extraídos de la imagen:\\n\\n*   **2015:** 42.01\\n*   **2016:** 42.11\\n*   **2017:** 42.22\\n*   **2018:** 42.30\\n*   **2019:** 42.38\\n*   **2020:** 42.46\\n*   **2021:** 42.54\\n*   **2022:** 42.54', 'Percent_urban_population': 'Claro, aquí están los años y valores extraídos de la imagen:\\n\\n*   2016: 46.47\\n*   2017: 46.68\\n*   2018: 46.91\\n*   2019: 47.15\\n*   2020: 47.41\\n*   2021: 47.68\\n*   2022: 47.98\\n*   2023: 48.29'}, 'Poland': {'labor_force': 'Aquí están los años y los valores extraídos de la imagen:\\n\\n*   **2016:** 18.34\\n*   **2017:** 18.41\\n*   **2018:** 18.37\\n*   **2019:** 18.30\\n*   **2020:** 18.22\\n*   **2021:** 18.12\\n*   **2022:** 18.26\\n*   **2023:** 18.36', 'livestock_production_index': 'Aquí están los años y los valores correspondientes extraídos del gráfico:\\n\\n*   **2015:** 101.2\\n*   **2016:** 101.0\\n*   **2017:** 109.6\\n*   **2018:** 113.1\\n*   **2019:** 114.3\\n*   **2020:** 116.3\\n*   **2021:** 113.6\\n*   **2022:** 113.6', 'Percent_agricultural_land': 'Aquí están los años y valores extraídos de la imagen:\\n\\n*   **2015:** 46.93\\n*   **2016:** 46.94\\n*   **2017:** 47.23\\n*   **2018:** 47.40\\n*   **2019:** 47.44\\n*   **2020:** 48.13\\n*   **2021:** 47.37\\n*   **2022:** 46.31', 'Percent_urban_population': 'Aquí están los años y valores extraídos del gráfico:\\n\\n*   2016: 60.18\\n*   2017: 60.10\\n*   2018: 60.06\\n*   2019: 60.04\\n*   2020: 60.04\\n*   2021: 60.08\\n*   2022: 60.13\\n*   2023: 60.22'}, 'Portugal': {'labor_force': 'Aquí están los años y valores extraídos de la imagen:\\n\\n*   **2016:** 5.18\\n*   **2017:** 5.23\\n*   **2018:** 5.24\\n*   **2019:** 5.27\\n*   **2020:** 5.18\\n*   **2021:** 5.20\\n*   **2022:** 5.32\\n*   **2023:** 5.45', 'livestock_production_index': 'Aquí tienes los años y valores extraídos del gráfico:\\n\\n*   **2015:** 102.3\\n*   **2016:** 103.1\\n*   **2017:** 102.1\\n*   **2018:** 101.1\\n*   **2019:** 102.8\\n*   **2020:** 104.7\\n*   **2021:** 106.8\\n*   **2022:** 104.8', 'Percent_agricultural_land': 'Aquí están los años y valores que extraje de la imagen:\\n\\n*   2015: 39.51\\n*   2016: 40.10\\n*   2017: 40.79\\n*   2018: 43.13\\n*   2019: 43.13\\n*   2020: 43.25\\n*   2021: 43.25\\n*   2022: 42.79', 'Percent_urban_population': 'Aquí están los años y valores extraídos de la imagen:\\n\\n*   **2016:** 64.09\\n*   **2017:** 64.65\\n*   **2018:** 65.21\\n*   **2019:** 65.76\\n*   **2020:** 66.31\\n*   **2021:** 66.85\\n*   **2022:** 67.38\\n*   **2023:** 67.91'}, 'Romania': {'labor_force': 'Aquí están los años y valores extraídos de la imagen:\\n\\n*   **2016:** 8.92\\n*   **2017:** 9.06\\n*   **2018:** 9.00\\n*   **2019:** 8.97\\n*   **2020:** 8.90\\n*   **2021:** 8.19\\n*   **2022:** 8.29\\n*   **2023:** 8.28', 'livestock_production_index': 'Claro, aquí están los años y valores extraídos de la imagen:\\n\\n*   **2015:** 100.0\\n*   **2016:** 100.9\\n*   **2017:** 99.3\\n*   **2018:** 88.0\\n*   **2019:** 87.6\\n*   **2020:** 85.0\\n*   **2021:** 86.3\\n*   **2022:** 83.6', 'Percent_agricultural_land': 'Aquí están los años y valores extraídos del gráfico:\\n\\n*   **2015:** 60.23\\n*   **2016:** 58.77\\n*   **2017:** 58.14\\n*   **2018:** 58.30\\n*   **2019:** 60.09\\n*   **2020:** 56.72\\n*   **2021:** 56.85\\n*   **2022:** 55.10', 'Percent_urban_population': 'Claro, aquí están los años y los valores del gráfico:\\n\\n*   **2016:** 53.90\\n*   **2017:** 53.94\\n*   **2018:** 54.00\\n*   **2019:** 54.08\\n*   **2020:** 54.19\\n*   **2021:** 54.33\\n*   **2022:** 54.49\\n*   **2023:** 54.67'}, 'Russia': {'labor_force': 'Claro, aquí están los años y valores extraídos de la imagen:\\n\\n*   **2016:** 75.54\\n*   **2017:** 75.04\\n*   **2018:** 74.99\\n*   **2019:** 74.15\\n*   **2020:** 73.67\\n*   **2021:** 74.03\\n*   **2022:** 73.81\\n*   **2023:** 72.46', 'livestock_production_index': 'Aquí está el análisis de los datos de la imagen:\\n\\n*   **2015:** 100.6\\n*   **2016:** 101.1\\n*   **2017:** 103.9\\n*   **2018:** 106.1\\n*   **2019:** 107.9\\n*   **2020:** 110.9\\n*   **2021:** 111.8\\n*   **2022:** 116.9', 'Percent_agricultural_land': 'Aquí están los años y valores extraídos de la imagen:\\n\\n*   **2015:** 13.16\\n*   **2016:** 13.16\\n*   **2017:** 13.16\\n*   **2018:** 13.16\\n*   **2019:** 13.16\\n*   **2020:** 13.16\\n*   **2021:** 13.16\\n*   **2022:** 13.16', 'Percent_urban_population': 'Aquí están los años y valores extraídos del gráfico:\\n\\n*   **2016:** 74.16\\n*   **2017:** 74.29\\n*   **2018:** 74.43\\n*   **2019:** 74.59\\n*   **2020:** 74.75\\n*   **2021:** 74.93\\n*   **2022:** 75.13\\n*   **2023:** 75.33'}, 'Serbia': {'labor_force': 'Aquí tienes los datos extraídos del gráfico:\\n\\n*   **2016:** 3.23\\n*   **2017:** 3.25\\n*   **2018:** 3.27\\n*   **2019:** 3.26\\n*   **2020:** 3.21\\n*   **2021:** 3.40\\n*   **2022:** 3.38\\n*   **2023:** 3.34', 'livestock_production_index': 'Aquí está la extracción de los años y valores del gráfico que proporcionaste:\\n\\n*   **2015:** 99.90\\n*   **2016:** 103.7\\n*   **2017:** 101.8\\n*   **2018:** 108.4\\n*   **2019:** 106.6\\n*   **2020:** 105.8\\n*   **2021:** 106.3\\n*   **2022:** 107.0', 'Percent_agricultural_land': 'Aquí están los años y valores extraídos de la barra del gráfico:\\n\\n*   **2015:** 39.80\\n*   **2016:** 39.52\\n*   **2017:** 39.09\\n*   **2018:** 39.61\\n*   **2019:** 39.56\\n*   **2020:** 41.41\\n*   **2021:** 41.44\\n*   **2022:** 41.25', 'Percent_urban_population': 'Aquí está la información extraída de la imagen:\\n\\n*   **2016:** 55.81\\n*   **2017:** 55.94\\n*   **2018:** 56.09\\n*   **2019:** 56.26\\n*   **2020:** 56.45\\n*   **2021:** 56.65\\n*   **2022:** 56.87\\n*   **2023:** 57.11'}, 'Singapore': {'labor_force': 'Aquí están los años y valores extraídos del gráfico:\\n\\n*   **2016:** 3.48\\n*   **2017:** 3.47\\n*   **2018:** 3.47\\n*   **2019:** 3.53\\n*   **2020:** 3.51\\n*   **2021:** 3.41\\n*   **2022:** 3.53\\n*   **2023:** 3.62', 'livestock_production_index': 'Claro, aquí están los años y valores extraídos de la imagen:\\n\\n*   2015: 98.9\\n*   2016: 106.8\\n*   2017: 139.8\\n*   2018: 112.1\\n*   2019: 126.7\\n*   2020: 127.7\\n*   2021: 139.5\\n*   2022: 139.0'}}\n",
      "✅ Merged: parquet_exports\\Percent_agricultural_land.parquet\n",
      "✅ Merged: parquet_exports\\Percent_urban_population.parquet\n",
      "✅ Merged: parquet_exports\\labor_force.parquet\n",
      "✅ Merged: parquet_exports\\livestock_production_index.parquet\n",
      "The process for 32 images has finished.\n"
     ]
    }
   ],
   "source": [
    "run_extraction_pipeline(\n",
    "    input_csv='data/image_paths.csv',\n",
    "    processed_csv='data/processed_paths.csv',\n",
    "    batch_size=32\n",
    ")"
   ]
  },
  {
   "cell_type": "code",
   "execution_count": 17,
   "id": "6ce6b954-2a1d-4a7c-95d9-7f271b13b1f6",
   "metadata": {},
   "outputs": [
    {
     "name": "stdout",
     "output_type": "stream",
     "text": [
      "Processing 32 images...\n",
      "{'Singapore': {'Percent_agricultural_land': 'Aquí está la información extraída de la imagen:\\n\\n*   **2015:** 0.93\\n*   **2016:** 0.93\\n*   **2017:** 0.93\\n*   **2018:** 0.92\\n*   **2019:** 0.92\\n*   **2020:** 0.92\\n*   **2021:** 0.92\\n*   **2022:** 0.92', 'Percent_urban_population': 'Aquí tienes los años y valores extraídos de la imagen:\\n\\n*   **2016:** 100.0\\n*   **2017:** 100.0\\n*   **2018:** 100.0\\n*   **2019:** 100.0\\n*   **2020:** 100.0\\n*   **2021:** 100.0\\n*   **2022:** 100.0\\n*   **2023:** 100.0'}, 'Slovakia': {'labor_force': 'Aquí están los años y valores extraídos de la imagen:\\n\\n*   **2016:** 2.76\\n*   **2017:** 2.75\\n*   **2018:** 2.75\\n*   **2019:** 2.74\\n*   **2020:** 2.71\\n*   **2021:** 2.77\\n*   **2022:** 2.81\\n*   **2023:** 2.81', 'livestock_production_index': 'Aquí están los años y valores extraídos de la imagen:\\n\\n*   **2015:** 95.90\\n*   **2016:** 100.1\\n*   **2017:** 101.2\\n*   **2018:** 99.70\\n*   **2019:** 106.8\\n*   **2020:** 105.3\\n*   **2021:** 91.70\\n*   **2022:** 88.20', 'Percent_agricultural_land': 'Aquí tienes los años y valores extraídos de la imagen:\\n\\n*   **2015:** 39.28\\n*   **2016:** 39.23\\n*   **2017:** 39.08\\n*   **2018:** 39.29\\n*   **2019:** 39.21\\n*   **2020:** 39.16\\n*   **2021:** 38.60\\n*   **2022:** 38.46', 'Percent_urban_population': 'Claro, aquí está la extracción de los años y valores del gráfico proporcionado:\\n\\n*   **2016:** 53.81\\n*   **2017:** 53.75\\n*   **2018:** 53.73\\n*   **2019:** 53.73\\n*   **2020:** 53.76\\n*   **2021:** 53.82\\n*   **2022:** 53.91\\n*   **2023:** 54.03\\n\\nEspero que esto ayude.'}, 'Slovenia': {'labor_force': 'Aquí tienes los años y valores extraídos del gráfico:\\n\\n*   **2016:** 0.99\\n*   **2017:** 1.03\\n*   **2018:** 1.04\\n*   **2019:** 1.03\\n*   **2020:** 1.03\\n*   **2021:** 1.05\\n*   **2022:** 1.06\\n*   **2023:** 1.06', 'livestock_production_index': 'Aquí están los años y valores extraídos de la imagen del gráfico:\\n\\n*   **2015:** 99.10\\n*   **2016:** 103.6\\n*   **2017:** 103.9\\n*   **2018:** 103.3\\n*   **2019:** 103.5\\n*   **2020:** 104.4\\n*   **2021:** 105.7\\n*   **2022:** 101.5', 'Percent_agricultural_land': 'Aquí están los años y valores extraídos de la imagen:\\n\\n*   **2015:** 30.61\\n*   **2016:** 30.66\\n*   **2017:** 30.54\\n*   **2018:** 30.39\\n*   **2019:** 30.41\\n*   **2020:** 30.32\\n*   **2021:** 30.34\\n*   **2022:** 30.33', 'Percent_urban_population': 'Claro, aquí tienes los años y valores extraídos de la imagen:\\n\\n*   **2016:** 54.02\\n*   **2017:** 54.27\\n*   **2018:** 54.54\\n*   **2019:** 54.82\\n*   **2020:** 55.12\\n*   **2021:** 55.43\\n*   **2022:** 55.75\\n*   **2023:** 56.09\\n\\nEspero que esto ayude.'}, 'South-Africa': {'labor_force': 'Aquí están los años y valores extraídos de la imagen:\\n\\n*   **2016:** 23.79\\n*   **2017:** 24.30\\n*   **2018:** 24.58\\n*   **2019:** 25.22\\n*   **2020:** 24.18\\n*   **2021:** 25.17\\n*   **2022:** 26.17\\n*   **2023:** 27.14', 'livestock_production_index': 'Claro, aquí están los años y valores extraídos de la imagen:\\n\\n*   **2015:** 101.5\\n*   **2016:** 100.2\\n*   **2017:** 95.6\\n*   **2018:** 98.1\\n*   **2019:** 102.9\\n*   **2020:** 104.5\\n*   **2021:** 104.2\\n*   **2022:** 103.2', 'Percent_agricultural_land': 'Claro, aquí están los años y valores extraídos de la imagen:\\n\\n*   **2015:** 79.42\\n*   **2016:** 79.42\\n*   **2017:** 79.42\\n*   **2018:** 79.42\\n*   **2019:** 79.42\\n*   **2020:** 79.42\\n*   **2021:** 79.42\\n*   **2022:** 79.42\\n\\nEspero que esto sea útil. Avísame si necesitas algo más.', 'Percent_urban_population': 'Aquí está la información extraída del gráfico:\\n\\n*   **2016:** 65.34\\n*   **2017:** 65.85\\n*   **2018:** 66.36\\n*   **2019:** 66.86\\n*   **2020:** 67.35\\n*   **2021:** 67.65\\n*   **2022:** 68.33\\n*   **2023:** 68.82'}, 'South-Korea': {'labor_force': 'Claro, aquí están los años y valores extraídos de la imagen:\\n\\n*   2016: 28.05\\n*   2017: 28.36\\n*   2018: 28.53\\n*   2019: 28.82\\n*   2020: 28.61\\n*   2021: 28.80\\n*   2022: 29.39\\n*   2023: 29.70', 'livestock_production_index': 'Aquí están los años y los valores de la imagen:\\n\\n*   **2015:** 101.6\\n*   **2016:** 100.2\\n*   **2017:** 98.90\\n*   **2018:** 103.0\\n*   **2019:** 105.1\\n*   **2020:** 109.1\\n*   **2021:** 108.6\\n*   **2022:** 109.3', 'Percent_agricultural_land': 'Aquí están los años y valores que extraje del gráfico:\\n\\n*   **2015:** 17.82\\n*   **2016:** 17.45\\n*   **2017:** 17.20\\n*   **2018:** 16.94\\n*   **2019:** 16.77\\n*   **2020:** 16.61\\n*   **2021:** 16.42\\n*   **2022:** 16.23', 'Percent_urban_population': 'Aquí están los años y los valores extraídos del gráfico:\\n\\n*   2016: 81.56\\n*   2017: 81.50\\n*   2018: 81.46\\n*   2019: 81.43\\n*   2020: 81.41\\n*   2021: 81.41\\n*   2022: 81.43\\n*   2023: 81.46'}, 'Spain': {'labor_force': 'Aquí están los años y los valores correspondientes de la barra gráfica:\\n\\n*   **2016:** 23.03\\n*   **2017:** 22.95\\n*   **2018:** 22.98\\n*   **2019:** 23.19\\n*   **2020:** 22.89\\n*   **2021:** 23.44\\n*   **2022:** 23.73\\n*   **2023:** 24.15', 'livestock_production_index': 'Claro, aquí está la información extraída de la imagen:\\n\\n*   **2015:** 99.8\\n*   **2016:** 105.7\\n*   **2017:** 107.0\\n*   **2018:** 110.3\\n*   **2019:** 113.8\\n*   **2020:** 118.3\\n*   **2021:** 119.8\\n*   **2022:** 118.7', 'Percent_agricultural_land': 'Aquí está la información extraída de la imagen:\\n\\n*   **2015:** 53.19\\n*   **2016:** 52.58\\n*   **2017:** 52.64\\n*   **2018:** 52.41\\n*   **2019:** 52.46\\n*   **2020:** 52.33\\n*   **2021:** 52.48\\n*   **2022:** 53.36', 'Percent_urban_population': 'Aquí tienes los años y valores extraídos de la imagen:\\n\\n*   **2016:** 79.84\\n*   **2017:** 80.08\\n*   **2018:** 80.32\\n*   **2019:** 80.57\\n*   **2020:** 80.81\\n*   **2021:** 81.06\\n*   **2022:** 81.30\\n*   **2023:** 81.55'}, 'Sweden': {'labor_force': 'Aquí tienes los años y valores extraídos del gráfico:\\n\\n*   **2016:** 5.31\\n*   **2017:** 5.40\\n*   **2018:** 5.48\\n*   **2019:** 5.55\\n*   **2020:** 5.57\\n*   **2021:** 5.64\\n*   **2022:** 5.73\\n*   **2023:** 5.84', 'livestock_production_index': 'Aquí están los años y valores extraídos de la imagen del gráfico:\\n\\n*   **2015:** 101.3\\n*   **2016:** 99.30\\n*   **2017:** 99.10\\n*   **2018:** 97.80\\n*   **2019:** 97.50\\n*   **2020:** 100.0\\n*   **2021:** 99.70\\n*   **2022:** 99.80', 'Percent_agricultural_land': 'Aquí están los años y valores extraídos de la imagen:\\n\\n*   **2015:** 7.43\\n*   **2016:** 7.42\\n*   **2017:** 7.39\\n*   **2018:** 7.37\\n*   **2019:** 7.38\\n*   **2020:** 7.38\\n*   **2021:** 7.37\\n*   **2022:** 7.35', 'Percent_urban_population': 'Aquí están los años y valores extraídos del gráfico:\\n\\n*   2016: 86.85\\n*   2017: 87.15\\n*   2018: 87.43\\n*   2019: 87.71\\n*   2020: 87.98\\n*   2021: 88.24\\n*   2022: 88.49\\n*   2023: 88.74'}, 'Switzerland': {'labor_force': 'Claro, aquí están los años y valores extraídos de la imagen:\\n\\n*   2016: 4.89\\n*   2017: 4.92\\n*   2018: 4.96\\n*   2019: 4.97\\n*   2020: 4.98\\n*   2021: 4.98\\n*   2022: 4.97\\n*   2023: 5.01', 'livestock_production_index': 'Aquí están los años y valores extraídos de la imagen:\\n\\n*   **2015:** 100.3\\n*   **2016:** 99.30\\n*   **2017:** 98.20\\n*   **2018:** 100.0\\n*   **2019:** 97.10\\n*   **2020:** 97.70\\n*   **2021:** 98.30\\n*   **2022:** 97.40', 'Percent_agricultural_land': 'Aquí están los años y los valores extraídos de la imagen:\\n\\n*   **2015:** 38.42\\n*   **2016:** 38.34\\n*   **2017:** 38.26\\n*   **2018:** 38.18\\n*   **2019:** 38.11\\n*   **2020:** 38.03\\n*   **2021:** 37.95\\n*   **2022:** 37.87', 'Percent_urban_population': 'Claro, aquí tienes los años y valores extraídos de la imagen:\\n\\n*   **2016:** 73.74\\n*   **2017:** 73.76\\n*   **2018:** 73.80\\n*   **2019:** 73.85\\n*   **2020:** 73.92\\n*   **2021:** 74.00\\n*   **2022:** 74.09\\n*   **2023:** 74.20\\n\\nEspero que esto sea útil.\\n'}, 'Thailand': {'labor_force': 'Aquí tienes los años y valores extraídos del gráfico:\\n\\n*   **2016:** 39.71\\n*   **2017:** 39.71\\n*   **2018:** 40.19\\n*   **2019:** 39.96\\n*   **2020:** 40.25\\n*   **2021:** 40.43\\n*   **2022:** 40.97\\n*   **2023:** 40.82', 'livestock_production_index': 'Aquí están los años y valores extraídos de la imagen:\\n\\n*   2015: 99.60\\n*   2016: 98.70\\n*   2017: 99.70\\n*   2018: 98.90\\n*   2019: 101.5\\n*   2020: 101.3\\n*   2021: 102.8\\n*   2022: 103.3'}}\n",
      "✅ Merged: parquet_exports\\Percent_agricultural_land.parquet\n",
      "✅ Merged: parquet_exports\\Percent_urban_population.parquet\n",
      "✅ Merged: parquet_exports\\labor_force.parquet\n",
      "✅ Merged: parquet_exports\\livestock_production_index.parquet\n",
      "The process for 32 images has finished.\n"
     ]
    }
   ],
   "source": [
    "run_extraction_pipeline(\n",
    "    input_csv='data/image_paths.csv',\n",
    "    processed_csv='data/processed_paths.csv',\n",
    "    batch_size=32\n",
    ")"
   ]
  },
  {
   "cell_type": "code",
   "execution_count": 18,
   "id": "714faf2b-36ea-41c2-aff5-136f84f189f3",
   "metadata": {},
   "outputs": [
    {
     "name": "stdout",
     "output_type": "stream",
     "text": [
      "Processing 14 images...\n",
      "{'Thailand': {'Percent_agricultural_land': 'Aquí están los años y los valores extraídos de la imagen:\\n\\n*   **2015:** 44.72\\n*   **2016:** 44.71\\n*   **2017:** 44.72\\n*   **2018:** 44.72\\n*   **2019:** 45.02\\n*   **2020:** 45.5\\n*   **2021:** 46.00\\n*   **2022:** 46.00', 'Percent_urban_population': 'Aquí están los años y valores extraídos de la imagen:\\n\\n*   2016: 48.45\\n*   2017: 49.20\\n*   2018: 49.95\\n*   2019: 50.69\\n*   2020: 51.43\\n*   2021: 52.16\\n*   2022: 52.89\\n*   2023: 53.61'}, 'Turkey': {'labor_force': 'Claro, aquí están los años y valores extraídos de la imagen:\\n\\n*   **2016:** 31.49\\n*   **2017:** 32.51\\n*   **2018:** 33.27\\n*   **2019:** 33.66\\n*   **2020:** 31.75\\n*   **2021:** 33.49\\n*   **2022:** 35.10\\n*   **2023:** 35.59', 'livestock_production_index': 'Claro, aquí tienes los datos extraídos de la imagen:\\n\\n*   2015: 100.0\\n*   2016: 100.9\\n*   2017: 109.9\\n*   2018: 115.1\\n*   2019: 123.0\\n*   2020: 126.8\\n*   2021: 131.9\\n*   2022: 137.3', 'Percent_agricultural_land': 'Aquí tienes la información extraída del gráfico:\\n\\n*   **2015:** 50.09\\n*   **2016:** 49.80\\n*   **2017:** 49.33\\n*   **2018:** 49.12\\n*   **2019:** 49.01\\n*   **2020:** 49.07\\n*   **2021:** 49.49\\n*   **2022:** 50.00', 'Percent_urban_population': 'Aquí están los años y valores extraídos de la imagen:\\n\\n*   **2016:** 74.13\\n*   **2017:** 74.64\\n*   **2018:** 75.14\\n*   **2019:** 75.63\\n*   **2020:** 76.11\\n*   **2021:** 76.57\\n*   **2022:** 77.02\\n*   **2023:** 77.46'}, 'United-Kingdom': {'labor_force': 'Aquí están los años y los valores extraídos de la imagen:\\n\\n*   **2016:** 33.88\\n*   **2017:** 34.07\\n*   **2018:** 34.36\\n*   **2019:** 34.63\\n*   **2020:** 34.56\\n*   **2021:** 34.24\\n*   **2022:** 34.73\\n*   **2023:** 35.19', 'livestock_production_index': 'Aquí están los años y los valores extraídos del gráfico:\\n\\n*   **2015:** 100.5\\n*   **2016:** 100.9\\n*   **2017:** 102.5\\n*   **2018:** 104.3\\n*   **2019:** 106.0\\n*   **2020:** 106.8\\n*   **2021:** 106.5\\n*   **2022:** 105.2', 'Percent_agricultural_land': 'Aquí están los años y valores extraídos del gráfico:\\n\\n*   2015: 70.84\\n*   2016: 71.71\\n*   2017: 72.20\\n*   2018: 71.72\\n*   2019: 72.42\\n*   2020: 71.34\\n*   2021: 71.16\\n*   2022: 69.57', 'Percent_urban_population': 'Aquí están los años y valores extraídos de la imagen:\\n\\n*   **2016:** 82.89\\n*   **2017:** 83.14\\n*   **2018:** 83.40\\n*   **2019:** 83.65\\n*   **2020:** 83.90\\n*   **2021:** 84.15\\n*   **2022:** 84.40\\n*   **2023:** 84.64'}, 'USA': {'labor_force': 'Aquí están los años y valores extraídos de la barra:\\n\\n*   **2016:** 162.7\\n*   **2017:** 164.2\\n*   **2018:** 165.6\\n*   **2019:** 167.4\\n*   **2020:** 165.9\\n*   **2021:** 166.4\\n*   **2022:** 168.3\\n*   **2023:** 170.7', 'livestock_production_index': 'Aquí tienes los años y valores extraídos de la imagen:\\n\\n*   **2015:** 98.70\\n*   **2016:** 102.4\\n*   **2017:** 105.2\\n*   **2018:** 107.8\\n*   **2019:** 109.3\\n*   **2020:** 108.8\\n*   **2021:** 110.1\\n*   **2022:** 110.6', 'Percent_agricultural_land': 'Aquí están los años y los valores extraídos de la imagen:\\n\\n*   **2015:** 45.59\\n*   **2016:** 45.65\\n*   **2017:** 45.71\\n*   **2018:** 45.58\\n*   **2019:** 45.46\\n*   **2020:** 45.33\\n*   **2021:** 45.21\\n*   **2022:** 45.09', 'Percent_urban_population': 'Claro, aquí tienes los años y valores extraídos de la imagen:\\n\\n*   2016: 81.86\\n*   2017: 82.06\\n*   2018: 82.26\\n*   2019: 82.46\\n*   2020: 82.66\\n*   2021: 82.87\\n*   2022: 82.87\\n*   2023: 83.30'}}\n",
      "✅ Merged: parquet_exports\\Percent_agricultural_land.parquet\n",
      "✅ Merged: parquet_exports\\Percent_urban_population.parquet\n",
      "✅ Merged: parquet_exports\\labor_force.parquet\n",
      "✅ Merged: parquet_exports\\livestock_production_index.parquet\n",
      "The process for 14 images has finished.\n"
     ]
    }
   ],
   "source": [
    "run_extraction_pipeline(\n",
    "    input_csv='data/image_paths.csv',\n",
    "    processed_csv='data/processed_paths.csv',\n",
    "    batch_size=14\n",
    ")"
   ]
  }
 ],
 "metadata": {
  "kernelspec": {
   "display_name": "Python 3 (ipykernel)",
   "language": "python",
   "name": "python3"
  },
  "language_info": {
   "codemirror_mode": {
    "name": "ipython",
    "version": 3
   },
   "file_extension": ".py",
   "mimetype": "text/x-python",
   "name": "python",
   "nbconvert_exporter": "python",
   "pygments_lexer": "ipython3",
   "version": "3.11.8"
  }
 },
 "nbformat": 4,
 "nbformat_minor": 5
}
