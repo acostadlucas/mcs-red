{
 "cells": [
  {
   "cell_type": "code",
   "execution_count": 1,
   "id": "beffb077-c7f2-47d9-bfa4-0f5e10c4dd79",
   "metadata": {},
   "outputs": [],
   "source": [
    "import pandas as pd"
   ]
  },
  {
   "cell_type": "code",
   "execution_count": 2,
   "id": "d9bac531-a299-4daa-8751-06b414d9f1eb",
   "metadata": {},
   "outputs": [],
   "source": [
    "def count_rows_csv(path_csv):\n",
    "    \"\"\"\n",
    "    Counts the number of rows (data points) in a CSV file.\n",
    "    \"\"\"\n",
    "    df = pd.read_csv(path_csv)\n",
    "    return len(df)"
   ]
  },
  {
   "cell_type": "code",
   "execution_count": 3,
   "id": "37941aac-d81c-4b29-b2ac-e3dd622d9107",
   "metadata": {},
   "outputs": [],
   "source": [
    "def count_rows_parquet(path_parquet):\n",
    "    \"\"\"\n",
    "    Counts the number of rows (data points) in a Parquet file.\n",
    "    \"\"\"\n",
    "    df = pd.read_parquet(path_parquet)\n",
    "    return len(df)"
   ]
  },
  {
   "cell_type": "code",
   "execution_count": 4,
   "id": "fa8071b9-26c6-4c00-919e-915754539755",
   "metadata": {},
   "outputs": [],
   "source": [
    "def average_time_per_image(path_csv):\n",
    "    \"\"\"\n",
    "    Calculates the average processing time per image from a CSV file.\n",
    "    Assumes the file contains 'image_count' and 'duration_seconds' columns.\n",
    "    \"\"\"\n",
    "    df = pd.read_csv(path_csv)\n",
    "\n",
    "    if \"image_count\" not in df.columns or \"duration_seconds\" not in df.columns:\n",
    "        raise ValueError(\"CSV must contain 'image_count' and 'duration_seconds' columns.\")\n",
    "\n",
    "    total_images = df[\"image_count\"].sum()\n",
    "    total_duration = df[\"duration_seconds\"].sum()\n",
    "\n",
    "    if total_images == 0:\n",
    "        return 0  # Avoid division by zero\n",
    "\n",
    "    average = total_duration / total_images\n",
    "    return average"
   ]
  },
  {
   "cell_type": "code",
   "execution_count": 6,
   "id": "ebccb159-df31-42ff-a870-97eb6867c94b",
   "metadata": {},
   "outputs": [
    {
     "name": "stdout",
     "output_type": "stream",
     "text": [
      "Cantidad de imagenes procesadas\n"
     ]
    },
    {
     "data": {
      "text/plain": [
       "88"
      ]
     },
     "execution_count": 6,
     "metadata": {},
     "output_type": "execute_result"
    }
   ],
   "source": [
    "# first iteration\n",
    "print('Cantidad de imagenes procesadas')\n",
    "count_rows_csv(\"data/processed_paths.csv\")"
   ]
  },
  {
   "cell_type": "code",
   "execution_count": 9,
   "id": "136390c8-f9fe-48b4-a999-ee6bb197c0f2",
   "metadata": {},
   "outputs": [
    {
     "name": "stdout",
     "output_type": "stream",
     "text": [
      "Cantidad de imagenes disponibles\n"
     ]
    },
    {
     "data": {
      "text/plain": [
       "230"
      ]
     },
     "execution_count": 9,
     "metadata": {},
     "output_type": "execute_result"
    }
   ],
   "source": [
    "# the available images\n",
    "print('Cantidad de imagenes disponibles')\n",
    "count_rows_csv(\"data/image_paths.csv\")"
   ]
  },
  {
   "cell_type": "code",
   "execution_count": 11,
   "id": "7174552e-b175-4f60-962b-77e7d58987d3",
   "metadata": {},
   "outputs": [
    {
     "name": "stdout",
     "output_type": "stream",
     "text": [
      "Promedio de segundos para procesar cada imagen en la primera iteracion\n"
     ]
    },
    {
     "data": {
      "text/plain": [
       "np.float64(63.62727272727273)"
      ]
     },
     "execution_count": 11,
     "metadata": {},
     "output_type": "execute_result"
    }
   ],
   "source": [
    "# the performance of the first iteration\n",
    "print('Promedio de segundos para procesar cada imagen en la primera iteracion')\n",
    "average_time_per_image('performance_log.csv')"
   ]
  },
  {
   "cell_type": "code",
   "execution_count": 12,
   "id": "cd76b807-6508-4ed6-8ee9-37e485be4de5",
   "metadata": {},
   "outputs": [
    {
     "name": "stdout",
     "output_type": "stream",
     "text": [
      "Cantidad de imagenes procesadas\n"
     ]
    },
    {
     "data": {
      "text/plain": [
       "230"
      ]
     },
     "execution_count": 12,
     "metadata": {},
     "output_type": "execute_result"
    }
   ],
   "source": [
    "# first + second iteration\n",
    "print('Cantidad de imagenes procesadas')\n",
    "count_rows_csv(\"data/processed_paths.csv\")"
   ]
  },
  {
   "cell_type": "code",
   "execution_count": 13,
   "id": "43b5db88-80d7-48aa-a7b7-894f2e3aeb34",
   "metadata": {},
   "outputs": [
    {
     "name": "stdout",
     "output_type": "stream",
     "text": [
      "Promedio de segundos para procesar cada imagen en la primera iteracion\n"
     ]
    },
    {
     "data": {
      "text/plain": [
       "np.float64(61.70652173913044)"
      ]
     },
     "execution_count": 13,
     "metadata": {},
     "output_type": "execute_result"
    }
   ],
   "source": [
    "# the performance of the first iteration + second\n",
    "print('Promedio de segundos para procesar cada imagen en la primera iteracion')\n",
    "average_time_per_image('performance_log.csv')"
   ]
  }
 ],
 "metadata": {
  "kernelspec": {
   "display_name": "Python 3 (ipykernel)",
   "language": "python",
   "name": "python3"
  },
  "language_info": {
   "codemirror_mode": {
    "name": "ipython",
    "version": 3
   },
   "file_extension": ".py",
   "mimetype": "text/x-python",
   "name": "python",
   "nbconvert_exporter": "python",
   "pygments_lexer": "ipython3",
   "version": "3.11.8"
  }
 },
 "nbformat": 4,
 "nbformat_minor": 5
}
