{
 "cells": [
  {
   "cell_type": "code",
   "execution_count": 1,
   "id": "daf6c2e7-b94e-4d56-82d7-2c1120b9af94",
   "metadata": {},
   "outputs": [],
   "source": [
    "import requests\n",
    "from bs4 import BeautifulSoup"
   ]
  },
  {
   "cell_type": "code",
   "execution_count": 2,
   "id": "577bd45e-9e7d-459f-820f-f8c8c9b70c3a",
   "metadata": {},
   "outputs": [],
   "source": [
    "# 1. Obtener el HTML de la página del ranking\n",
    "url = \"\"\n",
    "headers = {\n",
    "    \"User-Agent\": \"Mozilla/5.0 (Windows NT 10.0; Win64; x64) AppleWebKit/537.36 (KHTML, like Gecko) Chrome/138.0.0.0 Safari/537.36\"\n",
    "}\n",
    "\n",
    "response = requests.get(url, headers=headers)\n",
    "response.raise_for_status()  # Lanza error si la petición falla"
   ]
  },
  {
   "cell_type": "code",
   "execution_count": 3,
   "id": "f8c52a55-c5db-4204-b1b9-f63fd5fa45d3",
   "metadata": {},
   "outputs": [],
   "source": [
    "# 2. Parsear HTML con BeautifulSoup\n",
    "soup = BeautifulSoup(response.text, \"html.parser\")"
   ]
  },
  {
   "cell_type": "code",
   "execution_count": 4,
   "id": "010f7ac9-1760-4c7b-87d8-a7b4c5082a07",
   "metadata": {},
   "outputs": [],
   "source": [
    "# 3. Buscar la tabla principal y extraer los links\n",
    "table = soup.find(\"table\")\n",
    "country_links = []\n",
    "\n",
    "if table:\n",
    "    rows = table.find_all(\"tr\")\n",
    "    for row in rows:\n",
    "        cell = row.find(\"td\")\n",
    "        if cell and cell.a:\n",
    "            relative_link = cell.a[\"href\"]\n",
    "            full_url = f\"{relative_link}\"\n",
    "            country_links.append(full_url)"
   ]
  },
  {
   "cell_type": "code",
   "execution_count": null,
   "id": "eafeb89d-f294-43c4-a889-dee3e7ab900f",
   "metadata": {},
   "outputs": [],
   "source": []
  }
 ],
 "metadata": {
  "kernelspec": {
   "display_name": "Python 3 (ipykernel)",
   "language": "python",
   "name": "python3"
  },
  "language_info": {
   "codemirror_mode": {
    "name": "ipython",
    "version": 3
   },
   "file_extension": ".py",
   "mimetype": "text/x-python",
   "name": "python",
   "nbconvert_exporter": "python",
   "pygments_lexer": "ipython3",
   "version": "3.11.8"
  }
 },
 "nbformat": 4,
 "nbformat_minor": 5
}
