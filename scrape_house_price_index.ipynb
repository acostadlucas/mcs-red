{
 "cells": [
  {
   "cell_type": "code",
   "execution_count": 9,
   "id": "4f24c72d-5c35-4362-959e-c689112c3b13",
   "metadata": {},
   "outputs": [],
   "source": [
    "import requests\n",
    "import re\n",
    "import json\n",
    "import pandas as pd"
   ]
  },
  {
   "cell_type": "code",
   "execution_count": 7,
   "id": "fa1a74b0-938d-4cff-a422-319ae8b63296",
   "metadata": {},
   "outputs": [
    {
     "name": "stdout",
     "output_type": "stream",
     "text": [
      "Links encontrados: 57\n",
      "https://www.theglobaleconomy.com/Australia/house_price_index/\n",
      "https://www.theglobaleconomy.com/Austria/house_price_index/\n",
      "https://www.theglobaleconomy.com/Belgium/house_price_index/\n",
      "https://www.theglobaleconomy.com/Brazil/house_price_index/\n",
      "https://www.theglobaleconomy.com/Bulgaria/house_price_index/\n",
      "https://www.theglobaleconomy.com/Canada/house_price_index/\n",
      "https://www.theglobaleconomy.com/Chile/house_price_index/\n",
      "https://www.theglobaleconomy.com/China/house_price_index/\n",
      "https://www.theglobaleconomy.com/Colombia/house_price_index/\n",
      "https://www.theglobaleconomy.com/Croatia/house_price_index/\n",
      "https://www.theglobaleconomy.com/Cyprus/house_price_index/\n",
      "https://www.theglobaleconomy.com/Czech-Republic/house_price_index/\n",
      "https://www.theglobaleconomy.com/Denmark/house_price_index/\n",
      "https://www.theglobaleconomy.com/Estonia/house_price_index/\n",
      "https://www.theglobaleconomy.com/Finland/house_price_index/\n",
      "https://www.theglobaleconomy.com/France/house_price_index/\n",
      "https://www.theglobaleconomy.com/Germany/house_price_index/\n",
      "https://www.theglobaleconomy.com/Greece/house_price_index/\n",
      "https://www.theglobaleconomy.com/Hong-Kong/house_price_index/\n",
      "https://www.theglobaleconomy.com/Hungary/house_price_index/\n",
      "https://www.theglobaleconomy.com/Iceland/house_price_index/\n",
      "https://www.theglobaleconomy.com/India/house_price_index/\n",
      "https://www.theglobaleconomy.com/Indonesia/house_price_index/\n",
      "https://www.theglobaleconomy.com/Ireland/house_price_index/\n",
      "https://www.theglobaleconomy.com/Israel/house_price_index/\n",
      "https://www.theglobaleconomy.com/Italy/house_price_index/\n",
      "https://www.theglobaleconomy.com/Japan/house_price_index/\n",
      "https://www.theglobaleconomy.com/Latvia/house_price_index/\n",
      "https://www.theglobaleconomy.com/Lithuania/house_price_index/\n",
      "https://www.theglobaleconomy.com/Luxembourg/house_price_index/\n",
      "https://www.theglobaleconomy.com/Macedonia/house_price_index/\n",
      "https://www.theglobaleconomy.com/Malaysia/house_price_index/\n",
      "https://www.theglobaleconomy.com/Malta/house_price_index/\n",
      "https://www.theglobaleconomy.com/Mexico/house_price_index/\n",
      "https://www.theglobaleconomy.com/Morocco/house_price_index/\n",
      "https://www.theglobaleconomy.com/Netherlands/house_price_index/\n",
      "https://www.theglobaleconomy.com/New-Zealand/house_price_index/\n",
      "https://www.theglobaleconomy.com/Norway/house_price_index/\n",
      "https://www.theglobaleconomy.com/Peru/house_price_index/\n",
      "https://www.theglobaleconomy.com/Philippines/house_price_index/\n",
      "https://www.theglobaleconomy.com/Poland/house_price_index/\n",
      "https://www.theglobaleconomy.com/Portugal/house_price_index/\n",
      "https://www.theglobaleconomy.com/Romania/house_price_index/\n",
      "https://www.theglobaleconomy.com/Russia/house_price_index/\n",
      "https://www.theglobaleconomy.com/Serbia/house_price_index/\n",
      "https://www.theglobaleconomy.com/Singapore/house_price_index/\n",
      "https://www.theglobaleconomy.com/Slovakia/house_price_index/\n",
      "https://www.theglobaleconomy.com/Slovenia/house_price_index/\n",
      "https://www.theglobaleconomy.com/South-Africa/house_price_index/\n",
      "https://www.theglobaleconomy.com/South-Korea/house_price_index/\n",
      "https://www.theglobaleconomy.com/Spain/house_price_index/\n",
      "https://www.theglobaleconomy.com/Sweden/house_price_index/\n",
      "https://www.theglobaleconomy.com/Switzerland/house_price_index/\n",
      "https://www.theglobaleconomy.com/Thailand/house_price_index/\n",
      "https://www.theglobaleconomy.com/Turkey/house_price_index/\n",
      "https://www.theglobaleconomy.com/USA/house_price_index/\n",
      "https://www.theglobaleconomy.com/United-Kingdom/house_price_index/\n",
      "57\n"
     ]
    }
   ],
   "source": [
    "from scrape_house_price_links_ import country_links\n",
    "\n",
    "print(len(country_links))"
   ]
  },
  {
   "cell_type": "code",
   "execution_count": 10,
   "id": "f7bece93-962e-4607-aaf9-089a05ff8a8b",
   "metadata": {},
   "outputs": [],
   "source": [
    "# Paso 1: Obtener el HTML de la página\n",
    "url = country_links[0]\n",
    "response = requests.get(url)\n",
    "html = response.text"
   ]
  },
  {
   "cell_type": "code",
   "execution_count": 11,
   "id": "01a03529-9624-457a-8c7a-becc68ac1eec",
   "metadata": {},
   "outputs": [],
   "source": [
    "# Paso 2: Buscar el bloque de datos dentro del arrayToDataTable\n",
    "pattern = r'arrayToDataTable\\((\\[\\[.*?\\]\\])\\)'  # Regex para capturar la lista de listas\n",
    "match = re.search(pattern, html, re.DOTALL)"
   ]
  },
  {
   "cell_type": "code",
   "execution_count": 12,
   "id": "5b49ebea-1806-4acf-b7ac-5050364ab1c5",
   "metadata": {},
   "outputs": [
    {
     "name": "stdout",
     "output_type": "stream",
     "text": [
      "  Time Period  Value\n",
      "0     Q1 1990  28.24\n",
      "1     Q2 1990  28.50\n",
      "2     Q3 1990  28.24\n",
      "3     Q4 1990  28.41\n",
      "4     Q1 1991  28.38\n"
     ]
    }
   ],
   "source": [
    "if match:\n",
    "    data_str = match.group(1)\n",
    "    # Paso 3: Convertir el string de lista a un objeto Python\n",
    "    data = json.loads(data_str)\n",
    "    \n",
    "    # Paso 4: Convertir a DataFrame\n",
    "    df = pd.DataFrame(data[1:], columns=data[0])  # Excluye la cabecera en el cuerpo\n",
    "    print(df.head())\n",
    "else:\n",
    "    print(\"No se encontraron los datos en la página.\")"
   ]
  },
  {
   "cell_type": "code",
   "execution_count": 13,
   "id": "dcefdb14-e1b1-4bb4-870e-7867c2131a65",
   "metadata": {},
   "outputs": [
    {
     "data": {
      "text/html": [
       "<div>\n",
       "<style scoped>\n",
       "    .dataframe tbody tr th:only-of-type {\n",
       "        vertical-align: middle;\n",
       "    }\n",
       "\n",
       "    .dataframe tbody tr th {\n",
       "        vertical-align: top;\n",
       "    }\n",
       "\n",
       "    .dataframe thead th {\n",
       "        text-align: right;\n",
       "    }\n",
       "</style>\n",
       "<table border=\"1\" class=\"dataframe\">\n",
       "  <thead>\n",
       "    <tr style=\"text-align: right;\">\n",
       "      <th></th>\n",
       "      <th>Time Period</th>\n",
       "      <th>Value</th>\n",
       "    </tr>\n",
       "  </thead>\n",
       "  <tbody>\n",
       "    <tr>\n",
       "      <th>0</th>\n",
       "      <td>Q1 1990</td>\n",
       "      <td>28.24</td>\n",
       "    </tr>\n",
       "    <tr>\n",
       "      <th>1</th>\n",
       "      <td>Q2 1990</td>\n",
       "      <td>28.50</td>\n",
       "    </tr>\n",
       "    <tr>\n",
       "      <th>2</th>\n",
       "      <td>Q3 1990</td>\n",
       "      <td>28.24</td>\n",
       "    </tr>\n",
       "    <tr>\n",
       "      <th>3</th>\n",
       "      <td>Q4 1990</td>\n",
       "      <td>28.41</td>\n",
       "    </tr>\n",
       "    <tr>\n",
       "      <th>4</th>\n",
       "      <td>Q1 1991</td>\n",
       "      <td>28.38</td>\n",
       "    </tr>\n",
       "    <tr>\n",
       "      <th>...</th>\n",
       "      <td>...</td>\n",
       "      <td>...</td>\n",
       "    </tr>\n",
       "    <tr>\n",
       "      <th>135</th>\n",
       "      <td>Q4 2023</td>\n",
       "      <td>185.05</td>\n",
       "    </tr>\n",
       "    <tr>\n",
       "      <th>136</th>\n",
       "      <td>Q1 2024</td>\n",
       "      <td>188.10</td>\n",
       "    </tr>\n",
       "    <tr>\n",
       "      <th>137</th>\n",
       "      <td>Q2 2024</td>\n",
       "      <td>192.13</td>\n",
       "    </tr>\n",
       "    <tr>\n",
       "      <th>138</th>\n",
       "      <td>Q3 2024</td>\n",
       "      <td>194.75</td>\n",
       "    </tr>\n",
       "    <tr>\n",
       "      <th>139</th>\n",
       "      <td>Q4 2024</td>\n",
       "      <td>195.13</td>\n",
       "    </tr>\n",
       "  </tbody>\n",
       "</table>\n",
       "<p>140 rows × 2 columns</p>\n",
       "</div>"
      ],
      "text/plain": [
       "    Time Period   Value\n",
       "0       Q1 1990   28.24\n",
       "1       Q2 1990   28.50\n",
       "2       Q3 1990   28.24\n",
       "3       Q4 1990   28.41\n",
       "4       Q1 1991   28.38\n",
       "..          ...     ...\n",
       "135     Q4 2023  185.05\n",
       "136     Q1 2024  188.10\n",
       "137     Q2 2024  192.13\n",
       "138     Q3 2024  194.75\n",
       "139     Q4 2024  195.13\n",
       "\n",
       "[140 rows x 2 columns]"
      ]
     },
     "execution_count": 13,
     "metadata": {},
     "output_type": "execute_result"
    }
   ],
   "source": [
    "df"
   ]
  },
  {
   "cell_type": "code",
   "execution_count": null,
   "id": "1958c7e3-49b7-49e4-9741-9963c22b550d",
   "metadata": {},
   "outputs": [],
   "source": []
  }
 ],
 "metadata": {
  "kernelspec": {
   "display_name": "Python 3 (ipykernel)",
   "language": "python",
   "name": "python3"
  },
  "language_info": {
   "codemirror_mode": {
    "name": "ipython",
    "version": 3
   },
   "file_extension": ".py",
   "mimetype": "text/x-python",
   "name": "python",
   "nbconvert_exporter": "python",
   "pygments_lexer": "ipython3",
   "version": "3.11.8"
  }
 },
 "nbformat": 4,
 "nbformat_minor": 5
}
