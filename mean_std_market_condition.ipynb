{
 "cells": [
  {
   "cell_type": "code",
   "execution_count": 4,
   "id": "d55d600c-5091-48fc-bd2e-f8d21ce2c878",
   "metadata": {},
   "outputs": [],
   "source": [
    "import numpy as np\n",
    "from scipy.optimize import lsq_linear"
   ]
  },
  {
   "cell_type": "code",
   "execution_count": 5,
   "id": "abefe297-cc47-402e-8c9a-d6bfe82b8da8",
   "metadata": {},
   "outputs": [],
   "source": [
    "# Matriz A (4 ecuaciones, 4 variables: x, y, z, w)\n",
    "A = np.array([\n",
    "    [0.04, 0.21, 0.33, 0.42],\n",
    "    [0.08, 0.25, 0.54, 0.13],\n",
    "    [0.06, 0.43, 0.51, 0.00],\n",
    "    [0.00, 0.75, 0.08, 0.17]\n",
    "])"
   ]
  },
  {
   "cell_type": "code",
   "execution_count": 6,
   "id": "9c1da766-9faa-49bc-9b90-4722d5584721",
   "metadata": {},
   "outputs": [],
   "source": [
    "# Vector b (resultados deseados)\n",
    "b = np.array([0.13, 0.09, 0.07, 0.07])"
   ]
  },
  {
   "cell_type": "code",
   "execution_count": 7,
   "id": "3d4eb008-778a-47a4-a906-d86a8f4eccfd",
   "metadata": {},
   "outputs": [],
   "source": [
    "# Resolver con mínimos cuadrados restringido (x, y, z, w ≥ 0)\n",
    "resultado = lsq_linear(A, b, bounds=(0, np.inf))"
   ]
  },
  {
   "cell_type": "code",
   "execution_count": 8,
   "id": "f6f703a7-8f5b-43f7-b16b-54e49a02aed9",
   "metadata": {},
   "outputs": [
    {
     "name": "stdout",
     "output_type": "stream",
     "text": [
      "no crecera = 0.000000\n",
      "crecera poco = 0.035800\n",
      "crecera bastante = 0.103758\n",
      "crecera mucho = 0.208094\n"
     ]
    }
   ],
   "source": [
    "# Extraer solución\n",
    "solucion = resultado.x\n",
    "variables = ['no crecera', 'crecera poco', 'crecera bastante', 'crecera mucho']\n",
    "for nombre, valor in zip(variables, solucion):\n",
    "    print(f\"{nombre} = {valor:.6f}\")"
   ]
  },
  {
   "cell_type": "code",
   "execution_count": 10,
   "id": "198ca092-a1b5-41d5-982e-48d2d6a497b7",
   "metadata": {},
   "outputs": [
    {
     "name": "stdout",
     "output_type": "stream",
     "text": [
      "\n",
      "Verificación (A @ solución):\n",
      "[0.12915782 0.09203183 0.06831093 0.07052693]\n"
     ]
    }
   ],
   "source": [
    "# Verificación\n",
    "print(\"\\nVerificación (A @ solución):\")\n",
    "aproximacion = A @ solucion\n",
    "print(aproximacion)"
   ]
  },
  {
   "cell_type": "code",
   "execution_count": 11,
   "id": "1f94cffd-e9d7-479e-9f64-c000bfbc2c61",
   "metadata": {},
   "outputs": [
    {
     "name": "stdout",
     "output_type": "stream",
     "text": [
      "\n",
      "Error absoluto por ecuación:\n",
      "[0.00084218 0.00203183 0.00168907 0.00052693]\n"
     ]
    }
   ],
   "source": [
    "print(\"\\nError absoluto por ecuación:\")\n",
    "print(np.abs(aproximacion - b))"
   ]
  },
  {
   "cell_type": "code",
   "execution_count": 13,
   "id": "81763715-4a38-4d47-bf0e-2f1781831501",
   "metadata": {},
   "outputs": [],
   "source": [
    "# Asignar cada valor a una variable individual\n",
    "no_crecera       = solucion[0]\n",
    "crecera_poco     = solucion[1]\n",
    "crecera_bastante = solucion[2]\n",
    "crecera_mucho    = solucion[3]"
   ]
  },
  {
   "cell_type": "code",
   "execution_count": 18,
   "id": "8ad84611-c8ae-470b-a9d3-4f880b9b6ec9",
   "metadata": {},
   "outputs": [],
   "source": [
    "# calcular estadisticos necesarios\n",
    "mean = (0.42*crecera_mucho) + (0.33*crecera_bastante) + (0.21*crecera_poco) + (0.04*no_crecera)\n",
    "var = 0.42*(crecera_mucho-mean)**(2) + 0.33*(crecera_bastante-mean)**(2) + 0.21*(crecera_poco-mean)**(2) + 0.04*(no_crecera-mean)**(2)\n",
    "std = (var)**(1/2)"
   ]
  },
  {
   "cell_type": "code",
   "execution_count": 22,
   "id": "22a4f1f7-69ea-49d9-ac1d-b076c0ae281b",
   "metadata": {},
   "outputs": [
    {
     "name": "stdout",
     "output_type": "stream",
     "text": [
      "mean: 0.12915781706385387\n",
      "var: 0.005327427527888301\n",
      "std: 0.07298922884842873\n"
     ]
    }
   ],
   "source": [
    "# comprobar estadistico mean y valores de var y std\n",
    "print(f\"mean: {mean}\")\n",
    "print(f\"var: {var}\")\n",
    "print(f\"std: {std}\")"
   ]
  },
  {
   "cell_type": "code",
   "execution_count": null,
   "id": "fb0f72ee-3048-4700-8390-cb595de3161d",
   "metadata": {},
   "outputs": [],
   "source": []
  }
 ],
 "metadata": {
  "kernelspec": {
   "display_name": "Python 3 (ipykernel)",
   "language": "python",
   "name": "python3"
  },
  "language_info": {
   "codemirror_mode": {
    "name": "ipython",
    "version": 3
   },
   "file_extension": ".py",
   "mimetype": "text/x-python",
   "name": "python",
   "nbconvert_exporter": "python",
   "pygments_lexer": "ipython3",
   "version": "3.11.8"
  }
 },
 "nbformat": 4,
 "nbformat_minor": 5
}
