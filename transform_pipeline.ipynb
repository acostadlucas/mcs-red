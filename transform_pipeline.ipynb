{
 "cells": [
  {
   "cell_type": "code",
   "execution_count": 1,
   "id": "7ad3bd1b-9550-4280-a4dc-cf661d2d79c0",
   "metadata": {},
   "outputs": [],
   "source": [
    "from ollama import chat\n",
    "import time\n",
    "import os\n",
    "import re\n",
    "import pandas as pd\n",
    "from dotenv import load_dotenv\n",
    "from collections import defaultdict\n",
    "import csv\n",
    "from datetime import datetime"
   ]
  },
  {
   "cell_type": "code",
   "execution_count": 2,
   "id": "aaf6e4a8-2911-44ce-9c48-c0c92f99d0ae",
   "metadata": {},
   "outputs": [],
   "source": [
    "load_dotenv()\n",
    "the_wizard = os.getenv(\"WIZARD\")\n",
    "the_spell = os.getenv(\"LEVIOSA\")"
   ]
  },
  {
   "cell_type": "code",
   "execution_count": 3,
   "id": "ab628338-8f65-4529-8bc7-45bc0be91d58",
   "metadata": {},
   "outputs": [],
   "source": [
    "def log_performance(start_time, end_time, image_count, log_csv='performance_log.csv'):\n",
    "    duration = end_time - start_time\n",
    "    log_data = {\n",
    "        'date': datetime.now().strftime('%Y-%m-%d %H:%M:%S'),\n",
    "        'image_count': image_count,\n",
    "        'duration_seconds': round(duration, 2)\n",
    "    }\n",
    "\n",
    "    file_exists = os.path.isfile(log_csv)\n",
    "    with open(log_csv, 'a', newline='') as csvfile:\n",
    "        writer = csv.DictWriter(csvfile, fieldnames=log_data.keys())\n",
    "        if not file_exists:\n",
    "            writer.writeheader()\n",
    "        writer.writerow(log_data)"
   ]
  },
  {
   "cell_type": "code",
   "execution_count": 12,
   "id": "81d77eff-ec90-45ee-a156-ab7080761930",
   "metadata": {},
   "outputs": [],
   "source": [
    "def load_image_paths(csv_path):\n",
    "    return pd.read_csv(csv_path)['image_path'].tolist()"
   ]
  },
  {
   "cell_type": "code",
   "execution_count": 5,
   "id": "718f980d-ab98-4255-8190-2fd654b32ff2",
   "metadata": {},
   "outputs": [],
   "source": [
    "def load_processed_paths(processed_csv):\n",
    "    if os.path.exists(processed_csv):\n",
    "        return set(pd.read_csv(processed_csv)['path'].tolist())\n",
    "    return set()"
   ]
  },
  {
   "cell_type": "code",
   "execution_count": 6,
   "id": "8d5724a6-1425-416b-b1b2-8cb73bcc391a",
   "metadata": {},
   "outputs": [],
   "source": [
    "def save_processed_paths(processed_csv, new_paths):\n",
    "    df = pd.DataFrame({'path': list(new_paths)})\n",
    "    if os.path.exists(processed_csv):\n",
    "        existing = pd.read_csv(processed_csv)\n",
    "        df = pd.concat([existing, df], ignore_index=True).drop_duplicates()\n",
    "    df.to_csv(processed_csv, index=False)"
   ]
  },
  {
   "cell_type": "code",
   "execution_count": 24,
   "id": "db113b12-b505-4560-8526-fa0bef03d667",
   "metadata": {},
   "outputs": [],
   "source": [
    "def extract_data_from_images(image_paths, wizard, spell, content_response):\n",
    "    for path in image_paths:\n",
    "        parts = os.path.basename(path).split('_')\n",
    "        statistic = '_'.join(parts[:-1])\n",
    "        country = parts[-1].replace('.png', '')\n",
    "\n",
    "        response = chat(\n",
    "            model=wizard,\n",
    "            messages=[\n",
    "                {\n",
    "                    'role': 'user',\n",
    "                    'content': spell,\n",
    "                    'images': [path],\n",
    "                }\n",
    "            ],\n",
    "        )\n",
    "\n",
    "        if country not in content_response:\n",
    "            content_response[country] = {}\n",
    "        content_response[country][statistic] = response.message.content\n",
    "    print(content_response)"
   ]
  },
  {
   "cell_type": "code",
   "execution_count": 8,
   "id": "83228cf8-8c47-49c8-a8a7-6a7d6feccc0f",
   "metadata": {},
   "outputs": [],
   "source": [
    "def clean_ollama_response(text):\n",
    "    # Step 1: Remove all asterisks\n",
    "    text = text.replace('*', '')\n",
    "    \n",
    "    # Step 2: Remove all newline characters\n",
    "    text = text.replace('\\n', '')\n",
    "    \n",
    "    # Step 3: Remove everything before and including the first colon\n",
    "    colon_index = text.find(':')\n",
    "    if colon_index != -1:\n",
    "        text = text[colon_index + 1:]\n",
    "    \n",
    "    # Optional: Strip leading/trailing whitespace\n",
    "    return text.strip()"
   ]
  },
  {
   "cell_type": "code",
   "execution_count": 9,
   "id": "2f51b53c-0f39-409c-a1cb-61f134c44203",
   "metadata": {},
   "outputs": [],
   "source": [
    "def build_statistic_dataframes(data):\n",
    "    \"\"\"\n",
    "    Builds a dictionary of DataFrames, one per statistic.\n",
    "    Each DataFrame has years as index and countries as columns.\n",
    "    Missing values are filled with NaN.\n",
    "    \"\"\"\n",
    "    stats_data = defaultdict(lambda: defaultdict(dict))  # {stat: {year: {country: value}}}\n",
    "    all_countries = set(data.keys())  # Track all countries from input\n",
    "\n",
    "    for country, stats in data.items():\n",
    "        for stat_name, stat_text in stats.items():\n",
    "            cleaned = clean_ollama_response(stat_text)\n",
    "            matches = re.findall(r\"(\\d{4}):\\s*([\\d.]+)\", cleaned)\n",
    "            for year_str, value_str in matches:\n",
    "                try:\n",
    "                    year = int(year_str)\n",
    "                    value = float(value_str)\n",
    "                    stats_data[stat_name][year][country] = value\n",
    "                except ValueError:\n",
    "                    continue  # Skip malformed entries\n",
    "\n",
    "    stat_dfs = {}\n",
    "    for stat_name, year_country_values in stats_data.items():\n",
    "        df = pd.DataFrame.from_dict(year_country_values, orient='index').sort_index()\n",
    "        df = df.reindex(columns=all_countries)  # Ensure all countries are present\n",
    "        stat_dfs[stat_name] = df\n",
    "\n",
    "    return stat_dfs"
   ]
  },
  {
   "cell_type": "code",
   "execution_count": 35,
   "id": "22008c8f-b051-432f-9823-c1c1dd328f83",
   "metadata": {},
   "outputs": [],
   "source": [
    "def export_statistic_dataframes_to_parquet(stat_dfs, output_dir):\n",
    "    os.makedirs(output_dir, exist_ok=True)\n",
    "\n",
    "    for name, new_df in stat_dfs.items():\n",
    "        output_path = os.path.join(output_dir, f\"{name}.parquet\")\n",
    "\n",
    "        if os.path.exists(output_path):\n",
    "            existing_df = pd.read_parquet(output_path)\n",
    "\n",
    "            # Merge on index (years) and columns (countries)\n",
    "            combined_df = existing_df.combine_first(new_df)\n",
    "        else:\n",
    "            combined_df = new_df\n",
    "\n",
    "        combined_df.to_parquet(output_path, index=True)\n",
    "        print(f\"✅ Merged: {output_path}\")"
   ]
  },
  {
   "cell_type": "code",
   "execution_count": 42,
   "id": "94f2c89e-2898-4827-ba71-c54c30c814af",
   "metadata": {},
   "outputs": [],
   "source": [
    "def run_extraction_pipeline(\n",
    "    input_csv,\n",
    "    processed_csv,\n",
    "    model=the_wizard,\n",
    "    spell=the_spell,\n",
    "    batch_size=4,\n",
    "    output_dir='parquet_exports'\n",
    "):\n",
    "    start_time = time.time()\n",
    "    \n",
    "    # Step 1: Load paths\n",
    "    all_paths = load_image_paths(input_csv)\n",
    "    processed_paths = load_processed_paths(processed_csv)\n",
    "    remaining_paths = [p for p in all_paths if p not in processed_paths]\n",
    "    \n",
    "    if not remaining_paths:\n",
    "        print(\"✅ All images have already been processed. Nothing to do.\")\n",
    "        return\n",
    "\n",
    "    # Step 2: Select batch\n",
    "    batch_paths = remaining_paths[:batch_size]\n",
    "    print(f\"Processing {len(batch_paths)} images...\")\n",
    "\n",
    "    # Step 3: Extract data\n",
    "    content_response = {}\n",
    "    extract_data_from_images(batch_paths, model, spell, content_response)\n",
    "\n",
    "    # Step 4: Save processed paths\n",
    "    save_processed_paths(processed_csv, batch_paths)\n",
    "\n",
    "    # Step 5: Build DataFrames and export\n",
    "    stat_dfs = build_statistic_dataframes(content_response)\n",
    "    export_statistic_dataframes_to_parquet(stat_dfs, output_dir=output_dir)\n",
    "\n",
    "    end_time = time.time()\n",
    "    log_performance(start_time, end_time, len(batch_paths))\n",
    "    print(f\"The process for {len(batch_paths)} images has finished.\")"
   ]
  },
  {
   "cell_type": "code",
   "execution_count": 38,
   "id": "eb2d3223-7f5b-4088-b78f-156553469a72",
   "metadata": {},
   "outputs": [
    {
     "name": "stdout",
     "output_type": "stream",
     "text": [
      "Processing 4 images...\n",
      "{'Austria': {'labor_force': 'Claro, aquí tienes los datos extraídos de la imagen:\\n\\n*   **2016:** 4.57\\n*   **2017:** 4.60\\n*   **2018:** 4.64\\n*   **2019:** 4.66\\n*   **2020:** 4.64\\n*   **2021:** 4.69\\n*   **2022:** 4.76\\n*   **2023:** 4.83', 'livestock_production_index': 'Aquí están los años y valores extraídos del gráfico:\\n\\n*   **2015:** 101.2\\n*   **2016:** 101.4\\n*   **2017:** 101.4\\n*   **2018:** 101.5\\n*   **2019:** 101.1\\n*   **2020:** 100.9\\n*   **2021:** 100.3\\n*   **2022:** 100.4', 'Percent_agricultural_land': 'Aquí están los años y valores extraídos de la imagen:\\n\\n*   **2015:** 32.94\\n*   **2016:** 32.36\\n*   **2017:** 32.17\\n*   **2018:** 32.15\\n*   **2019:** 32.13\\n*   **2020:** 31.54\\n*   **2021:** 31.54\\n*   **2022:** 31.48', 'Percent_urban_population': 'Claro, aquí están los años y valores del gráfico que proporcionaste:\\n\\n*   2016: 57.90\\n*   2017: 58.09\\n*   2018: 58.30\\n*   2019: 58.51\\n*   2020: 58.75\\n*   2021: 58.99\\n*   2022: 59.26\\n*   2023: 59.53'}}\n",
      "✅ Merged: parquet_exports\\labor_force.parquet\n",
      "✅ Merged: parquet_exports\\livestock_production_index.parquet\n",
      "✅ Merged: parquet_exports\\Percent_agricultural_land.parquet\n",
      "✅ Merged: parquet_exports\\Percent_urban_population.parquet\n",
      "The process for 4 images has finished.\n"
     ]
    }
   ],
   "source": [
    "run_extraction_pipeline(\n",
    "    input_csv='data/image_paths.csv',\n",
    "    processed_csv='data/processed_paths.csv')"
   ]
  },
  {
   "cell_type": "code",
   "execution_count": 19,
   "id": "300e11df-4bf3-4df2-a8aa-e1fe60d670e9",
   "metadata": {},
   "outputs": [],
   "source": [
    "def load_parquet_files(directory):\n",
    "    dataframes = {}\n",
    "    for filename in os.listdir(directory):\n",
    "        if filename.endswith(\".parquet\"):\n",
    "            path = os.path.join(directory, filename)\n",
    "            df = pd.read_parquet(path)\n",
    "            dataframes[filename] = df\n",
    "    return dataframes"
   ]
  },
  {
   "cell_type": "code",
   "execution_count": 37,
   "id": "3fedb898-61f8-416b-8b0a-82159ea4d66e",
   "metadata": {},
   "outputs": [
    {
     "name": "stdout",
     "output_type": "stream",
     "text": [
      "\n",
      "📄 File: labor_force.parquet\n",
      "      Australia\n",
      "2016      12.73\n",
      "2017      13.01\n",
      "2018      13.31\n",
      "2019      13.59\n",
      "2020      13.58\n",
      "\n",
      "📄 File: livestock_production_index.parquet\n",
      "      Australia\n",
      "2015      102.4\n",
      "2016       96.8\n",
      "2017       91.0\n",
      "2018       97.2\n",
      "2019       97.7\n",
      "\n",
      "📄 File: Percent_agricultural_land.parquet\n",
      "      Australia\n",
      "2015      45.31\n",
      "2016      44.54\n",
      "2017      48.34\n",
      "2018      46.66\n",
      "2019      47.12\n",
      "\n",
      "📄 File: Percent_urban_population.parquet\n",
      "      Australia\n",
      "2016      85.80\n",
      "2017      85.90\n",
      "2018      86.01\n",
      "2019      86.12\n",
      "2020      86.24\n"
     ]
    }
   ],
   "source": [
    "# Load all Parquet files from the output directory\n",
    "parquet_data = load_parquet_files(\"parquet_exports\")\n",
    "\n",
    "# Inspect each DataFrame\n",
    "for name, df in parquet_data.items():\n",
    "    print(f\"\\n📄 File: {name}\")\n",
    "    print(df.head())"
   ]
  },
  {
   "cell_type": "code",
   "execution_count": 39,
   "id": "a6ee9b0b-7741-43e2-8c68-073f061d96fc",
   "metadata": {},
   "outputs": [
    {
     "name": "stdout",
     "output_type": "stream",
     "text": [
      "\n",
      "📄 File: labor_force.parquet\n",
      "      Australia  Austria\n",
      "2016      12.73     4.57\n",
      "2017      13.01     4.60\n",
      "2018      13.31     4.64\n",
      "2019      13.59     4.66\n",
      "2020      13.58     4.64\n",
      "\n",
      "📄 File: livestock_production_index.parquet\n",
      "      Australia  Austria\n",
      "2015      102.4    101.2\n",
      "2016       96.8    101.4\n",
      "2017       91.0    101.4\n",
      "2018       97.2    101.5\n",
      "2019       97.7    101.1\n",
      "\n",
      "📄 File: Percent_agricultural_land.parquet\n",
      "      Australia  Austria\n",
      "2015      45.31    32.94\n",
      "2016      44.54    32.36\n",
      "2017      48.34    32.17\n",
      "2018      46.66    32.15\n",
      "2019      47.12    32.13\n",
      "\n",
      "📄 File: Percent_urban_population.parquet\n",
      "      Australia  Austria\n",
      "2016      85.80    57.90\n",
      "2017      85.90    58.09\n",
      "2018      86.01    58.30\n",
      "2019      86.12    58.51\n",
      "2020      86.24    58.75\n"
     ]
    }
   ],
   "source": [
    "# Load all Parquet files from the output directory\n",
    "parquet_data = load_parquet_files(\"parquet_exports\")\n",
    "\n",
    "# Inspect each DataFrame\n",
    "for name, df in parquet_data.items():\n",
    "    print(f\"\\n📄 File: {name}\")\n",
    "    print(df.head())"
   ]
  },
  {
   "cell_type": "code",
   "execution_count": 40,
   "id": "c2c712fc-97ae-4ad1-aceb-ef045c62db1d",
   "metadata": {},
   "outputs": [
    {
     "name": "stdout",
     "output_type": "stream",
     "text": [
      "Processing 16 images...\n",
      "{'Belgium': {'labor_force': 'Aquí están los años y los valores correspondientes del gráfico:\\n\\n*   2016: 5.00\\n*   2017: 5.08\\n*   2018: 5.14\\n*   2019: 5.19\\n*   2020: 5.17\\n*   2021: 5.26\\n*   2022: 5.37\\n*   2023: 5.42', 'livestock_production_index': 'Aquí están los años y valores extraídos del gráfico:\\n\\n*   **2015:** 102.1\\n*   **2016:** 100.8\\n*   **2017:** 102.5\\n*   **2018:** 105.8\\n*   **2019:** 102.5\\n*   **2020:** 105.6\\n*   **2021:** 105.5\\n*   **2022:** 102.3', 'Percent_agricultural_land': 'Aquí están los años y valores extraídos de la imagen del gráfico:\\n\\n*   **2015:** 44.75\\n*   **2016:** 44.53\\n*   **2017:** 43.75\\n*   **2018:** 44.40\\n*   **2019:** 44.47\\n*   **2020:** 44.75\\n*   **2021:** 44.78\\n*   **2022:** 44.57', 'Percent_urban_population': 'Claro, aquí tienes los años y valores extraídos del gráfico:\\n\\n*   **2016:** 97.92\\n*   **2017:** 97.96\\n*   **2018:** 98.00\\n*   **2019:** 98.04\\n*   **2020:** 98.08\\n*   **2021:** 98.12\\n*   **2022:** 98.15\\n*   **2023:** 98.19\\n\\nEspero que esto ayude.\\n'}, 'Brazil': {'labor_force': 'Aquí están los años y valores de la barra, extraídos de la imagen proporcionada:\\n\\n*   2016: 101.2\\n*   2017: 102.9\\n*   2018: 104.1\\n*   2019: 105.9\\n*   2020: 99.69\\n*   2021: 103.8\\n*   2022: 106.3\\n*   2023: 106.1', 'livestock_production_index': 'Aquí tienes los años y los valores correspondientes a cada barra del gráfico:\\n\\n*   **2015:** 102.9\\n*   **2016:** 99.80\\n*   **2017:** 102.9\\n*   **2018:** 104.6\\n*   **2019:** 107.0\\n*   **2020:** 107.6\\n*   **2021:** 108.6\\n*   **2022:** 112.2', 'Percent_agricultural_land': 'Aquí están los años y valores extraídos del gráfico:\\n\\n*   **2015:** 28.17\\n*   **2016:** 28.25\\n*   **2017:** 28.34\\n*   **2018:** 28.01\\n*   **2019:** 27.67\\n*   **2020:** 27.34\\n*   **2021:** 27.00\\n*   **2022:** 26.67', 'Percent_urban_population': 'Claro, aquí está la extracción de los años y valores del gráfico:\\n\\n*   **2016:** 86.04\\n*   **2017:** 86.31\\n*   **2018:** 86.57\\n*   **2019:** 86.82\\n*   **2020:** 87.07\\n*   **2021:** 87.32\\n*   **2022:** 87.56\\n*   **2023:** 87.79\\n\\nEspero que esto ayude.'}, 'Bulgaria': {'labor_force': 'Aquí están los años y valores extraídos de la imagen:\\n\\n*   **2016:** 3.27\\n*   **2017:** 3.36\\n*   **2018:** 3.33\\n*   **2019:** 3.38\\n*   **2020:** 3.30\\n*   **2021:** 3.25\\n*   **2022:** 3.21\\n*   **2023:** 3.09', 'livestock_production_index': 'Aquí están los años y valores extraídos del gráfico:\\n\\n*   **2015:** 99.40\\n*   **2016:** 100.5\\n*   **2017:** 97.30\\n*   **2018:** 91.20\\n*   **2019:** 89.50\\n*   **2020:** 88.60\\n*   **2021:** 91.30\\n*   **2022:** 89.20', 'Percent_agricultural_land': 'Aquí están los años y valores extraídos de la imagen del gráfico:\\n\\n*   **2015:** 46.17\\n*   **2016:** 46.25\\n*   **2017:** 46.33\\n*   **2018:** 46.33\\n*   **2019:** 46.40\\n*   **2020:** 46.49\\n*   **2021:** 46.49\\n*   **2022:** 46.26', 'Percent_urban_population': 'Aquí están los años y los valores extraídos de la imagen:\\n\\n*   **2016:** 74.33\\n*   **2017:** 74.67\\n*   **2018:** 75.01\\n*   **2019:** 75.35\\n*   **2020:** 75.69\\n*   **2021:** 76.03\\n*   **2022:** 76.36\\n*   **2023:** 76.70'}, 'Canada': {'labor_force': 'Aquí está el resumen de los años y valores del gráfico:\\n\\n*   **2016:** 19.88\\n*   **2017:** 20.15\\n*   **2018:** 20.35\\n*   **2019:** 20.77\\n*   **2020:** 20.48\\n*   **2021:** 20.97\\n*   **2022:** 21.38\\n*   **2023:** 22.14', 'livestock_production_index': 'Aquí están los años y valores extraídos del gráfico:\\n\\n*   **2015:** 99.0\\n*   **2016:** 103.6\\n*   **2017:** 109.0\\n*   **2018:** 112.7\\n*   **2019:** 115.0\\n*   **2020:** 116.1\\n*   **2021:** 118.2\\n*   **2022:** 119.1', 'Percent_agricultural_land': 'Aquí tienes los años y los valores extraídos de la imagen:\\n\\n*   **2015:** 6.47\\n*   **2016:** 6.47\\n*   **2017:** 6.45\\n*   **2018:** 6.46\\n*   **2019:** 6.43\\n*   **2020:** 6.37\\n*   **2021:** 6.48\\n*   **2022:** 6.49', 'Percent_urban_population': 'Aquí están los años y valores extraídos del gráfico:\\n\\n*   **2016:** 81.35\\n*   **2017:** 81.35\\n*   **2018:** 81.41\\n*   **2019:** 81.48\\n*   **2020:** 81.56\\n*   **2021:** 81.65\\n*   **2022:** 81.75\\n*   **2023:** 81.86\\n\\nEspero que esto te sea útil.'}}\n",
      "✅ Merged: parquet_exports\\labor_force.parquet\n",
      "✅ Merged: parquet_exports\\livestock_production_index.parquet\n",
      "✅ Merged: parquet_exports\\Percent_agricultural_land.parquet\n",
      "✅ Merged: parquet_exports\\Percent_urban_population.parquet\n",
      "The process for 16 images has finished.\n"
     ]
    }
   ],
   "source": [
    "run_extraction_pipeline(\n",
    "    input_csv='data/image_paths.csv',\n",
    "    processed_csv='data/processed_paths.csv',\n",
    "    batch_size=16\n",
    ")"
   ]
  },
  {
   "cell_type": "code",
   "execution_count": 41,
   "id": "d92835e3-a88a-4908-80a3-0db40c942601",
   "metadata": {},
   "outputs": [
    {
     "name": "stdout",
     "output_type": "stream",
     "text": [
      "\n",
      "📄 File: labor_force.parquet\n",
      "      Australia  Austria  Belgium  Brazil  Bulgaria  Canada\n",
      "2016      12.73     4.57     5.00  101.20      3.27   19.88\n",
      "2017      13.01     4.60     5.08  102.90      3.36   20.15\n",
      "2018      13.31     4.64     5.14  104.10      3.33   20.35\n",
      "2019      13.59     4.66     5.19  105.90      3.38   20.77\n",
      "2020      13.58     4.64     5.17   99.69      3.30   20.48\n",
      "\n",
      "📄 File: livestock_production_index.parquet\n",
      "      Australia  Austria  Belgium  Brazil  Bulgaria  Canada\n",
      "2015      102.4    101.2    102.1   102.9      99.4    99.0\n",
      "2016       96.8    101.4    100.8    99.8     100.5   103.6\n",
      "2017       91.0    101.4    102.5   102.9      97.3   109.0\n",
      "2018       97.2    101.5    105.8   104.6      91.2   112.7\n",
      "2019       97.7    101.1    102.5   107.0      89.5   115.0\n",
      "\n",
      "📄 File: Percent_agricultural_land.parquet\n",
      "      Australia  Austria  Belgium  Brazil  Bulgaria  Canada\n",
      "2015      45.31    32.94    44.75   28.17     46.17    6.47\n",
      "2016      44.54    32.36    44.53   28.25     46.25    6.47\n",
      "2017      48.34    32.17    43.75   28.34     46.33    6.45\n",
      "2018      46.66    32.15    44.40   28.01     46.33    6.46\n",
      "2019      47.12    32.13    44.47   27.67     46.40    6.43\n",
      "\n",
      "📄 File: Percent_urban_population.parquet\n",
      "      Australia  Austria  Belgium  Brazil  Bulgaria  Canada\n",
      "2016      85.80    57.90    97.92   86.04     74.33   81.35\n",
      "2017      85.90    58.09    97.96   86.31     74.67   81.35\n",
      "2018      86.01    58.30    98.00   86.57     75.01   81.41\n",
      "2019      86.12    58.51    98.04   86.82     75.35   81.48\n",
      "2020      86.24    58.75    98.08   87.07     75.69   81.56\n"
     ]
    }
   ],
   "source": [
    "# Load all Parquet files from the output directory\n",
    "parquet_data = load_parquet_files(\"parquet_exports\")\n",
    "\n",
    "# Inspect each DataFrame\n",
    "for name, df in parquet_data.items():\n",
    "    print(f\"\\n📄 File: {name}\")\n",
    "    print(df.head())"
   ]
  },
  {
   "cell_type": "code",
   "execution_count": 43,
   "id": "7cc0e46a-37fb-4d34-b8d1-c00e7d701ec0",
   "metadata": {},
   "outputs": [
    {
     "name": "stdout",
     "output_type": "stream",
     "text": [
      "Processing 32 images...\n",
      "{'Chile': {'labor_force': 'Aquí están los años y valores extraídos de la imagen:\\n\\n*   **2016:** 8.76\\n*   **2017:** 8.97\\n*   **2018:** 9.16\\n*   **2019:** 9.31\\n*   **2020:** 8.91\\n*   **2021:** 9.17\\n*   **2022:** 9.67\\n*   **2023:** 9.96', 'livestock_production_index': 'Claro, aquí tienes los años y los valores que extraje de la imagen:\\n\\n*   **2015:** 100.5\\n*   **2016:** 100.4\\n*   **2017:** 96.30\\n*   **2018:** 101.8\\n*   **2019:** 102.5\\n*   **2020:** 107.0\\n*   **2021:** 105.7\\n*   **2022:** 103.4', 'Percent_agricultural_land': 'Aquí tienes los datos extraídos de la imagen:\\n\\n*   **2015:** 17.52\\n*   **2016:** 17.00\\n*   **2017:** 16.55\\n*   **2018:** 15.99\\n*   **2019:** 15.42\\n*   **2020:** 14.89\\n*   **2021:** 14.55\\n*   **2022:** 14.31', 'Percent_urban_population': 'Claro, aquí tienes los años y valores extraídos de la imagen:\\n\\n*   **2016:** 87.42\\n*   **2017:** 87.49\\n*   **2018:** 87.56\\n*   **2019:** 87.64\\n*   **2020:** 87.73\\n*   **2021:** 87.82\\n*   **2022:** 87.91\\n*   **2023:** 88.01\\n\\nSi necesitas algo más, házmelo saber.'}, 'China': {'labor_force': 'Aquí están los años y valores extraídos del gráfico:\\n\\n*   **2016:** 780.9\\n*   **2017:** 779.2\\n*   **2018:** 776.9\\n*   **2019:** 775.9\\n*   **2020:** 764.3\\n*   **2021:** 781.2\\n*   **2022:** 783.0\\n*   **2023:** 781.1', 'livestock_production_index': 'Aquí están los años y valores extraídos de la imagen del gráfico:\\n\\n*   **2015:** 100.7\\n*   **2016:** 100.2\\n*   **2017:** 100.0\\n*   **2018:** 100.6\\n*   **2019:** 97.10\\n*   **2020:** 98.40\\n*   **2021:** 108.1\\n*   **2022:** 109.5', 'Percent_agricultural_land': 'Aquí están los años y valores extraídos del gráfico de barras:\\n\\n*   **2015:** 55.78\\n*   **2016:** 55.70\\n*   **2017:** 55.62\\n*   **2018:** 55.54\\n*   **2019:** 55.46\\n*   **2020:** 55.45\\n*   **2021:** 55.44\\n*   **2022:** 55.43', 'Percent_urban_population': 'Aquí están los años y valores extraídos del gráfico:\\n\\n*   **2016:** 56.74\\n*   **2017:** 57.96\\n*   **2018:** 59.15\\n*   **2019:** 60.31\\n*   **2020:** 61.43\\n*   **2021:** 62.51\\n*   **2022:** 63.56\\n*   **2023:** 64.57'}, 'Colombia': {'labor_force': 'Aquí está la información extraída del gráfico:\\n\\n*   **2016:** 23.97\\n*   **2017:** 24.37\\n*   **2018:** 24.73\\n*   **2019:** 25.00\\n*   **2020:** 25.15\\n*   **2021:** 25.92\\n*   **2022:** 25.83\\n*   **2023:** 26.29', 'livestock_production_index': 'Aquí están los años y los valores extraídos de la imagen:\\n\\n*   **2015:** 101.3\\n*   **2016:** 100.2\\n*   **2017:** 104.9\\n*   **2018:** 69.0\\n*   **2019:** 106.8\\n*   **2020:** 107.2\\n*   **2021:** 109.7\\n*   **2022:** 110.3', 'Percent_agricultural_land': 'Aquí tienes los años y valores extraídos de la imagen:\\n\\n*   2015: 40.36\\n*   2016: 40.35\\n*   2017: 39.20\\n*   2018: 39.70\\n*   2019: 39.98\\n*   2020: 39.85\\n*   2021: 38.77\\n*   2022: 37.64', 'Percent_urban_population': 'Aquí tienes los años y valores extraídos de la imagen:\\n\\n*   **2016:** 80.11\\n*   **2017:** 80.45\\n*   **2018:** 80.78\\n*   **2019:** 81.10\\n*   **2020:** 81.43\\n*   **2021:** 81.74\\n*   **2022:** 82.05\\n*   **2023:** 82.35'}, 'Croatia': {'labor_force': 'Aquí están los años y los valores correspondientes extraídos del gráfico:\\n\\n*   **2016:** 1.80\\n*   **2017:** 1.78\\n*   **2018:** 1.74\\n*   **2019:** 1.72\\n*   **2020:** 1.71\\n*   **2021:** 1.72\\n*   **2022:** 1.73\\n*   **2023:** 1.74', 'livestock_production_index': 'Aquí tienes los años y los valores extraídos del gráfico:\\n\\n*   **2015:** 96.30\\n*   **2016:** 105.2\\n*   **2017:** 105.0\\n*   **2018:** 104.3\\n*   **2019:** 101.0\\n*   **2020:** 102.0\\n*   **2021:** 102.4\\n*   **2022:** 97.80', 'Percent_agricultural_land': 'Aquí están los años y valores extraídos del gráfico:\\n\\n*   **2015:** 27.47\\n*   **2016:** 27.62\\n*   **2017:** 26.75\\n*   **2018:** 26.52\\n*   **2019:** 26.87\\n*   **2020:** 26.89\\n*   **2021:** 26.38\\n*   **2022:** 25.88', 'Percent_urban_population': 'Aquí está la información extraída del gráfico:\\n\\n*   **2016:** 56.40\\n*   **2017:** 56.67\\n*   **2018:** 56.95\\n*   **2019:** 57.24\\n*   **2020:** 57.55\\n*   **2021:** 57.88\\n*   **2022:** 58.22\\n*   **2023:** 58.58'}, 'Cyprus': {'labor_force': 'Claro, aquí están los años y valores extraídos de la imagen:\\n\\n*   2016: 0.64\\n*   2017: 0.65\\n*   2018: 0.67\\n*   2019: 0.68\\n*   2020: 0.69\\n*   2021: 0.71\\n*   2022: 0.73\\n*   2023: 0.74', 'livestock_production_index': 'Aquí están los años y valores de la gráfica:\\n\\n*   **2015:** 99.60\\n*   **2016:** 104.7\\n*   **2017:** 109.6\\n*   **2018:** 110.9\\n*   **2019:** 115.6\\n*   **2020:** 116.4\\n*   **2021:** 126.0\\n*   **2022:** 121.6', 'Percent_agricultural_land': 'Aquí están los años y valores extraídos de la imagen que proporcionaste:\\n\\n*   **2015:** 13.71\\n*   **2016:** 11.84\\n*   **2017:** 13.14\\n*   **2018:** 14.33\\n*   **2019:** 13.56\\n*   **2020:** 13.81\\n*   **2021:** 13.16\\n*   **2022:** 13.32', 'Percent_urban_population': 'Aquí están los años y valores extraídos de la imagen:\\n\\n*   **2016:** 66.88\\n*   **2017:** 66.84\\n*   **2018:** 66.81\\n*   **2019:** 66.81\\n*   **2020:** 66.82\\n*   **2021:** 66.86\\n*   **2022:** 66.91\\n*   **2023:** 66.99'}, 'Czech-Republic': {'labor_force': 'Aquí está la extracción de los años y valores del gráfico:\\n\\n*   **2016:** 5.35\\n*   **2017:** 5.38\\n*   **2018:** 5.42\\n*   **2019:** 5.42\\n*   **2020:** 5.37\\n*   **2021:** 5.28\\n*   **2022:** 5.37\\n*   **2023:** 5.50', 'livestock_production_index': 'Aquí están los años y los valores del gráfico que has proporcionado:\\n\\n*   **2015:** 101.3\\n*   **2016:** 101.8\\n*   **2017:** 101.1\\n*   **2018:** 99.90\\n*   **2019:** 100.4\\n*   **2020:** 102.0\\n*   **2021:** 104.1\\n*   **2022:** 102.3', 'Percent_agricultural_land': 'Claro, aquí tienes los años y valores extraídos de la imagen:\\n\\n*   **2015:** 45.25\\n*   **2016:** 45.18\\n*   **2017:** 45.60\\n*   **2018:** 45.63\\n*   **2019:** 45.64\\n*   **2020:** 45.65\\n*   **2021:** 45.73\\n*   **2022:** 45.75\\n\\nEspero que esto sea lo que buscabas.\\n', 'Percent_urban_population': 'Claro, aquí tienes los años y valores extraídos de la imagen:\\n\\n*   **2016:** 73.57\\n*   **2017:** 73.68\\n*   **2018:** 73.79\\n*   **2019:** 73.92\\n*   **2020:** 74.06\\n*   **2021:** 74.21\\n*   **2022:** 74.38\\n*   **2023:** 74.55\\n\\nSi necesitas que haga algo más con estos datos, házmelo saber.'}, 'Denmark': {'labor_force': 'Aquí está la información extraída de la barra gráfica:\\n\\n*   **2016:** 2.94\\n*   **2017:** 2.97\\n*   **2018:** 2.99\\n*   **2019:** 3.03\\n*   **2020:** 3.03\\n*   **2021:** 3.07\\n*   **2022:** 3.14\\n*   **2023:** 3.18', 'livestock_production_index': 'Claro, aquí tienes los años y valores extraídos de la imagen:\\n\\n*   **2015:** 99.90\\n*   **2016:** 100.8\\n*   **2017:** 99.60\\n*   **2018:** 101.5\\n*   **2019:** 99.00\\n*   **2020:** 102.4\\n*   **2021:** 106.3\\n*   **2022:** 102.2', 'Percent_agricultural_land': 'Aquí están los años y valores extraídos de la imagen:\\n\\n*   **2015:** 65.85\\n*   **2016:** 65.63\\n*   **2017:** 65.78\\n*   **2018:** 65.81\\n*   **2019:** 65.65\\n*   **2020:** 65.50\\n*   **2021:** 65.45\\n*   **2022:** 65.60', 'Percent_urban_population': 'Aquí están los años y valores extraídos del gráfico:\\n\\n*   **2016:** 87.54\\n*   **2017:** 87.76\\n*   **2018:** 87.87\\n*   **2019:** 87.99\\n*   **2020:** 88.12\\n*   **2021:** 88.24\\n*   **2022:** 88.37\\n*   **2023:** 88.50'}, 'Estonia': {'labor_force': 'Aquí están los años y valores del gráfico:\\n\\n*   **2016:** 0.69\\n*   **2017:** 0.70\\n*   **2018:** 0.70\\n*   **2019:** 0.70\\n*   **2020:** 0.70\\n*   **2021:** 0.70\\n*   **2022:** 0.74\\n*   **2023:** 0.76', 'livestock_production_index': 'Aquí tienes la información extraída del gráfico:\\n\\n*   **2015:** 101.6\\n*   **2016:** 99.8\\n*   **2017:** 96.1\\n*   **2018:** 95.8\\n*   **2019:** 95.6\\n*   **2020:** 95.6\\n*   **2021:** 95.0\\n*   **2022:** 94.6', 'Percent_agricultural_land': 'Aquí están los años y valores extraídos de la imagen:\\n\\n*   **2015:** 22.84\\n*   **2016:** 23.07\\n*   **2017:** 22.97\\n*   **2018:** 23.04\\n*   **2019:** 23.12\\n*   **2020:** 23.04\\n*   **2021:** 23.09\\n*   **2022:** 23.08', 'Percent_urban_population': 'Claro, aquí tienes los años y valores extraídos de la imagen:\\n\\n*   2016: 68.56\\n*   2017: 68.72\\n*   2018: 68.88\\n*   2019: 69.05\\n*   2020: 69.23\\n*   2021: 69.42\\n*   2022: 69.61\\n*   2023: 69.81\\n\\nEspero que esto ayude. Avísame si tienes alguna otra pregunta.'}}\n",
      "✅ Merged: parquet_exports\\labor_force.parquet\n",
      "✅ Merged: parquet_exports\\livestock_production_index.parquet\n",
      "✅ Merged: parquet_exports\\Percent_agricultural_land.parquet\n",
      "✅ Merged: parquet_exports\\Percent_urban_population.parquet\n",
      "The process for 32 images has finished.\n"
     ]
    }
   ],
   "source": [
    "run_extraction_pipeline(\n",
    "    input_csv='data/image_paths.csv',\n",
    "    processed_csv='data/processed_paths.csv',\n",
    "    batch_size=32\n",
    ")"
   ]
  },
  {
   "cell_type": "code",
   "execution_count": 44,
   "id": "34ad3845-4c5e-49ae-b25d-a3e6b6c959d3",
   "metadata": {},
   "outputs": [
    {
     "name": "stdout",
     "output_type": "stream",
     "text": [
      "Processing 32 images...\n",
      "{'Finland': {'labor_force': 'Aquí están los años y valores extraídos de la imagen del gráfico:\\n\\n*   **2016:** 2.69\\n*   **2017:** 2.72\\n*   **2018:** 2.75\\n*   **2019:** 2.76\\n*   **2020:** 2.75\\n*   **2021:** 2.80\\n*   **2022:** 2.84\\n*   **2023:** 2.88', 'livestock_production_index': 'Aquí tienes los datos extraídos de la imagen:\\n\\n*   **2015:** 100.7\\n*   **2016:** 101.2\\n*   **2017:** 100.3\\n*   **2018:** 99.60\\n*   **2019:** 99.90\\n*   **2020:** 101.4\\n*   **2021:** 99.90\\n*   **2022:** 97.80', 'Percent_agricultural_land': 'Aquí tienes la información extraída de la imagen:\\n\\n*   **2015:** 7.48\\n*   **2016:** 7.49\\n*   **2017:** 7.47\\n*   **2018:** 7.48\\n*   **2019:** 7.48\\n*   **2020:** 7.47\\n*   **2021:** 7.46\\n*   **2022:** 7.46', 'Percent_urban_population': 'Aquí están los años y valores extraídos del gráfico:\\n\\n*   **2016:** 85.28\\n*   **2017:** 85.32\\n*   **2018:** 85.38\\n*   **2019:** 85.45\\n*   **2020:** 85.52\\n*   **2021:** 85.60\\n*   **2022:** 85.68\\n*   **2023:** 85.77'}, 'France': {'labor_force': 'Aquí están los años y valores extraídos de la imagen:\\n\\n*   **2016:** 30.57\\n*   **2017:** 30.56\\n*   **2018:** 30.71\\n*   **2019:** 30.68\\n*   **2020:** 30.43\\n*   **2021:** 31.36\\n*   **2022:** 31.72\\n*   **2023:** 31.98', 'livestock_production_index': 'Aquí está el desglose de los años y los valores que aparecen en la imagen:\\n\\n*   **2015:** 100.2\\n*   **2016:** 100.6\\n*   **2017:** 99.2\\n*   **2018:** 98.6\\n*   **2019:** 97.4\\n*   **2020:** 98.0\\n*   **2021:** 97.0\\n*   **2022:** 93.2', 'Percent_agricultural_land': 'Aquí tienes los años y valores extraídos del gráfico:\\n\\n*   **2015:** 52.46\\n*   **2016:** 52.45\\n*   **2017:** 52.41\\n*   **2018:** 52.34\\n*   **2019:** 52.08\\n*   **2020:** 52.09\\n*   **2021:** 52.10\\n*   **2022:** 51.69', 'Percent_urban_population': 'Aquí están los años y valores extraídos de la imagen:\\n\\n*   **2016:** 79.92\\n*   **2017:** 80.18\\n*   **2018:** 80.44\\n*   **2019:** 80.71\\n*   **2020:** 80.97\\n*   **2021:** 81.24\\n*   **2022:** 81.51\\n*   **2023:** 81.78'}, 'Germany': {'labor_force': 'Aquí están los años y valores extraídos de la imagen:\\n\\n*   **2016:** 43.54\\n*   **2017:** 43.79\\n*   **2018:** 43.91\\n*   **2019:** 44.42\\n*   **2020:** 43.50\\n*   **2021:** 43.39\\n*   **2022:** 44.22\\n*   **2023:** 44.18', 'livestock_production_index': 'Aquí están los años y valores extraídos de la imagen:\\n\\n*   **2015:** 100.4\\n*   **2016:** 99.70\\n*   **2017:** 98.90\\n*   **2018:** 98.50\\n*   **2019:** 98.10\\n*   **2020:** 98.50\\n*   **2021:** 97.10\\n*   **2022:** 93.30', 'Percent_agricultural_land': 'Aquí están los años y valores extraídos de la barra:\\n\\n*   **2015:** 47.96\\n*   **2016:** 47.68\\n*   **2017:** 47.76\\n*   **2018:** 47.64\\n*   **2019:** 47.70\\n*   **2020:** 47.50\\n*   **2021:** 47.49\\n*   **2022:** 47.50', 'Percent_urban_population': 'Aquí están los años y valores extraídos de la barra del gráfico:\\n\\n*   **2016:** 77.22\\n*   **2017:** 77.26\\n*   **2018:** 77.31\\n*   **2019:** 77.38\\n*   **2020:** 77.45\\n*   **2021:** 77.54\\n*   **2022:** 77.65\\n*   **2023:** 77.76'}, 'Greece': {'labor_force': 'Aquí está la información extraída de la imagen del gráfico de barras:\\n\\n*   **2016:** 4.73\\n*   **2017:** 4.71\\n*   **2018:** 4.68\\n*   **2019:** 4.68\\n*   **2020:** 4.60\\n*   **2021:** 4.57\\n*   **2022:** 4.66\\n*   **2023:** 4.67', 'livestock_production_index': 'Claro, aquí están los años y valores de la imagen que proporcionaste:\\n\\n*   **2015:** 99.70\\n*   **2016:** 98.90\\n*   **2017:** 96.80\\n*   **2018:** 93.80\\n*   **2019:** 94.00\\n*   **2020:** 96.70\\n*   **2021:** 97.30\\n*   **2022:** 100.10', 'Percent_agricultural_land': 'Aquí están los años y valores extraídos del gráfico:\\n\\n*   **2015:** 48.09\\n*   **2016:** 47.60\\n*   **2017:** 46.96\\n*   **2018:** 46.11\\n*   **2019:** 45.49\\n*   **2020:** 43.64\\n*   **2021:** 44.31\\n*   **2022:** 44.31', 'Percent_urban_population': 'Aquí están los años y valores extraídos de la imagen:\\n\\n*   **2016:** 78.39\\n*   **2017:** 78.72\\n*   **2018:** 79.06\\n*   **2019:** 79.39\\n*   **2020:** 79.71\\n*   **2021:** 80.04\\n*   **2022:** 80.36\\n*   **2023:** 80.67'}, 'Hong-Kong': {'labor_force': 'Aquí está la extracción de los años y valores del gráfico:\\n\\n*   **2016:** 3.96\\n*   **2017:** 4.00\\n*   **2018:** 4.04\\n*   **2019:** 4.03\\n*   **2020:** 3.96\\n*   **2021:** 3.91\\n*   **2022:** 3.81\\n*   **2023:** 3.88', 'livestock_production_index': 'Aquí está el resumen de los datos del gráfico:\\n\\n*   2015: 96.20\\n*   2016: 107.5\\n*   2017: 99.70\\n*   2018: 96.40\\n*   2019: 210.7\\n*   2020: 244.6\\n*   2021: 175.2\\n*   2022: 150.0', 'Percent_urban_population': 'Claro, aquí están los años y valores extraídos de la imagen:\\n\\n*   **2016:** 100.0\\n*   **2017:** 100.0\\n*   **2018:** 100.0\\n*   **2019:** 100.0\\n*   **2020:** 100.0\\n*   **2021:** 100.0\\n*   **2022:** 100.0\\n*   **2023:** 100.0\\n\\nTodos los años tienen el mismo valor de 100.0.'}, 'Hungary': {'labor_force': 'Claro, aquí están los años y valores extraídos del gráfico:\\n\\n*   **2016:** 4.65\\n*   **2017:** 4.69\\n*   **2018:** 4.72\\n*   **2019:** 4.75\\n*   **2020:** 4.72\\n*   **2021:** 4.92\\n*   **2022:** 4.98\\n*   **2023:** 5.00', 'livestock_production_index': 'Claro, aquí está la información extraída de la imagen:\\n\\n*   2015: 101.4\\n*   2016: 102.5\\n*   2017: 100.4\\n*   2018: 103.9\\n*   2019: 103.5\\n*   2020: 100.1\\n*   2021: 104.9\\n*   2022: 99.60', 'Percent_agricultural_land': 'Aquí están los años y valores extraídos de la imagen:\\n\\n*   **2015:** 57.68\\n*   **2016:** 57.88\\n*   **2017:** 58.11\\n*   **2018:** 58.03\\n*   **2019:** 57.83\\n*   **2020:** 53.88\\n*   **2021:** 55.27\\n*   **2022:** 55.62', 'Percent_urban_population': 'Aquí están los años y valores extraídos de la imagen:\\n\\n*   **2016:** 70.78\\n*   **2017:** 71.06\\n*   **2018:** 71.35\\n*   **2019:** 71.64\\n*   **2020:** 71.94\\n*   **2021:** 72.25\\n*   **2022:** 72.55\\n*   **2023:** 72.86'}, 'Iceland': {'labor_force': 'Claro, aquí está la extracción de los datos de la imagen:\\n\\n| Año  | Valor |\\n|------|-------|\\n| 2016 | 0.21  |\\n| 2017 | 0.21  |\\n| 2018 | 0.22  |\\n| 2019 | 0.22  |\\n| 2020 | 0.22  |\\n| 2021 | 0.22  |\\n| 2022 | 0.23  |\\n| 2023 | 0.24  |', 'livestock_production_index': 'Aquí tienes los años y valores extraídos del gráfico:\\n\\n*   **2015:** 100.3\\n*   **2016:** 104.1\\n*   **2017:** 107.9\\n*   **2018:** 108.5\\n*   **2019:** 106.8\\n*   **2020:** 103.3\\n*   **2021:** 103.5\\n*   **2022:** 101.3', 'Percent_agricultural_land': 'Aquí tienes los años y los valores extraídos de la imagen:\\n\\n*   **2015:** 18.67\\n*   **2016:** 18.67\\n*   **2017:** 18.67\\n*   **2018:** 18.57\\n*   **2019:** 18.57\\n*   **2020:** 18.57\\n*   **2021:** 18.57\\n*   **2022:** 18.57', 'Percent_urban_population': 'Aquí están los años y valores extraídos del gráfico:\\n\\n*   2016: 93.74\\n*   2017: 93.77\\n*   2018: 93.81\\n*   2019: 93.86\\n*   2020: 93.90\\n*   2021: 93.94\\n*   2022: 93.99\\n*   2023: 94.04'}, 'India': {'labor_force': 'Aquí están los años y valores extraídos del gráfico:\\n\\n*   **2016:** 504.2\\n*   **2017:** 510.3\\n*   **2018:** 515.8\\n*   **2019:** 520.8\\n*   **2020:** 521.2\\n*   **2021:** 536.0\\n*   **2022:** 556.0\\n*   **2023:** 596.4', 'livestock_production_index': 'Aquí está la información extraída de la imagen:\\n\\n*   **2015:** 99.80\\n*   **2016:** 105.2\\n*   **2017:** 111.4\\n*   **2018:** 117.8\\n*   **2019:** 124.4\\n*   **2020:** 128.1\\n*   **2021:** 135.3\\n*   **2022:** 132.5', 'Percent_agricultural_land': 'Aquí tienes los años y valores extraídos de la imagen:\\n\\n*   **2015:** 60.43\\n*   **2016:** 60.40\\n*   **2017:** 60.28\\n*   **2018:** 60.24\\n*   **2019:** 60.22\\n*   **2020:** 60.05\\n*   **2021:** 60.05\\n*   **2022:** 60.05', 'Percent_urban_population': 'Aquí están los años y valores extraídos de la imagen del gráfico:\\n\\n*   **2016:** 33.18\\n*   **2017:** 33.60\\n*   **2018:** 34.03\\n*   **2019:** 34.47\\n*   **2020:** 34.93\\n*   **2021:** 35.39\\n*   **2022:** 35.87\\n*   **2023:** 36.36'}, 'Indonesia': {'labor_force': 'Aquí están los años y valores extraídos de la barra:\\n\\n*   **2016:** 128.5\\n*   **2017:** 130.9\\n*   **2018:** 134.5\\n*   **2019:** 137.4\\n*   **2020:** 137.4\\n*   **2021:** 135.7\\n*   **2022:** 139.6\\n*   **2023:** 142.7'}}\n",
      "✅ Merged: parquet_exports\\labor_force.parquet\n",
      "✅ Merged: parquet_exports\\livestock_production_index.parquet\n",
      "✅ Merged: parquet_exports\\Percent_agricultural_land.parquet\n",
      "✅ Merged: parquet_exports\\Percent_urban_population.parquet\n",
      "The process for 32 images has finished.\n"
     ]
    }
   ],
   "source": [
    "run_extraction_pipeline(\n",
    "    input_csv='data/image_paths.csv',\n",
    "    processed_csv='data/processed_paths.csv',\n",
    "    batch_size=32\n",
    ")"
   ]
  },
  {
   "cell_type": "code",
   "execution_count": 45,
   "id": "abb84561-42f7-4c7f-9a3d-de8dbb9a3c8b",
   "metadata": {},
   "outputs": [],
   "source": [
    "def view_country_statistic(parquet_data, statistic_name, country_name):\n",
    "    df = parquet_data.get(f\"{statistic_name}.parquet\")\n",
    "    if df is None:\n",
    "        print(f\"❌ Statistic '{statistic_name}' not found.\")\n",
    "        return\n",
    "\n",
    "    if country_name not in df.columns:\n",
    "        print(f\"❌ Country '{country_name}' not found in '{statistic_name}'.\")\n",
    "        return\n",
    "\n",
    "    print(f\"\\n📊 {statistic_name} for {country_name}\")\n",
    "    print(df[[country_name]].dropna())"
   ]
  },
  {
   "cell_type": "code",
   "execution_count": 46,
   "id": "dd5d465c-0437-444b-8cd7-c40ec9b9ad3e",
   "metadata": {},
   "outputs": [],
   "source": [
    "# Load all Parquet files from the output directory\n",
    "parquet_data = load_parquet_files(\"parquet_exports\")"
   ]
  },
  {
   "cell_type": "code",
   "execution_count": 47,
   "id": "f4d1fe9a-6b83-4d25-815c-b8ccd0161f00",
   "metadata": {},
   "outputs": [
    {
     "name": "stdout",
     "output_type": "stream",
     "text": [
      "\n",
      "📊 labor_force for Iceland\n",
      "Empty DataFrame\n",
      "Columns: [Iceland]\n",
      "Index: []\n"
     ]
    }
   ],
   "source": [
    "view_country_statistic(parquet_data, \"labor_force\", \"Iceland\")"
   ]
  },
  {
   "cell_type": "code",
   "execution_count": 49,
   "id": "e551d4a1-a5b0-474d-98a6-22facb73ae7c",
   "metadata": {},
   "outputs": [
    {
     "name": "stdout",
     "output_type": "stream",
     "text": [
      "\n",
      "📊 labor_force for Indonesia\n",
      "      Indonesia\n",
      "2016      128.5\n",
      "2017      130.9\n",
      "2018      134.5\n",
      "2019      137.4\n",
      "2020      137.4\n",
      "2021      135.7\n",
      "2022      139.6\n",
      "2023      142.7\n"
     ]
    }
   ],
   "source": [
    "view_country_statistic(parquet_data, \"labor_force\", \"Indonesia\")"
   ]
  },
  {
   "cell_type": "code",
   "execution_count": null,
   "id": "f200476a-6b82-41ad-a4eb-6afa45016366",
   "metadata": {},
   "outputs": [],
   "source": []
  }
 ],
 "metadata": {
  "kernelspec": {
   "display_name": "Python 3 (ipykernel)",
   "language": "python",
   "name": "python3"
  },
  "language_info": {
   "codemirror_mode": {
    "name": "ipython",
    "version": 3
   },
   "file_extension": ".py",
   "mimetype": "text/x-python",
   "name": "python",
   "nbconvert_exporter": "python",
   "pygments_lexer": "ipython3",
   "version": "3.11.8"
  }
 },
 "nbformat": 4,
 "nbformat_minor": 5
}
