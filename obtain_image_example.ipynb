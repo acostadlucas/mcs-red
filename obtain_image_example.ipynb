{
 "cells": [
  {
   "cell_type": "code",
   "execution_count": 1,
   "id": "8839447c-a039-4174-b582-2c6232dc9c47",
   "metadata": {},
   "outputs": [],
   "source": [
    "import os\n",
    "import requests\n",
    "from bs4 import BeautifulSoup"
   ]
  },
  {
   "cell_type": "code",
   "execution_count": 2,
   "id": "d1abeb60-ec3d-48bb-84ef-d4776c38a9cd",
   "metadata": {},
   "outputs": [],
   "source": [
    "country_example_links = "
   ]
  },
  {
   "cell_type": "code",
   "execution_count": 3,
   "id": "ef223e86-eeef-4074-84f7-7185be9906ff",
   "metadata": {},
   "outputs": [],
   "source": [
    "headers = {\n",
    "    \"User-Agent\": \"Mozilla/5.0 (Windows NT 10.0; Win64; x64) AppleWebKit/537.36 (KHTML, like Gecko) Chrome/138.0.0.0 Safari/537.36\"\n",
    "}"
   ]
  },
  {
   "cell_type": "code",
   "execution_count": 9,
   "id": "c690baed-f72e-4273-8376-e410e901bc0d",
   "metadata": {},
   "outputs": [],
   "source": [
    "def extraer_info_desde_url(url: str) -> tuple[str, str]:\n",
    "    # Elimina el dominio y separa por \"/\"\n",
    "    partes = url.strip(\"/\").split(\"/\")\n",
    "    \n",
    "    # Validación básica\n",
    "    if len(partes) < 5:\n",
    "        raise ValueError(\"URL no tiene el formato esperado.\")\n",
    "    \n",
    "    pais = partes[-2]\n",
    "    indicador= partes[-1]\n",
    "    \n",
    "    return pais, indicador"
   ]
  },
  {
   "cell_type": "code",
   "execution_count": 14,
   "id": "5398dc96-a453-4d83-b1ab-9ea1ae35a63b",
   "metadata": {},
   "outputs": [
    {
     "name": "stdout",
     "output_type": "stream",
     "text": [
      "('Turkmenistan', 'Percent_agricultural_land')\n",
      "('Rwanda', 'Percent_agricultural_land')\n",
      "('Rwanda', 'Percent_urban_population')\n"
     ]
    }
   ],
   "source": [
    "for url in country_example_links:\n",
    "    print(extraer_info_desde_url(url))"
   ]
  },
  {
   "cell_type": "code",
   "execution_count": 15,
   "id": "125c59d7-3972-4d7a-ade8-441525bd9686",
   "metadata": {},
   "outputs": [
    {
     "name": "stdout",
     "output_type": "stream",
     "text": [
      "Turkmenistan\n",
      "Rwanda\n",
      "Rwanda\n"
     ]
    }
   ],
   "source": [
    "for url in country_example_links:\n",
    "    print(extraer_info_desde_url(url)[0])"
   ]
  },
  {
   "cell_type": "code",
   "execution_count": 16,
   "id": "a48d38ca-fafe-4132-8fbe-a57278189c59",
   "metadata": {},
   "outputs": [
    {
     "name": "stdout",
     "output_type": "stream",
     "text": [
      "Percent_agricultural_land\n",
      "Percent_agricultural_land\n",
      "Percent_urban_population\n"
     ]
    }
   ],
   "source": [
    "for url in country_example_links:\n",
    "    print(extraer_info_desde_url(url)[1])"
   ]
  },
  {
   "cell_type": "code",
   "execution_count": 22,
   "id": "1e85e5c5-00c0-4afb-b12f-24a5ab2f1dac",
   "metadata": {},
   "outputs": [
    {
     "name": "stdout",
     "output_type": "stream",
     "text": [
      "✅ Imagen guardada en: Turkmenistan\\Percent_agricultural_land_Turkmenistan.png\n",
      "✅ Imagen guardada en: Rwanda\\Percent_agricultural_land_Rwanda.png\n",
      "✅ Imagen guardada en: Rwanda\\Percent_urban_population_Rwanda.png\n"
     ]
    }
   ],
   "source": [
    "for url in country_example_links:\n",
    "    # Hacer request y parsear HTML\n",
    "    response = requests.get(url, headers= headers)\n",
    "    soup = BeautifulSoup(response.text, \"html.parser\")\n",
    "\n",
    "    # Buscar la imagen del gráfico\n",
    "    img_tag = soup.find(\"img\", id=\"graphImage\")\n",
    "    if img_tag:\n",
    "        img_url = img_tag[\"src\"]\n",
    "\n",
    "        # convertir a path absoluto de ser necesario\n",
    "        if img_url.startswith(\"/\"):\n",
    "            img_url = \"https://www.theglobaleconomy.com\" + img_url\n",
    "\n",
    "        pais = extraer_info_desde_url(url)[0]\n",
    "        indicador = extraer_info_desde_url(url)[1]\n",
    "    \n",
    "        # Crear carpeta con el nombre del país\n",
    "        folder_name = pais\n",
    "        os.makedirs(folder_name, exist_ok=True)\n",
    "    \n",
    "        # Nombre del archivo\n",
    "        filename = f\"{indicador}_{pais}.png\"\n",
    "        filepath = os.path.join(folder_name, filename)\n",
    "    \n",
    "        # Descargar la imagen y guardarla\n",
    "        img_response = requests.get(img_url, headers=headers)\n",
    "        with open(filepath, \"wb\") as f:\n",
    "            f.write(img_response.content)\n",
    "        \n",
    "        print(f\"✅ Imagen guardada en: {filepath}\")\n",
    "    else:\n",
    "        print(\"❌ No se encontró la imagen.\") "
   ]
  },
  {
   "cell_type": "code",
   "execution_count": null,
   "id": "cc145e1d-d394-4f51-a791-4f22b00ee7d7",
   "metadata": {},
   "outputs": [],
   "source": []
  }
 ],
 "metadata": {
  "kernelspec": {
   "display_name": "Python 3 (ipykernel)",
   "language": "python",
   "name": "python3"
  },
  "language_info": {
   "codemirror_mode": {
    "name": "ipython",
    "version": 3
   },
   "file_extension": ".py",
   "mimetype": "text/x-python",
   "name": "python",
   "nbconvert_exporter": "python",
   "pygments_lexer": "ipython3",
   "version": "3.11.8"
  }
 },
 "nbformat": 4,
 "nbformat_minor": 5
}
