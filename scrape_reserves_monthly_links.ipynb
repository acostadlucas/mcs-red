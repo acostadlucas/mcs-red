{
 "cells": [
  {
   "cell_type": "code",
   "execution_count": 1,
   "id": "16a02b22-0e80-4c22-bf54-9e2c2231abac",
   "metadata": {},
   "outputs": [],
   "source": [
    "import requests\n",
    "from bs4 import BeautifulSoup"
   ]
  },
  {
   "cell_type": "code",
   "execution_count": 3,
   "id": "358e72aa-f30c-4d09-be2f-fba74166442c",
   "metadata": {},
   "outputs": [],
   "source": [
    "# 1. Obtener el HTML de la página del ranking\n",
    "url = \"\"\n",
    "headers = {\n",
    "    \"User-Agent\": \"Mozilla/5.0 (Windows NT 10.0; Win64; x64) AppleWebKit/537.36 (KHTML, like Gecko) Chrome/138.0.0.0 Safari/537.36\"\n",
    "}\n",
    "\n",
    "response = requests.get(url, headers=headers)\n",
    "response.raise_for_status()  # Lanza error si la petición falla"
   ]
  },
  {
   "cell_type": "code",
   "execution_count": 4,
   "id": "94f8617b-bfec-4802-a4a3-32d2430fa4b0",
   "metadata": {},
   "outputs": [],
   "source": [
    "# 2. Parsear HTML con BeautifulSoup\n",
    "soup = BeautifulSoup(response.text, \"html.parser\")"
   ]
  },
  {
   "cell_type": "code",
   "execution_count": 5,
   "id": "569a949a-42ad-492d-ac49-0eeaea2ad131",
   "metadata": {},
   "outputs": [],
   "source": [
    "# 3. Buscar la tabla principal y extraer los links\n",
    "table = soup.find(\"table\")\n",
    "country_links = []\n",
    "\n",
    "if table:\n",
    "    rows = table.find_all(\"tr\")\n",
    "    for row in rows:\n",
    "        cell = row.find(\"td\")\n",
    "        if cell and cell.a:\n",
    "            relative_link = cell.a[\"href\"]\n",
    "            full_url = f\"{relative_link}\"\n",
    "            country_links.append(full_url)"
   ]
  },
  {
   "cell_type": "code",
   "execution_count": null,
   "id": "e4ac12a3-052a-43ae-a4de-28c2894080f3",
   "metadata": {},
   "outputs": [],
   "source": []
  }
 ],
 "metadata": {
  "kernelspec": {
   "display_name": "Python 3 (ipykernel)",
   "language": "python",
   "name": "python3"
  },
  "language_info": {
   "codemirror_mode": {
    "name": "ipython",
    "version": 3
   },
   "file_extension": ".py",
   "mimetype": "text/x-python",
   "name": "python",
   "nbconvert_exporter": "python",
   "pygments_lexer": "ipython3",
   "version": "3.11.8"
  }
 },
 "nbformat": 4,
 "nbformat_minor": 5
}
