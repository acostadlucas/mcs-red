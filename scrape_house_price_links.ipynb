{
 "cells": [
  {
   "cell_type": "code",
   "execution_count": 1,
   "id": "23521d75-fc58-4741-9723-a70be7dd2a5b",
   "metadata": {},
   "outputs": [],
   "source": [
    "import requests\n",
    "from bs4 import BeautifulSoup"
   ]
  },
  {
   "cell_type": "code",
   "execution_count": 2,
   "id": "1afba11d-4799-4985-8799-389bba814961",
   "metadata": {},
   "outputs": [],
   "source": [
    "# 1. Obtener el HTML de la página del ranking\n",
    "url = \"https://www.theglobaleconomy.com/rankings/house_price_index/\"\n",
    "headers = {\n",
    "    \"User-Agent\": \"Mozilla/5.0 (Windows NT 10.0; Win64; x64) AppleWebKit/537.36 (KHTML, like Gecko) Chrome/138.0.0.0 Safari/537.36\"\n",
    "}\n",
    "\n",
    "response = requests.get(url, headers=headers)\n",
    "response.raise_for_status()  # Lanza error si la petición falla"
   ]
  },
  {
   "cell_type": "code",
   "execution_count": 3,
   "id": "ff848209-96dd-41f3-b11d-b0d4d8329a44",
   "metadata": {},
   "outputs": [],
   "source": [
    "# 2. Parsear HTML con BeautifulSoup\n",
    "soup = BeautifulSoup(response.text, \"html.parser\")"
   ]
  },
  {
   "cell_type": "code",
   "execution_count": 4,
   "id": "f4f37822-5173-4102-8a0f-ee94e20c218f",
   "metadata": {},
   "outputs": [],
   "source": [
    "# 3. Buscar la tabla principal y extraer los links\n",
    "table = soup.find(\"table\")\n",
    "country_links = []\n",
    "\n",
    "if table:\n",
    "    rows = table.find_all(\"tr\")\n",
    "    for row in rows:\n",
    "        cell = row.find(\"td\")\n",
    "        if cell and cell.a:\n",
    "            relative_link = cell.a[\"href\"]\n",
    "            full_url = f\"https://www.theglobaleconomy.com{relative_link}\"\n",
    "            country_links.append(full_url)"
   ]
  },
  {
   "cell_type": "code",
   "execution_count": 5,
   "id": "9e7359c1-ed8d-4dff-b271-6f53f28e6707",
   "metadata": {},
   "outputs": [
    {
     "name": "stdout",
     "output_type": "stream",
     "text": [
      "Links encontrados: 57\n",
      "https://www.theglobaleconomy.com/Australia/house_price_index/\n",
      "https://www.theglobaleconomy.com/Austria/house_price_index/\n",
      "https://www.theglobaleconomy.com/Belgium/house_price_index/\n",
      "https://www.theglobaleconomy.com/Brazil/house_price_index/\n",
      "https://www.theglobaleconomy.com/Bulgaria/house_price_index/\n",
      "https://www.theglobaleconomy.com/Canada/house_price_index/\n",
      "https://www.theglobaleconomy.com/Chile/house_price_index/\n",
      "https://www.theglobaleconomy.com/China/house_price_index/\n",
      "https://www.theglobaleconomy.com/Colombia/house_price_index/\n",
      "https://www.theglobaleconomy.com/Croatia/house_price_index/\n",
      "https://www.theglobaleconomy.com/Cyprus/house_price_index/\n",
      "https://www.theglobaleconomy.com/Czech-Republic/house_price_index/\n",
      "https://www.theglobaleconomy.com/Denmark/house_price_index/\n",
      "https://www.theglobaleconomy.com/Estonia/house_price_index/\n",
      "https://www.theglobaleconomy.com/Finland/house_price_index/\n",
      "https://www.theglobaleconomy.com/France/house_price_index/\n",
      "https://www.theglobaleconomy.com/Germany/house_price_index/\n",
      "https://www.theglobaleconomy.com/Greece/house_price_index/\n",
      "https://www.theglobaleconomy.com/Hong-Kong/house_price_index/\n",
      "https://www.theglobaleconomy.com/Hungary/house_price_index/\n",
      "https://www.theglobaleconomy.com/Iceland/house_price_index/\n",
      "https://www.theglobaleconomy.com/India/house_price_index/\n",
      "https://www.theglobaleconomy.com/Indonesia/house_price_index/\n",
      "https://www.theglobaleconomy.com/Ireland/house_price_index/\n",
      "https://www.theglobaleconomy.com/Israel/house_price_index/\n",
      "https://www.theglobaleconomy.com/Italy/house_price_index/\n",
      "https://www.theglobaleconomy.com/Japan/house_price_index/\n",
      "https://www.theglobaleconomy.com/Latvia/house_price_index/\n",
      "https://www.theglobaleconomy.com/Lithuania/house_price_index/\n",
      "https://www.theglobaleconomy.com/Luxembourg/house_price_index/\n",
      "https://www.theglobaleconomy.com/Macedonia/house_price_index/\n",
      "https://www.theglobaleconomy.com/Malaysia/house_price_index/\n",
      "https://www.theglobaleconomy.com/Malta/house_price_index/\n",
      "https://www.theglobaleconomy.com/Mexico/house_price_index/\n",
      "https://www.theglobaleconomy.com/Morocco/house_price_index/\n",
      "https://www.theglobaleconomy.com/Netherlands/house_price_index/\n",
      "https://www.theglobaleconomy.com/New-Zealand/house_price_index/\n",
      "https://www.theglobaleconomy.com/Norway/house_price_index/\n",
      "https://www.theglobaleconomy.com/Peru/house_price_index/\n",
      "https://www.theglobaleconomy.com/Philippines/house_price_index/\n",
      "https://www.theglobaleconomy.com/Poland/house_price_index/\n",
      "https://www.theglobaleconomy.com/Portugal/house_price_index/\n",
      "https://www.theglobaleconomy.com/Romania/house_price_index/\n",
      "https://www.theglobaleconomy.com/Russia/house_price_index/\n",
      "https://www.theglobaleconomy.com/Serbia/house_price_index/\n",
      "https://www.theglobaleconomy.com/Singapore/house_price_index/\n",
      "https://www.theglobaleconomy.com/Slovakia/house_price_index/\n",
      "https://www.theglobaleconomy.com/Slovenia/house_price_index/\n",
      "https://www.theglobaleconomy.com/South-Africa/house_price_index/\n",
      "https://www.theglobaleconomy.com/South-Korea/house_price_index/\n",
      "https://www.theglobaleconomy.com/Spain/house_price_index/\n",
      "https://www.theglobaleconomy.com/Sweden/house_price_index/\n",
      "https://www.theglobaleconomy.com/Switzerland/house_price_index/\n",
      "https://www.theglobaleconomy.com/Thailand/house_price_index/\n",
      "https://www.theglobaleconomy.com/Turkey/house_price_index/\n",
      "https://www.theglobaleconomy.com/USA/house_price_index/\n",
      "https://www.theglobaleconomy.com/United-Kingdom/house_price_index/\n"
     ]
    }
   ],
   "source": [
    "# 4. Mostrar resultado\n",
    "print(\"Links encontrados:\", len(country_links))\n",
    "for link in country_links:\n",
    "    print(link)"
   ]
  },
  {
   "cell_type": "code",
   "execution_count": null,
   "id": "dc4b17d7-ac2b-4917-b63e-1a8eb4fcc4f6",
   "metadata": {},
   "outputs": [],
   "source": []
  }
 ],
 "metadata": {
  "kernelspec": {
   "display_name": "Python 3 (ipykernel)",
   "language": "python",
   "name": "python3"
  },
  "language_info": {
   "codemirror_mode": {
    "name": "ipython",
    "version": 3
   },
   "file_extension": ".py",
   "mimetype": "text/x-python",
   "name": "python",
   "nbconvert_exporter": "python",
   "pygments_lexer": "ipython3",
   "version": "3.11.8"
  }
 },
 "nbformat": 4,
 "nbformat_minor": 5
}
