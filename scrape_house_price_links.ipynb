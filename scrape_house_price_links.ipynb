{
 "cells": [
  {
   "cell_type": "code",
   "execution_count": 1,
   "id": "23521d75-fc58-4741-9723-a70be7dd2a5b",
   "metadata": {},
   "outputs": [],
   "source": [
    "import requests\n",
    "from bs4 import BeautifulSoup\n",
    "import pandas as pd"
   ]
  },
  {
   "cell_type": "code",
   "execution_count": 2,
   "id": "1afba11d-4799-4985-8799-389bba814961",
   "metadata": {},
   "outputs": [],
   "source": [
    "# 1. Obtener el HTML de la página del ranking\n",
    "url = \n",
    "headers = {\n",
    "    \"User-Agent\": \"Mozilla/5.0 (Windows NT 10.0; Win64; x64) AppleWebKit/537.36 (KHTML, like Gecko) Chrome/138.0.0.0 Safari/537.36\"\n",
    "}\n",
    "\n",
    "response = requests.get(url, headers=headers)\n",
    "response.raise_for_status()  # Lanza error si la petición falla"
   ]
  },
  {
   "cell_type": "code",
   "execution_count": 3,
   "id": "ff848209-96dd-41f3-b11d-b0d4d8329a44",
   "metadata": {},
   "outputs": [],
   "source": [
    "# 2. Parsear HTML con BeautifulSoup\n",
    "soup = BeautifulSoup(response.text, \"html.parser\")"
   ]
  },
  {
   "cell_type": "code",
   "execution_count": 4,
   "id": "f4f37822-5173-4102-8a0f-ee94e20c218f",
   "metadata": {},
   "outputs": [],
   "source": [
    "# 3. Buscar la tabla principal y extraer los links\n",
    "table = soup.find(\"table\")\n",
    "country_links = []\n",
    "\n",
    "if table:\n",
    "    rows = table.find_all(\"tr\")\n",
    "    for row in rows:\n",
    "        cell = row.find(\"td\")\n",
    "        if cell and cell.a:\n",
    "            relative_link = cell.a[\"href\"]\n",
    "            full_url = f\"{relative_link}\"\n",
    "            country_links.append(full_url)"
   ]
  },
  {
   "cell_type": "code",
   "execution_count": 6,
   "id": "dc4b17d7-ac2b-4917-b63e-1a8eb4fcc4f6",
   "metadata": {},
   "outputs": [
    {
     "name": "stdout",
     "output_type": "stream",
     "text": [
      "['Australia', 'Austria', 'Belgium', 'Brazil', 'Bulgaria', 'Canada', 'Chile', 'China', 'Colombia', 'Croatia', 'Cyprus', 'Czech-Republic', 'Denmark', 'Estonia', 'Finland', 'France', 'Germany', 'Greece', 'Hong-Kong', 'Hungary', 'Iceland', 'India', 'Indonesia', 'Ireland', 'Israel', 'Italy', 'Japan', 'Latvia', 'Lithuania', 'Luxembourg', 'Macedonia', 'Malaysia', 'Malta', 'Mexico', 'Morocco', 'Netherlands', 'New-Zealand', 'Norway', 'Peru', 'Philippines', 'Poland', 'Portugal', 'Romania', 'Russia', 'Serbia', 'Singapore', 'Slovakia', 'Slovenia', 'South-Africa', 'South-Korea', 'Spain', 'Sweden', 'Switzerland', 'Thailand', 'Turkey', 'USA', 'United-Kingdom'] \n",
      "\n",
      " Cantidad de paises en la lista: 57\n"
     ]
    }
   ],
   "source": [
    "country_names = []\n",
    "\n",
    "for url in country_links:\n",
    "    # Divide el URL por '/' y toma el tercer elemento (índice 3)\n",
    "    parts = url.split('/')\n",
    "    if len(parts) > 3:\n",
    "        country = parts[3]\n",
    "        country_names.append(country)\n",
    "\n",
    "print(country_names,\"\\n\\n\",\"Cantidad de paises en la lista:\",len(country_names))"
   ]
  },
  {
   "cell_type": "code",
   "execution_count": 7,
   "id": "31c2e190-674e-467b-9f62-7aaa81895748",
   "metadata": {},
   "outputs": [],
   "source": [
    "df_countries = pd.DataFrame(country_names, columns=['country'])"
   ]
  },
  {
   "cell_type": "code",
   "execution_count": 9,
   "id": "9cde3997-2514-4ec9-8e32-cfb0b5127e21",
   "metadata": {},
   "outputs": [],
   "source": [
    "# export in parquet file\n",
    "df_countries.to_parquet(\"countries_with_hpi.parquet\", index=False)"
   ]
  }
 ],
 "metadata": {
  "kernelspec": {
   "display_name": "Python 3 (ipykernel)",
   "language": "python",
   "name": "python3"
  },
  "language_info": {
   "codemirror_mode": {
    "name": "ipython",
    "version": 3
   },
   "file_extension": ".py",
   "mimetype": "text/x-python",
   "name": "python",
   "nbconvert_exporter": "python",
   "pygments_lexer": "ipython3",
   "version": "3.11.8"
  }
 },
 "nbformat": 4,
 "nbformat_minor": 5
}
